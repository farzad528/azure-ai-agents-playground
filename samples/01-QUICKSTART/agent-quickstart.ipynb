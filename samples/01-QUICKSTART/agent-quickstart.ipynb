{
 "cells": [
  {
   "cell_type": "markdown",
   "metadata": {},
   "source": [
    "# Azure AI Agents Playground: Setup from Scratch (0 to 1) - Using Azure SDK\n",
    "\n",
    "Welcome to your Azure AI Agents Playground! This notebook will guide you through setting up your first Azure AI Agent from complete scratch using the Azure Management Libraries for Python (Azure SDK).\n",
    "\n",
    "**What we'll cover:**\n",
    "\n",
    "1.  **Prerequisites:**  Tools and libraries you'll need.\n",
    "2.  **Resource Group Setup:** Organizing your Azure resources using Azure SDK.\n",
    "3.  **Bicep Template: The Resource Foundry:**  Defining our Azure AI Agent Service infrastructure with Bicep.\n",
    "4.  **Deploying the Bicep Template:**  Creating the resources in Azure using Azure SDK.\n",
    "5.  **Next Steps:** Where to go from here and how to explore your agent playground.\n",
    "\n",
    "**Goal:** By the end of this notebook, you'll have a foundational Azure AI Agent Service instance ready for you to build upon in your `azure-ai-agents-playground` repository, all managed through Python code using the Azure SDK."
   ]
  },
  {
   "cell_type": "markdown",
   "metadata": {},
   "source": [
    "## 1. Prerequisites\n",
    "\n",
    "Before we begin, make sure you have the following:\n",
    "\n",
    "*   **Azure Subscription:** You'll need an active Azure subscription. If you don't have one, you can [create a free Azure account](https://azure.microsoft.com/free/).\n",
    "*   **Python Environment:**  Python 3.8 or later is recommended.\n",
    "*   **Jupyter Notebook:**  You are already here! If you need to install it, follow the instructions [here](https://jupyter.org/install).\n",
    "*   **Azure CLI (Optional, for initial authentication):** While we'll be using the Azure SDK for resource creation, having Azure CLI installed can simplify initial authentication to Azure from your local environment. Instructions can be found [here](https://docs.microsoft.com/cli/azure/install-azure-cli).\n",
    "*   **Bicep Extension for VS Code (Recommended):** Using VS Code with the Bicep extension will greatly enhance your experience when working with the Bicep template. Get it [here](https://marketplace.visualstudio.com/items?itemName=ms-azuretools.vscode-bicep).\n",
    "\n",
    "**Install Azure Management Libraries:**\n",
    "\n",
    "Run the following command to install the necessary Azure SDK libraries:\n",
    "\n",
    "\n",
    "![Console CLI](../../data/img/01-1.png)\n",
    "\n",
    "```python\n",
    "!pip install azure-mgmt-resource azure-identity"
   ]
  },
  {
   "cell_type": "code",
   "execution_count": null,
   "metadata": {},
   "outputs": [],
   "source": [
    "!pip install azure-mgmt-resource azure-identity"
   ]
  },
  {
   "cell_type": "markdown",
   "metadata": {},
   "source": [
    "## 2. Authentication\n",
    "\n",
    "To interact with Azure, we need to authenticate. We'll use `DefaultAzureCredential` from the `azure-identity` library, which intelligently handles authentication in various environments (e.g., your local machine using Azure CLI credentials, or Managed Identity within Azure).\n",
    "\n",
    "**Action:**\n",
    "\n",
    "Replace the placeholder `YOUR_AZURE_SUBSCRIPTION_ID` with your actual Azure Subscription ID. You can find your Subscription ID in the [Azure Portal](https://portal.azure.com) by searching for 'Subscriptions'."
   ]
  },
  {
   "cell_type": "code",
   "execution_count": 2,
   "metadata": {},
   "outputs": [],
   "source": [
    "from azure.identity import DefaultAzureCredential\n",
    "from azure.mgmt.resource import ResourceManagementClient\n",
    "\n",
    "# Authenticate using DefaultAzureCredential\n",
    "credential = DefaultAzureCredential()\n",
    "\n",
    "# Replace with your subscription ID\n",
    "subscription_id = \"ee787b9b-a25f-4d20-86e9-45fcea5253dd\"  #  <----  IMPORTANT:  REPLACE THIS!\n",
    "\n",
    "# Create Resource Management Client\n",
    "resource_client = ResourceManagementClient(credential, subscription_id)"
   ]
  },
  {
   "cell_type": "markdown",
   "metadata": {},
   "source": [
    "## 3. Resource Group Setup\n",
    "\n",
    "Azure resources are organized into Resource Groups. We'll create a dedicated Resource Group for our Azure AI Agent Playground using the Azure SDK.\n",
    "\n",
    "**Naming Convention:**\n",
    "\n",
    "We'll use an intuitive naming convention for our Resource Group:\n",
    "`rg-<environment>-<purpose>-<location_abbrev>`\n",
    "\n",
    "For example, if you are creating a development environment in West US 2 for your AI Agents Playground, the Resource Group name would be:\n",
    "`rg-dev-ai-agents-playground-westus2`\n",
    "\n",
    "**Action:**\n",
    "\n",
    "Replace the placeholders below with your desired values and run the cell to create your Resource Group using the Azure SDK."
   ]
  },
  {
   "cell_type": "code",
   "execution_count": 5,
   "metadata": {},
   "outputs": [
    {
     "name": "stdout",
     "output_type": "stream",
     "text": [
      "Resource Group 'rg-dev-ai-agents-playground-eastus2' created successfully in 'eastus2'.\n",
      "\n",
      "Resource Group Details:\n",
      "{'additional_properties': {}, 'id': '/subscriptions/ee787b9b-a25f-4d20-86e9-45fcea5253dd/resourceGroups/rg-dev-ai-agents-playground-eastus2', 'name': 'rg-dev-ai-agents-playground-eastus2', 'type': 'Microsoft.Resources/resourceGroups', 'properties': <azure.mgmt.resource.resources.v2022_09_01.models._models_py3.ResourceGroupProperties object at 0x000001F41F93E850>, 'location': 'eastus2', 'managed_by': None, 'tags': None}\n"
     ]
    }
   ],
   "source": [
    "resource_group_name = \"rg-dev-ai-agents-playground-eastus2\"  # Example name\n",
    "resource_group_location = \"eastus2\"  # Example location (e.g., westus2, eastus, uksouth)\n",
    "\n",
    "from azure.mgmt.resource.resources.models import ResourceGroup\n",
    "\n",
    "# Define the Resource Group parameters\n",
    "resource_group_params = ResourceGroup(location=resource_group_location)\n",
    "\n",
    "try:\n",
    "    # Create the Resource Group\n",
    "    rg_result = resource_client.resource_groups.create_or_update(\n",
    "        resource_group_name, resource_group_params\n",
    "    )\n",
    "    print(f\"Resource Group '{resource_group_name}' created successfully in '{resource_group_location}'.\")\n",
    "    print(f\"\\nResource Group Details:\\n{rg_result}\")  # Print Resource Group details (optional)\n",
    "\n",
    "except Exception as e:\n",
    "    print(f\"Error creating Resource Group '{resource_group_name}':\")\n",
    "    print(e)"
   ]
  },
  {
   "cell_type": "code",
   "execution_count": null,
   "metadata": {},
   "outputs": [],
   "source": []
  },
  {
   "cell_type": "markdown",
   "metadata": {},
   "source": [
    "## 4. Bicep Template: The Resource Foundry\n",
    "\n",
    "We'll use the same Bicep template (`main.bicep`) as before to define our Azure AI Agent Service infrastructure.  Bicep provides a declarative way to define your Azure resources.\n",
    "\n",
    "**Our Bicep Template (`main.bicep`):**\n"
   ]
  },
  {
   "cell_type": "markdown",
   "metadata": {},
   "source": [
    "## 5. Deploying the Bicep Template using Azure SDK\n",
    "\n",
    "Now we'll deploy the Bicep template to create the Azure AI Agent Service in your Resource Group, this time using the Azure SDK for Python.\n",
    "\n",
    "**Action:**\n",
    "\n",
    "Run the cell below to deploy the `main.bicep` template using Azure SDK.  Make sure `main.bicep` is in the same directory as your Jupyter Notebook.\n",
    "\n",
    "**Important:** Ensure the `resource_group_name` variable in the code below matches the name of the Resource Group you created in step 3."
   ]
  },
  {
   "cell_type": "code",
   "execution_count": null,
   "metadata": {},
   "outputs": [
    {
     "name": "stderr",
     "output_type": "stream",
     "text": [
      "template_content is not a known attribute of class <class 'azure.mgmt.resource.resources.v2022_09_01.models._models_py3.DeploymentProperties'> and will be ignored\n"
     ]
    },
    {
     "name": "stdout",
     "output_type": "stream",
     "text": [
      "Error deploying Bicep template using Azure SDK:\n",
      "(InvalidDeployment) The deployment 'bicepDeployment-rg-dev-ai-agents-playground-westus2' must have either the TemplateLink or Template property set. Please see https://aka.ms/arm-module for usage details.\n",
      "Code: InvalidDeployment\n",
      "Message: The deployment 'bicepDeployment-rg-dev-ai-agents-playground-westus2' must have either the TemplateLink or Template property set. Please see https://aka.ms/arm-module for usage details.\n"
     ]
    }
   ],
   "source": [
    "resource_group_name = \"rg-dev-ai-agents-playground-eastus2\" # Ensure this matches your Resource Group name!\n",
    "\n",
    "import json\n",
    "from azure.mgmt.resource.resources.models import Deployment, DeploymentProperties, TemplateLink\n",
    "\n",
    "# 1. Read Bicep template content\n",
    "with open(\"main.bicep\", \"r\") as f:\n",
    "    bicep_template_content = f.read() # Read Bicep as string content\n",
    "\n",
    "# 2. Define deployment parameters\n",
    "deployment_name = \"bicepDeployment-\" + resource_group_name # Unique deployment name\n",
    "template_parameters = {\n",
    "    \"resourceGroupName\": {\"value\": resource_group_name} # Pass Resource Group name as parameter\n",
    "}\n",
    "\n",
    "deployment_properties = DeploymentProperties(\n",
    "    template_content=bicep_template_content, # Use loaded Bicep content as string\n",
    "    parameters=template_parameters,\n",
    "    mode=\"Incremental\" # or \"Complete\" deployment mode as needed\n",
    ")\n",
    "\n",
    "deployment = Deployment(properties=deployment_properties)\n",
    "\n",
    "\n",
    "try:\n",
    "    # 3. Deploy the Bicep template using Resource Management Client\n",
    "    deployment_result_poller = resource_client.deployments.begin_create_or_update(\n",
    "        resource_group_name, deployment_name, deployment\n",
    "    )\n",
    "    deployment_result = deployment_result_poller.result()  # Wait for deployment to complete\n",
    "\n",
    "    print(\"\\nBicep template deployed successfully using Azure SDK!\\n\")\n",
    "    # Print deployment details (optional)\n",
    "    # print(f\"Deployment Details:\\n{deployment_result}\")\n",
    "\n",
    "    # Extract and print outputs from the deployment (if any)\n",
    "    if deployment_result.properties and deployment_result.properties.outputs:\n",
    "        outputs = deployment_result.properties.outputs\n",
    "        print(\"\\nDeployment Outputs:\")\n",
    "        for output_name, output_value in outputs.items():\n",
    "            print(f\"  {output_name}: {output_value['value']}\")\n",
    "\n",
    "\n",
    "except Exception as e:\n",
    "    print(f\"Error deploying Bicep template using Azure SDK:\")\n",
    "    print(e)"
   ]
  }
 ],
 "metadata": {
  "kernelspec": {
   "display_name": ".venv",
   "language": "python",
   "name": "python3"
  },
  "language_info": {
   "codemirror_mode": {
    "name": "ipython",
    "version": 3
   },
   "file_extension": ".py",
   "mimetype": "text/x-python",
   "name": "python",
   "nbconvert_exporter": "python",
   "pygments_lexer": "ipython3",
   "version": "3.13.2"
  }
 },
 "nbformat": 4,
 "nbformat_minor": 2
}
