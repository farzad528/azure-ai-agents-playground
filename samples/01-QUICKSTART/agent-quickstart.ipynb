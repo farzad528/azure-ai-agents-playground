{
 "cells": [
  {
   "cell_type": "code",
   "execution_count": null,
   "metadata": {},
   "outputs": [],
   "source": [
    "!pip install -r requirements.txt"
   ]
  },
  {
   "cell_type": "code",
   "execution_count": 13,
   "metadata": {},
   "outputs": [
    {
     "name": "stdout",
     "output_type": "stream",
     "text": [
      "ASSISTANT: In the context of Azure AI Search (AZS), \"BQ\" stands for Binary Quantization. It is a method used to compress high-dimensional vectors by representing each component of the vector as a single bit, either 0 or 1. This significantly reduces the memory footprint and speeds up vector comparison operations, which is vital for tasks such as search and retrieval【3:0†source】.\n",
      "USER: BQ means what in AZS?\n"
     ]
    }
   ],
   "source": [
    "from azure.identity import AzureCliCredential\n",
    "from azure.ai.projects import AIProjectClient\n",
    "from azure.ai.projects.models import AzureAISearchTool\n",
    "from dotenv import load_dotenv\n",
    "import os\n",
    "\n",
    "load_dotenv()\n",
    "\n",
    "# CONNECTION_STRING = \"<HostName>; <AzureSubscriptionId>; <ResourceGroup>; <HubName>\"\n",
    "CONNECTION_STRING=os.getenv(\"AZURE_CONNECTION_STRING\")\n",
    "SEARCH_CONNECTION_NAME = os.getenv(\"AI_SEARCH_CONNECTION_NAME\") # Your search connection name\n",
    "SEARCH_INDEX_NAME = os.getenv(\"AI_SEARCH_INDEX_NAME\") # Your search index name\n",
    "\n",
    "client = AIProjectClient.from_connection_string(\n",
    "credential=AzureCliCredential(),\n",
    "conn_str=CONNECTION_STRING,\n",
    ")\n",
    "\n",
    "conn_id = next(c.id for c in client.connections.list() if c.name == SEARCH_CONNECTION_NAME)\n",
    "\n",
    "search_tool = AzureAISearchTool(\n",
    "    index_connection_id=conn_id,\n",
    "    index_name=SEARCH_INDEX_NAME\n",
    ")\n",
    "\n",
    "agent = client.agents.create_agent(\n",
    "    model=\"gpt-4o-mini\", # Model Deployment Name\n",
    "    name=\"my-assistant\",\n",
    "    instructions=\"You are a helpful assistant that answers questions using Azure AI Search docs\",\n",
    "    tools=search_tool.definitions,\n",
    "    tool_resources=search_tool.resources,\n",
    ")\n",
    "\n",
    "thread = client.agents.create_thread()\n",
    "\n",
    "client.agents.create_message(\n",
    "    thread_id=thread.id,\n",
    "    role=\"user\",\n",
    "    content=\"BQ means what in AZS?\",\n",
    ")\n",
    "\n",
    "client.agents.create_and_process_run(\n",
    "    thread_id=thread.id,\n",
    "    assistant_id=agent.id,\n",
    ")\n",
    "\n",
    "messages = client.agents.list_messages(thread_id=thread.id)\n",
    "for message in messages['data']:\n",
    "    role = message['role'].upper()\n",
    "    content = \"\"\n",
    "    for content_item in message.get(\"content\", []):\n",
    "        content = content_item.get(\"text\", {}).get(\"value\", \"\")\n",
    "    print(f\"{role}: {content}\")"
   ]
  }
 ],
 "metadata": {
  "kernelspec": {
   "display_name": ".venv",
   "language": "python",
   "name": "python3"
  },
  "language_info": {
   "codemirror_mode": {
    "name": "ipython",
    "version": 3
   },
   "file_extension": ".py",
   "mimetype": "text/x-python",
   "name": "python",
   "nbconvert_exporter": "python",
   "pygments_lexer": "ipython3",
   "version": "3.13.2"
  }
 },
 "nbformat": 4,
 "nbformat_minor": 2
}
