{
 "cells": [
  {
   "cell_type": "code",
   "execution_count": null,
   "metadata": {},
   "outputs": [],
   "source": [
    "!pip install -r requirements.txt"
   ]
  },
  {
   "cell_type": "markdown",
   "metadata": {},
   "source": [
    "## Step 1: Setup & Imports\n",
    "\n",
    "\n",
    "In this step we import required libraries, set our configuration variables (preferably via environment variables), and initialize the OpenAI client using the AzureOpenAI library."
   ]
  },
  {
   "cell_type": "code",
   "execution_count": 11,
   "metadata": {},
   "outputs": [],
   "source": [
    "\n",
    "import os\n",
    "import json\n",
    "import requests\n",
    "from rich.console import Console\n",
    "from rich.panel import Panel\n",
    "\n",
    "# Azure OpenAI configuration\n",
    "AZURE_OPENAI_API_KEY = os.getenv(\"AZURE_OPENAI_API_KEY\", \"your-azure-openai-api-key\")\n",
    "AZURE_OPENAI_API_VERSION = os.getenv(\"AZURE_OPENAI_API_VERSION\", \"2024-10-21\")\n",
    "AZURE_OPENAI_ENDPOINT = os.getenv(\"AZURE_OPENAI_ENDPOINT\", \"https://your-azure-openai-endpoint.openai.azure.com/\")\n",
    "AZURE_OPENAI_CHAT_COMPLETION_DEPLOYED_MODEL_NAME = os.getenv(\"AZURE_OPENAI_CHAT_COMPLETION_DEPLOYED_MODEL_NAME\", \"gpt-4o\")  # update as needed\n",
    "\n",
    "# Azure AI Search configuration\n",
    "AZURE_SEARCH_ENDPOINT = os.getenv(\"AZURE_SEARCH_SERVICE_ENDPOINT\", \"https://your-search-service.search.windows.net\")\n",
    "AZURE_SEARCH_KEY = os.getenv(\"AZURE_SEARCH_ADMIN_KEY\", \"your-azure-search-key\")\n",
    "SEARCH_INDEX_NAME = \"fifa-legal-handbook\"\n",
    "\n",
    "# Bing Search configuration\n",
    "BING_SEARCH_API_KEY = os.getenv(\"BING_SEARCH_API_KEY\", \"your-bing-search-api-key\")\n",
    "BING_SEARCH_ENDPOINT = \"https://api.bing.microsoft.com/v7.0/search\"\n",
    "\n",
    "# Import Azure libraries for search\n",
    "from azure.search.documents import SearchClient\n",
    "from azure.core.credentials import AzureKeyCredential\n",
    "from azure.search.documents.models import VectorizableTextQuery\n",
    "\n",
    "# Import Azure OpenAI client\n",
    "from openai import AzureOpenAI\n",
    "\n",
    "console = Console()"
   ]
  },
  {
   "cell_type": "code",
   "execution_count": 12,
   "metadata": {},
   "outputs": [],
   "source": [
    "# Initialize the Azure OpenAI client\n",
    "openai_client = AzureOpenAI(\n",
    "    api_key=AZURE_OPENAI_API_KEY,\n",
    "    api_version=AZURE_OPENAI_API_VERSION,\n",
    "    azure_endpoint=AZURE_OPENAI_ENDPOINT,\n",
    ")"
   ]
  },
  {
   "cell_type": "markdown",
   "metadata": {},
   "source": [
    "## Step 2: Define Search Functions\n",
    " Here we define two functions:\n",
    "\n",
    "1. **search_azure_ai(query: str)**: Uses the `azure-search-documents` library to search the private index \"fifa-legal-handbook\".\n",
    "2. **search_bing(query: str)**: Uses the `requests` library to call the Bing Search API."
   ]
  },
  {
   "cell_type": "code",
   "execution_count": null,
   "metadata": {},
   "outputs": [],
   "source": [
    "def search_azure_ai_search(query: str) -> str:\n",
    "    \"\"\"\n",
    "    Searches the Azure AI Search index 'fifa-legal-handbook' using a hybrid semantic approach.\n",
    "    This function retrieves legal rules, regulations, and disciplinary information from the FIFA Legal Handbook.\n",
    "    Intended for assisting FIFA referees with queries about legal guidelines.\n",
    "    \"\"\"\n",
    "    credential = AzureKeyCredential(AZURE_SEARCH_KEY)\n",
    "    client = SearchClient(\n",
    "        endpoint=AZURE_SEARCH_ENDPOINT,\n",
    "        index_name=SEARCH_INDEX_NAME,\n",
    "        credential=credential,\n",
    "    )\n",
    "\n",
    "    results = client.search(\n",
    "        search_text=query,\n",
    "        vector_queries=[\n",
    "            VectorizableTextQuery(\n",
    "                text=query, k_nearest_neighbors=50, fields=\"text_vector\"\n",
    "            )\n",
    "        ],  # Update with your fields\n",
    "        query_type=\"semantic\",\n",
    "        semantic_configuration_name=\"default\",  # Update with your semantic configuration\n",
    "        search_fields=[\"chunk\"],  # Update with your content field name\n",
    "        top=50,\n",
    "        include_total_count=True,\n",
    "    )\n",
    "\n",
    "    retrieved_texts = []\n",
    "    for result in results:\n",
    "        content = result.get(\"chunk\", \"\")\n",
    "        retrieved_texts.append(content)\n",
    "\n",
    "    context_str = (\n",
    "        \"\\n\".join(retrieved_texts) if retrieved_texts else \"No documents found.\"\n",
    "    )\n",
    "    console.print(\n",
    "        Panel(f\"Tool Invoked: Azure AI Search\\nQuery: {query}\", style=\"bold yellow\")\n",
    "    )\n",
    "    return context_str\n",
    "\n",
    "\n",
    "def search_bing(query: str) -> str:\n",
    "    \"\"\"\n",
    "    Searches Bing using the Bing Search API.\n",
    "    Returns a concatenated string of result snippets.\n",
    "    \"\"\"\n",
    "    headers = {\"Ocp-Apim-Subscription-Key\": BING_SEARCH_API_KEY}\n",
    "    params = {\"q\": query, \"textDecorations\": True, \"textFormat\": \"Raw\"}\n",
    "    response = requests.get(BING_SEARCH_ENDPOINT, headers=headers, params=params)\n",
    "\n",
    "    if response.status_code == 200:\n",
    "        data = response.json()\n",
    "        if \"webPages\" in data and \"value\" in data[\"webPages\"]:\n",
    "            snippets = [item.get(\"snippet\", \"\") for item in data[\"webPages\"][\"value\"]]\n",
    "            result_text = \"\\n\".join(snippets)\n",
    "        else:\n",
    "            result_text = \"No Bing results found.\"\n",
    "    else:\n",
    "        result_text = f\"Bing search failed with status code {response.status_code}.\"\n",
    "\n",
    "    console.print(\n",
    "        Panel(f\"Tool Invoked: Bing Search\\nQuery: {query}\", style=\"bold magenta\")\n",
    "    )\n",
    "    return result_text"
   ]
  },
  {
   "cell_type": "code",
   "execution_count": 34,
   "metadata": {},
   "outputs": [
    {
     "data": {
      "text/html": [
       "<pre style=\"white-space:pre;overflow-x:auto;line-height:normal;font-family:Menlo,'DejaVu Sans Mono',consolas,'Courier New',monospace\"><span style=\"color: #808000; text-decoration-color: #808000; font-weight: bold\">╭─────────────────────────────────────────────────────────────────────────────────────────────────────────────────╮</span>\n",
       "<span style=\"color: #808000; text-decoration-color: #808000; font-weight: bold\">│ Tool Invoked: Azure AI Search                                                                                   │</span>\n",
       "<span style=\"color: #808000; text-decoration-color: #808000; font-weight: bold\">│ Query: What are the FIFA disciplinary rules for match-fixing?                                                   │</span>\n",
       "<span style=\"color: #808000; text-decoration-color: #808000; font-weight: bold\">╰─────────────────────────────────────────────────────────────────────────────────────────────────────────────────╯</span>\n",
       "</pre>\n"
      ],
      "text/plain": [
       "\u001b[1;33m╭─────────────────────────────────────────────────────────────────────────────────────────────────────────────────╮\u001b[0m\n",
       "\u001b[1;33m│\u001b[0m\u001b[1;33m \u001b[0m\u001b[1;33mTool Invoked: Azure AI Search\u001b[0m\u001b[1;33m                                                                                  \u001b[0m\u001b[1;33m \u001b[0m\u001b[1;33m│\u001b[0m\n",
       "\u001b[1;33m│\u001b[0m\u001b[1;33m \u001b[0m\u001b[1;33mQuery: What are the FIFA disciplinary rules for match-fixing?\u001b[0m\u001b[1;33m                                                  \u001b[0m\u001b[1;33m \u001b[0m\u001b[1;33m│\u001b[0m\n",
       "\u001b[1;33m╰─────────────────────────────────────────────────────────────────────────────────────────────────────────────────╯\u001b[0m\n"
      ]
     },
     "metadata": {},
     "output_type": "display_data"
    },
    {
     "data": {
      "text/html": [
       "<pre style=\"white-space:pre;overflow-x:auto;line-height:normal;font-family:Menlo,'DejaVu Sans Mono',consolas,'Courier New',monospace\"><span style=\"color: #c0c0c0; text-decoration-color: #c0c0c0; font-weight: bold\">╭───────────────────────────────</span><span style=\"color: #c0c0c0; text-decoration-color: #c0c0c0\"> Azure AI Search Test Output (FIFA Legal Handbook) </span><span style=\"color: #c0c0c0; text-decoration-color: #c0c0c0; font-weight: bold\">───────────────────────────────╮</span>\n",
       "<span style=\"color: #c0c0c0; text-decoration-color: #c0c0c0; font-weight: bold\">│</span><span style=\"color: #008080; text-decoration-color: #008080; font-weight: bold\"> with, among others, the principles of sporting integrity                                                        </span><span style=\"color: #c0c0c0; text-decoration-color: #c0c0c0; font-weight: bold\">│</span>\n",
       "<span style=\"color: #c0c0c0; text-decoration-color: #c0c0c0; font-weight: bold\">│</span><span style=\"color: #008080; text-decoration-color: #008080; font-weight: bold\"> and fair play.                                                                                                  </span><span style=\"color: #c0c0c0; text-decoration-color: #c0c0c0; font-weight: bold\">│</span>\n",
       "<span style=\"color: #c0c0c0; text-decoration-color: #c0c0c0; font-weight: bold\">│</span><span style=\"color: #008080; text-decoration-color: #008080; font-weight: bold\">                                                                                                                 </span><span style=\"color: #c0c0c0; text-decoration-color: #c0c0c0; font-weight: bold\">│</span>\n",
       "<span style=\"color: #c0c0c0; text-decoration-color: #c0c0c0; font-weight: bold\">│</span><span style=\"color: #008080; text-decoration-color: #008080; font-weight: bold\"> This work encompasses the fight against match-fixing, the use of doping and any other forms                     </span><span style=\"color: #c0c0c0; text-decoration-color: #c0c0c0; font-weight: bold\">│</span>\n",
       "<span style=\"color: #c0c0c0; text-decoration-color: #c0c0c0; font-weight: bold\">│</span><span style=\"color: #008080; text-decoration-color: #008080; font-weight: bold\"> of cheating in sport, alongside the strengthening of ethics with improvements in transparency,                  </span><span style=\"color: #c0c0c0; text-decoration-color: #c0c0c0; font-weight: bold\">│</span>\n",
       "<span style=\"color: #c0c0c0; text-decoration-color: #c0c0c0; font-weight: bold\">│</span><span style=\"color: #008080; text-decoration-color: #008080; font-weight: bold\"> good governance and accountability.                                                                             </span><span style=\"color: #c0c0c0; text-decoration-color: #c0c0c0; font-weight: bold\">│</span>\n",
       "<span style=\"color: #c0c0c0; text-decoration-color: #c0c0c0; font-weight: bold\">│</span><span style=\"color: #008080; text-decoration-color: #008080; font-weight: bold\">                                                                                                                 </span><span style=\"color: #c0c0c0; text-decoration-color: #c0c0c0; font-weight: bold\">│</span>\n",
       "<span style=\"color: #c0c0c0; text-decoration-color: #c0c0c0; font-weight: bold\">│</span><span style=\"color: #008080; text-decoration-color: #008080; font-weight: bold\"> The  is committed to promoting and upholding the integrity of                                                   </span><span style=\"color: #c0c0c0; text-decoration-color: #c0c0c0; font-weight: bold\">│</span>\n",
       "<span style=\"color: #c0c0c0; text-decoration-color: #c0c0c0; font-weight: bold\">│</span><span style=\"color: #008080; text-decoration-color: #008080; font-weight: bold\"> our sport across the whole football family. We stand for integrity in football, for a sport you can             </span><span style=\"color: #c0c0c0; text-decoration-color: #c0c0c0; font-weight: bold\">│</span>\n",
       "<span style=\"color: #c0c0c0; text-decoration-color: #c0c0c0; font-weight: bold\">│</span><span style=\"color: #008080; text-decoration-color: #008080; font-weight: bold\"> trust. Having clean competitions is our greatest asset. Matches should be decided on the football               </span><span style=\"color: #c0c0c0; text-decoration-color: #c0c0c0; font-weight: bold\">│</span>\n",
       "<span style=\"color: #c0c0c0; text-decoration-color: #c0c0c0; font-weight: bold\">│</span><span style=\"color: #008080; text-decoration-color: #008080; font-weight: bold\"> pitch, not on the gambling market.                                                                              </span><span style=\"color: #c0c0c0; text-decoration-color: #c0c0c0; font-weight: bold\">│</span>\n",
       "<span style=\"color: #c0c0c0; text-decoration-color: #c0c0c0; font-weight: bold\">│</span><span style=\"color: #008080; text-decoration-color: #008080; font-weight: bold\">                                                                                                                 </span><span style=\"color: #c0c0c0; text-decoration-color: #c0c0c0; font-weight: bold\">│</span>\n",
       "<span style=\"color: #c0c0c0; text-decoration-color: #c0c0c0; font-weight: bold\">│</span><span style=\"color: #008080; text-decoration-color: #008080; font-weight: bold\"> Match-fixing is an intentional arrangement, act or omission aimed at an improper alteration of the              </span><span style=\"color: #c0c0c0; text-decoration-color: #c0c0c0; font-weight: bold\">│</span>\n",
       "<span style=\"color: #c0c0c0; text-decoration-color: #c0c0c0; font-weight: bold\">│</span><span style=\"color: #008080; text-decoration-color: #008080; font-weight: bold\"> result or the course of a sports competition in order to remove all or part of the unpredictable                </span><span style=\"color: #c0c0c0; text-decoration-color: #c0c0c0; font-weight: bold\">│</span>\n",
       "<span style=\"color: #c0c0c0; text-decoration-color: #c0c0c0; font-weight: bold\">│</span><span style=\"color: #008080; text-decoration-color: #008080; font-weight: bold\"> nature of the sports competition with a view to obtaining an undue benefit. This is against the                 </span><span style=\"color: #c0c0c0; text-decoration-color: #c0c0c0; font-weight: bold\">│</span>\n",
       "<span style=\"color: #c0c0c0; text-decoration-color: #c0c0c0; font-weight: bold\">│</span><span style=\"color: #008080; text-decoration-color: #008080; font-weight: bold\"> rules of the game and often the law. We want to preserve what is great in the beautiful game                    </span><span style=\"color: #c0c0c0; text-decoration-color: #c0c0c0; font-weight: bold\">│</span>\n",
       "<span style=\"color: #c0c0c0; text-decoration-color: #c0c0c0; font-weight: bold\">│</span><span style=\"color: #008080; text-decoration-color: #008080; font-weight: bold\"> and have devised rules regarding betting in football to help protect the integrity and future of                </span><span style=\"color: #c0c0c0; text-decoration-color: #c0c0c0; font-weight: bold\">│</span>\n",
       "<span style=\"color: #c0c0c0; text-decoration-color: #c0c0c0; font-weight: bold\">│</span><span style=\"color: #008080; text-decoration-color: #008080; font-weight: bold\"> football. These rules apply to everyone involved in football.                                                   </span><span style=\"color: #c0c0c0; text-decoration-color: #c0c0c0; font-weight: bold\">│</span>\n",
       "<span style=\"color: #c0c0c0; text-decoration-color: #c0c0c0; font-weight: bold\">│</span><span style=\"color: #008080; text-decoration-color: #008080; font-weight: bold\">                                                                                                                 </span><span style=\"color: #c0c0c0; text-decoration-color: #c0c0c0; font-weight: bold\">│</span>\n",
       "<span style=\"color: #c0c0c0; text-decoration-color: #c0c0c0; font-weight: bold\">│</span><span style=\"color: #008080; text-decoration-color: #008080; font-weight: bold\"> Our disciplinary bodies are responsible for ensuring that these fundamental principles of football are          </span><span style=\"color: #c0c0c0; text-decoration-color: #c0c0c0; font-weight: bold\">│</span>\n",
       "<span style=\"color: #c0c0c0; text-decoration-color: #c0c0c0; font-weight: bold\">│</span><span style=\"color: #008080; text-decoration-color: #008080; font-weight: bold\"> respected and help to promote integrity in sport. Therefore, we will always adopt a zero-tolerance              </span><span style=\"color: #c0c0c0; text-decoration-color: #c0c0c0; font-weight: bold\">│</span>\n",
       "<span style=\"color: #c0c0c0; text-decoration-color: #c0c0c0; font-weight: bold\">│</span><span style=\"color: #008080; text-decoration-color: #008080; font-weight: bold\"> policy to match-fixing. We have opted for a combined repressive and preventive approach                         </span><span style=\"color: #c0c0c0; text-decoration-color: #c0c0c0; font-weight: bold\">│</span>\n",
       "<span style=\"color: #c0c0c0; text-decoration-color: #c0c0c0; font-weight: bold\">│</span><span style=\"color: #008080; text-decoration-color: #008080; font-weight: bold\"> comprising a wide range of actions and measures. If you attempt match-fixing, breach the  betting rules, or     </span><span style=\"color: #c0c0c0; text-decoration-color: #c0c0c0; font-weight: bold\">│</span>\n",
       "<span style=\"color: #c0c0c0; text-decoration-color: #c0c0c0; font-weight: bold\">│</span><span style=\"color: #008080; text-decoration-color: #008080; font-weight: bold\"> pass on inside information, you are likely to get caught                                                        </span><span style=\"color: #c0c0c0; text-decoration-color: #c0c0c0; font-weight: bold\">│</span>\n",
       "<span style=\"color: #c0c0c0; text-decoration-color: #c0c0c0; font-weight: bold\">│</span><span style=\"color: #008080; text-decoration-color: #008080; font-weight: bold\"> and be charged.                                                                                                 </span><span style=\"color: #c0c0c0; text-decoration-color: #c0c0c0; font-weight: bold\">│</span>\n",
       "<span style=\"color: #c0c0c0; text-decoration-color: #c0c0c0; font-weight: bold\">│</span><span style=\"color: #008080; text-decoration-color: #008080; font-weight: bold\">                                                                                                                 </span><span style=\"color: #c0c0c0; text-decoration-color: #c0c0c0; font-weight: bold\">│</span>\n",
       "<span style=\"color: #c0c0c0; text-decoration-color: #c0c0c0; font-weight: bold\">│</span><span style=\"color: #008080; text-decoration-color: #008080; font-weight: bold\"> To support this, we have a set of rules to which all club officials, players, match officials and  staff must   </span><span style=\"color: #c0c0c0; text-decoration-color: #c0c0c0; font-weight: bold\">│</span>\n",
       "<span style=\"color: #c0c0c0; text-decoration-color: #c0c0c0; font-weight: bold\">│</span><span style=\"color: #008080; text-decoration-color: #008080; font-weight: bold\"> adhere. These rules apply to betting, the use of inside information                                             </span><span style=\"color: #c0c0c0; text-decoration-color: #c0c0c0; font-weight: bold\">│</span>\n",
       "<span style=\"color: #c0c0c0; text-decoration-color: #c0c0c0; font-weight: bold\">│</span><span style=\"color: #008080; text-decoration-color: #008080; font-weight: bold\"> and match manipulation. The rules help ensure that any individual involved in a football match                  </span><span style=\"color: #c0c0c0; text-decoration-color: #c0c0c0; font-weight: bold\">│</span>\n",
       "<span style=\"color: #c0c0c0; text-decoration-color: #c0c0c0; font-weight: bold\">╰─────────────────────────────────────────────────────────────────────────────────────────────────────────────────╯</span>\n",
       "</pre>\n"
      ],
      "text/plain": [
       "\u001b[1;37m╭─\u001b[0m\u001b[1;37m──────────────────────────────\u001b[0m\u001b[37m Azure AI Search Test Output (FIFA Legal Handbook) \u001b[0m\u001b[1;37m──────────────────────────────\u001b[0m\u001b[1;37m─╮\u001b[0m\n",
       "\u001b[1;37m│\u001b[0m\u001b[1;36m \u001b[0m\u001b[1;36mwith, among others, the principles of sporting integrity \u001b[0m\u001b[1;36m                                                      \u001b[0m\u001b[1;36m \u001b[0m\u001b[1;37m│\u001b[0m\n",
       "\u001b[1;37m│\u001b[0m\u001b[1;36m \u001b[0m\u001b[1;36mand fair play.\u001b[0m\u001b[1;36m                                                                                                 \u001b[0m\u001b[1;36m \u001b[0m\u001b[1;37m│\u001b[0m\n",
       "\u001b[1;37m│\u001b[0m\u001b[1;36m \u001b[0m\u001b[1;36m                                                                                                               \u001b[0m\u001b[1;36m \u001b[0m\u001b[1;37m│\u001b[0m\n",
       "\u001b[1;37m│\u001b[0m\u001b[1;36m \u001b[0m\u001b[1;36mThis work encompasses the fight against match-fixing, the use of doping and any other forms \u001b[0m\u001b[1;36m                   \u001b[0m\u001b[1;36m \u001b[0m\u001b[1;37m│\u001b[0m\n",
       "\u001b[1;37m│\u001b[0m\u001b[1;36m \u001b[0m\u001b[1;36mof cheating in sport, alongside the strengthening of ethics with improvements in transparency, \u001b[0m\u001b[1;36m                \u001b[0m\u001b[1;36m \u001b[0m\u001b[1;37m│\u001b[0m\n",
       "\u001b[1;37m│\u001b[0m\u001b[1;36m \u001b[0m\u001b[1;36mgood governance and accountability.\u001b[0m\u001b[1;36m                                                                            \u001b[0m\u001b[1;36m \u001b[0m\u001b[1;37m│\u001b[0m\n",
       "\u001b[1;37m│\u001b[0m\u001b[1;36m \u001b[0m\u001b[1;36m                                                                                                               \u001b[0m\u001b[1;36m \u001b[0m\u001b[1;37m│\u001b[0m\n",
       "\u001b[1;37m│\u001b[0m\u001b[1;36m \u001b[0m\u001b[1;36mThe \u001b[0m\u001b[1;36m is committed to promoting and upholding the integrity of \u001b[0m\u001b[1;36m                                                 \u001b[0m\u001b[1;36m \u001b[0m\u001b[1;37m│\u001b[0m\n",
       "\u001b[1;37m│\u001b[0m\u001b[1;36m \u001b[0m\u001b[1;36mour sport across the whole football family. We stand for integrity in football, for a sport you can \u001b[0m\u001b[1;36m           \u001b[0m\u001b[1;36m \u001b[0m\u001b[1;37m│\u001b[0m\n",
       "\u001b[1;37m│\u001b[0m\u001b[1;36m \u001b[0m\u001b[1;36mtrust. Having clean competitions is our greatest asset. Matches should be decided on the football \u001b[0m\u001b[1;36m             \u001b[0m\u001b[1;36m \u001b[0m\u001b[1;37m│\u001b[0m\n",
       "\u001b[1;37m│\u001b[0m\u001b[1;36m \u001b[0m\u001b[1;36mpitch, not on the gambling market.\u001b[0m\u001b[1;36m                                                                             \u001b[0m\u001b[1;36m \u001b[0m\u001b[1;37m│\u001b[0m\n",
       "\u001b[1;37m│\u001b[0m\u001b[1;36m \u001b[0m\u001b[1;36m                                                                                                               \u001b[0m\u001b[1;36m \u001b[0m\u001b[1;37m│\u001b[0m\n",
       "\u001b[1;37m│\u001b[0m\u001b[1;36m \u001b[0m\u001b[1;36mMatch-fixing is an intentional arrangement, act or omission aimed at an improper alteration of the \u001b[0m\u001b[1;36m            \u001b[0m\u001b[1;36m \u001b[0m\u001b[1;37m│\u001b[0m\n",
       "\u001b[1;37m│\u001b[0m\u001b[1;36m \u001b[0m\u001b[1;36mresult or the course of a sports competition in order to remove all or part of the unpredictable \u001b[0m\u001b[1;36m              \u001b[0m\u001b[1;36m \u001b[0m\u001b[1;37m│\u001b[0m\n",
       "\u001b[1;37m│\u001b[0m\u001b[1;36m \u001b[0m\u001b[1;36mnature of the sports competition with a view to obtaining an undue benefit. This is against the \u001b[0m\u001b[1;36m               \u001b[0m\u001b[1;36m \u001b[0m\u001b[1;37m│\u001b[0m\n",
       "\u001b[1;37m│\u001b[0m\u001b[1;36m \u001b[0m\u001b[1;36mrules of the game and often the law. We want to preserve what is great in the beautiful game \u001b[0m\u001b[1;36m                  \u001b[0m\u001b[1;36m \u001b[0m\u001b[1;37m│\u001b[0m\n",
       "\u001b[1;37m│\u001b[0m\u001b[1;36m \u001b[0m\u001b[1;36mand have devised rules regarding betting in football to help protect the integrity and future of \u001b[0m\u001b[1;36m              \u001b[0m\u001b[1;36m \u001b[0m\u001b[1;37m│\u001b[0m\n",
       "\u001b[1;37m│\u001b[0m\u001b[1;36m \u001b[0m\u001b[1;36mfootball. These rules apply to everyone involved in football.\u001b[0m\u001b[1;36m                                                  \u001b[0m\u001b[1;36m \u001b[0m\u001b[1;37m│\u001b[0m\n",
       "\u001b[1;37m│\u001b[0m\u001b[1;36m \u001b[0m\u001b[1;36m                                                                                                               \u001b[0m\u001b[1;36m \u001b[0m\u001b[1;37m│\u001b[0m\n",
       "\u001b[1;37m│\u001b[0m\u001b[1;36m \u001b[0m\u001b[1;36mOur disciplinary bodies are responsible for ensuring that these fundamental principles of football are \u001b[0m\u001b[1;36m        \u001b[0m\u001b[1;36m \u001b[0m\u001b[1;37m│\u001b[0m\n",
       "\u001b[1;37m│\u001b[0m\u001b[1;36m \u001b[0m\u001b[1;36mrespected and help to promote integrity in sport. Therefore, we will always adopt a zero-tolerance \u001b[0m\u001b[1;36m            \u001b[0m\u001b[1;36m \u001b[0m\u001b[1;37m│\u001b[0m\n",
       "\u001b[1;37m│\u001b[0m\u001b[1;36m \u001b[0m\u001b[1;36mpolicy to match-fixing. We have opted for a combined repressive and preventive approach \u001b[0m\u001b[1;36m                       \u001b[0m\u001b[1;36m \u001b[0m\u001b[1;37m│\u001b[0m\n",
       "\u001b[1;37m│\u001b[0m\u001b[1;36m \u001b[0m\u001b[1;36mcomprising a wide range of actions and measures. If you attempt match-fixing, breach the \u001b[0m\u001b[1;36m betting rules, or \u001b[0m\u001b[1;36m   \u001b[0m\u001b[1;36m \u001b[0m\u001b[1;37m│\u001b[0m\n",
       "\u001b[1;37m│\u001b[0m\u001b[1;36m \u001b[0m\u001b[1;36mpass on inside information, you are likely to get caught \u001b[0m\u001b[1;36m                                                      \u001b[0m\u001b[1;36m \u001b[0m\u001b[1;37m│\u001b[0m\n",
       "\u001b[1;37m│\u001b[0m\u001b[1;36m \u001b[0m\u001b[1;36mand be charged. \u001b[0m\u001b[1;36m                                                                                               \u001b[0m\u001b[1;36m \u001b[0m\u001b[1;37m│\u001b[0m\n",
       "\u001b[1;37m│\u001b[0m\u001b[1;36m \u001b[0m\u001b[1;36m                                                                                                               \u001b[0m\u001b[1;36m \u001b[0m\u001b[1;37m│\u001b[0m\n",
       "\u001b[1;37m│\u001b[0m\u001b[1;36m \u001b[0m\u001b[1;36mTo support this, we have a set of rules to which all club officials, players, match officials and \u001b[0m\u001b[1;36m staff must \u001b[0m\u001b[1;36m \u001b[0m\u001b[1;36m \u001b[0m\u001b[1;37m│\u001b[0m\n",
       "\u001b[1;37m│\u001b[0m\u001b[1;36m \u001b[0m\u001b[1;36madhere. These rules apply to betting, the use of inside information \u001b[0m\u001b[1;36m                                           \u001b[0m\u001b[1;36m \u001b[0m\u001b[1;37m│\u001b[0m\n",
       "\u001b[1;37m│\u001b[0m\u001b[1;36m \u001b[0m\u001b[1;36mand match manipulation. The rules help ensure that any individual involved in a football match\u001b[0m\u001b[1;36m                 \u001b[0m\u001b[1;36m \u001b[0m\u001b[1;37m│\u001b[0m\n",
       "\u001b[1;37m╰─────────────────────────────────────────────────────────────────────────────────────────────────────────────────╯\u001b[0m\n"
      ]
     },
     "metadata": {},
     "output_type": "display_data"
    },
    {
     "data": {
      "text/html": [
       "<pre style=\"white-space:pre;overflow-x:auto;line-height:normal;font-family:Menlo,'DejaVu Sans Mono',consolas,'Courier New',monospace\"><span style=\"color: #800080; text-decoration-color: #800080; font-weight: bold\">╭─────────────────────────────────────────────────────────────────────────────────────────────────────────────────╮</span>\n",
       "<span style=\"color: #800080; text-decoration-color: #800080; font-weight: bold\">│ Tool Invoked: Bing Search                                                                                       │</span>\n",
       "<span style=\"color: #800080; text-decoration-color: #800080; font-weight: bold\">│ Query: Recent incidents of match-fixing in international football                                               │</span>\n",
       "<span style=\"color: #800080; text-decoration-color: #800080; font-weight: bold\">╰─────────────────────────────────────────────────────────────────────────────────────────────────────────────────╯</span>\n",
       "</pre>\n"
      ],
      "text/plain": [
       "\u001b[1;35m╭─────────────────────────────────────────────────────────────────────────────────────────────────────────────────╮\u001b[0m\n",
       "\u001b[1;35m│\u001b[0m\u001b[1;35m \u001b[0m\u001b[1;35mTool Invoked: Bing Search\u001b[0m\u001b[1;35m                                                                                      \u001b[0m\u001b[1;35m \u001b[0m\u001b[1;35m│\u001b[0m\n",
       "\u001b[1;35m│\u001b[0m\u001b[1;35m \u001b[0m\u001b[1;35mQuery: Recent incidents of match-fixing in international football\u001b[0m\u001b[1;35m                                              \u001b[0m\u001b[1;35m \u001b[0m\u001b[1;35m│\u001b[0m\n",
       "\u001b[1;35m╰─────────────────────────────────────────────────────────────────────────────────────────────────────────────────╯\u001b[0m\n"
      ]
     },
     "metadata": {},
     "output_type": "display_data"
    },
    {
     "data": {
      "text/html": [
       "<pre style=\"white-space:pre;overflow-x:auto;line-height:normal;font-family:Menlo,'DejaVu Sans Mono',consolas,'Courier New',monospace\"><span style=\"color: #c0c0c0; text-decoration-color: #c0c0c0; font-weight: bold\">╭─────────────────────────────────────</span><span style=\"color: #c0c0c0; text-decoration-color: #c0c0c0\"> Bing Search Test Output (Public News) </span><span style=\"color: #c0c0c0; text-decoration-color: #c0c0c0; font-weight: bold\">─────────────────────────────────────╮</span>\n",
       "<span style=\"color: #c0c0c0; text-decoration-color: #c0c0c0; font-weight: bold\">│</span><span style=\"color: #008080; text-decoration-color: #008080; font-weight: bold\"> In 1964, the great British football betting scandal of the 1960s was uncovered: a betting ring organized by   </span><span style=\"color: #c0c0c0; text-decoration-color: #c0c0c0; font-weight: bold\">│</span>\n",
       "<span style=\"color: #c0c0c0; text-decoration-color: #c0c0c0; font-weight: bold\">│</span><span style=\"color: #008080; text-decoration-color: #008080; font-weight: bold\"> Jimmy Gauld and involving several Football League players had been fixing matches. The most famous        </span><span style=\"color: #c0c0c0; text-decoration-color: #c0c0c0; font-weight: bold\">│</span>\n",
       "<span style=\"color: #c0c0c0; text-decoration-color: #c0c0c0; font-weight: bold\">│</span><span style=\"color: #008080; text-decoration-color: #008080; font-weight: bold\"> incident involved three Sheffield Wednesday players, including two England international players, who were    </span><span style=\"color: #c0c0c0; text-decoration-color: #c0c0c0; font-weight: bold\">│</span>\n",
       "<span style=\"color: #c0c0c0; text-decoration-color: #c0c0c0; font-weight: bold\">│</span><span style=\"color: #008080; text-decoration-color: #008080; font-weight: bold\"> subsequently banned from football for life and imprisoned after it was discovered ...                         </span><span style=\"color: #c0c0c0; text-decoration-color: #c0c0c0; font-weight: bold\">│</span>\n",
       "<span style=\"color: #c0c0c0; text-decoration-color: #c0c0c0; font-weight: bold\">│</span><span style=\"color: #008080; text-decoration-color: #008080; font-weight: bold\"> Match-fixing has a long history of over 100 years. Some of the biggest match-fixing scandals took place in  </span><span style=\"color: #c0c0c0; text-decoration-color: #c0c0c0; font-weight: bold\">│</span>\n",
       "<span style=\"color: #c0c0c0; text-decoration-color: #c0c0c0; font-weight: bold\">│</span><span style=\"color: #008080; text-decoration-color: #008080; font-weight: bold\"> football, basketball, cricket, and baseball. Pakistani cricket fans in Lahore on 4 November 2011 following    </span><span style=\"color: #c0c0c0; text-decoration-color: #c0c0c0; font-weight: bold\">│</span>\n",
       "<span style=\"color: #c0c0c0; text-decoration-color: #c0c0c0; font-weight: bold\">│</span><span style=\"color: #008080; text-decoration-color: #008080; font-weight: bold\"> the arrest of their players over match-fixing allegations in Britain. Photo: Arif Ali Source: Getty Images    </span><span style=\"color: #c0c0c0; text-decoration-color: #c0c0c0; font-weight: bold\">│</span>\n",
       "<span style=\"color: #c0c0c0; text-decoration-color: #c0c0c0; font-weight: bold\">│</span><span style=\"color: #008080; text-decoration-color: #008080; font-weight: bold\"> This article analyses the approach of sporting governing bodies, courts and tribunals to recent incidents   </span><span style=\"color: #c0c0c0; text-decoration-color: #c0c0c0; font-weight: bold\">│</span>\n",
       "<span style=\"color: #c0c0c0; text-decoration-color: #c0c0c0; font-weight: bold\">│</span><span style=\"color: #008080; text-decoration-color: #008080; font-weight: bold\"> of alleged corruption in sport. These include the sanctions imposed by FIFA on a Ukrainian football referee   </span><span style=\"color: #c0c0c0; text-decoration-color: #c0c0c0; font-weight: bold\">│</span>\n",
       "<span style=\"color: #c0c0c0; text-decoration-color: #c0c0c0; font-weight: bold\">│</span><span style=\"color: #008080; text-decoration-color: #008080; font-weight: bold\"> and a Macedonian football club President, who were both handed lifetime bans as a result of their involvement </span><span style=\"color: #c0c0c0; text-decoration-color: #c0c0c0; font-weight: bold\">│</span>\n",
       "<span style=\"color: #c0c0c0; text-decoration-color: #c0c0c0; font-weight: bold\">│</span><span style=\"color: #008080; text-decoration-color: #008080; font-weight: bold\"> with unlawful betting syndicates, decisions which were ultimately upheld ...                                    </span><span style=\"color: #c0c0c0; text-decoration-color: #c0c0c0; font-weight: bold\">│</span>\n",
       "<span style=\"color: #c0c0c0; text-decoration-color: #c0c0c0; font-weight: bold\">│</span><span style=\"color: #008080; text-decoration-color: #008080; font-weight: bold\"> The Nigerian Football Association handed down lifetime bans to all four teams and the match officials who   </span><span style=\"color: #c0c0c0; text-decoration-color: #c0c0c0; font-weight: bold\">│</span>\n",
       "<span style=\"color: #c0c0c0; text-decoration-color: #c0c0c0; font-weight: bold\">│</span><span style=\"color: #008080; text-decoration-color: #008080; font-weight: bold\"> partook in this instance of match-fixing. 8. Calciopoli (2006)                                                </span><span style=\"color: #c0c0c0; text-decoration-color: #c0c0c0; font-weight: bold\">│</span>\n",
       "<span style=\"color: #c0c0c0; text-decoration-color: #c0c0c0; font-weight: bold\">│</span><span style=\"color: #008080; text-decoration-color: #008080; font-weight: bold\"> A number of clubs across the top two tiers of Italian football were implicated in the Totonero match-fixing </span><span style=\"color: #c0c0c0; text-decoration-color: #c0c0c0; font-weight: bold\">│</span>\n",
       "<span style=\"color: #c0c0c0; text-decoration-color: #c0c0c0; font-weight: bold\">│</span><span style=\"color: #008080; text-decoration-color: #008080; font-weight: bold\"> scandal, with Serie A giants Milan and Lazio suffering the most severe sanction ...                             </span><span style=\"color: #c0c0c0; text-decoration-color: #c0c0c0; font-weight: bold\">│</span>\n",
       "<span style=\"color: #c0c0c0; text-decoration-color: #c0c0c0; font-weight: bold\">│</span><span style=\"color: #008080; text-decoration-color: #008080; font-weight: bold\"> Match fixing brings disrepute to any sport and any team that is involved in it. The actions of a few are      </span><span style=\"color: #c0c0c0; text-decoration-color: #c0c0c0; font-weight: bold\">│</span>\n",
       "<span style=\"color: #c0c0c0; text-decoration-color: #c0c0c0; font-weight: bold\">│</span><span style=\"color: #008080; text-decoration-color: #008080; font-weight: bold\"> suffered by many, with football having more than its fair share of controversies...                           </span><span style=\"color: #c0c0c0; text-decoration-color: #c0c0c0; font-weight: bold\">│</span>\n",
       "<span style=\"color: #c0c0c0; text-decoration-color: #c0c0c0; font-weight: bold\">│</span><span style=\"color: #008080; text-decoration-color: #008080; font-weight: bold\"> Macarthur FC player Ulises Davila passes the ball during an A-League match against Melbourne City in Sydney,  </span><span style=\"color: #c0c0c0; text-decoration-color: #c0c0c0; font-weight: bold\">│</span>\n",
       "<span style=\"color: #c0c0c0; text-decoration-color: #c0c0c0; font-weight: bold\">│</span><span style=\"color: #008080; text-decoration-color: #008080; font-weight: bold\"> March 1, 2024. Davila and fellow players Kearyn Baccus and Clayton Lewis have been arrested, Friday, May 17,    </span><span style=\"color: #c0c0c0; text-decoration-color: #c0c0c0; font-weight: bold\">│</span>\n",
       "<span style=\"color: #c0c0c0; text-decoration-color: #c0c0c0; font-weight: bold\">│</span><span style=\"color: #008080; text-decoration-color: #008080; font-weight: bold\"> 2024, over their alleged involvement in a the betting fix, which police say has led to hundreds of thousands of </span><span style=\"color: #c0c0c0; text-decoration-color: #c0c0c0; font-weight: bold\">│</span>\n",
       "<span style=\"color: #c0c0c0; text-decoration-color: #c0c0c0; font-weight: bold\">│</span><span style=\"color: #008080; text-decoration-color: #008080; font-weight: bold\"> dollars being paid out in winnings.                                                                             </span><span style=\"color: #c0c0c0; text-decoration-color: #c0c0c0; font-weight: bold\">│</span>\n",
       "<span style=\"color: #c0c0c0; text-decoration-color: #c0c0c0; font-weight: bold\">│</span><span style=\"color: #008080; text-decoration-color: #008080; font-weight: bold\"> The International Betting Integrity Association (IBIA) says football and tennis accounted for over half of  </span><span style=\"color: #c0c0c0; text-decoration-color: #c0c0c0; font-weight: bold\">│</span>\n",
       "<span style=\"color: #c0c0c0; text-decoration-color: #c0c0c0; font-weight: bold\">│</span><span style=\"color: #008080; text-decoration-color: #008080; font-weight: bold\"> suspicious sporting incidents in the third quarter of 2023. Advertisement                                     </span><span style=\"color: #c0c0c0; text-decoration-color: #c0c0c0; font-weight: bold\">│</span>\n",
       "<span style=\"color: #c0c0c0; text-decoration-color: #c0c0c0; font-weight: bold\">│</span><span style=\"color: #008080; text-decoration-color: #008080; font-weight: bold\"> The issue of match fixing in association football has been described, in 2013, by Chris Eaton, the former   </span><span style=\"color: #c0c0c0; text-decoration-color: #c0c0c0; font-weight: bold\">│</span>\n",
       "<span style=\"color: #c0c0c0; text-decoration-color: #c0c0c0; font-weight: bold\">│</span><span style=\"color: #008080; text-decoration-color: #008080; font-weight: bold\"> Head of Security of FIFA (the sport's world governing body), as a \"crisis\", [1] while UEFA's president Michel   </span><span style=\"color: #c0c0c0; text-decoration-color: #c0c0c0; font-weight: bold\">│</span>\n",
       "<span style=\"color: #c0c0c0; text-decoration-color: #c0c0c0; font-weight: bold\">│</span><span style=\"color: #008080; text-decoration-color: #008080; font-weight: bold\"> Platini has said that if it continues, \"football is dead\". [2] Zhang Jilong, president of the Asian           </span><span style=\"color: #c0c0c0; text-decoration-color: #c0c0c0; font-weight: bold\">│</span>\n",
       "<span style=\"color: #c0c0c0; text-decoration-color: #c0c0c0; font-weight: bold\">│</span><span style=\"color: #008080; text-decoration-color: #008080; font-weight: bold\"> Football Confederation, has stated that it is a \"pandemic\". [3]                                               </span><span style=\"color: #c0c0c0; text-decoration-color: #c0c0c0; font-weight: bold\">│</span>\n",
       "<span style=\"color: #c0c0c0; text-decoration-color: #c0c0c0; font-weight: bold\">│</span><span style=\"color: #008080; text-decoration-color: #008080; font-weight: bold\"> Here we take a look at the top 5 most famous incidents of match-fixing in world football. Corruption in   </span><span style=\"color: #c0c0c0; text-decoration-color: #c0c0c0; font-weight: bold\">│</span>\n",
       "<span style=\"color: #c0c0c0; text-decoration-color: #c0c0c0; font-weight: bold\">│</span><span style=\"color: #008080; text-decoration-color: #008080; font-weight: bold\"> football is a disease that has unfortunately reared its ugly head more than once in recent years. Here we   </span><span style=\"color: #c0c0c0; text-decoration-color: #c0c0c0; font-weight: bold\">│</span>\n",
       "<span style=\"color: #c0c0c0; text-decoration-color: #c0c0c0; font-weight: bold\">│</span><span style=\"color: #008080; text-decoration-color: #008080; font-weight: bold\"> take a look at the top 5 most famous incidents of match-fixing in world football.                         </span><span style=\"color: #c0c0c0; text-decoration-color: #c0c0c0; font-weight: bold\">│</span>\n",
       "<span style=\"color: #c0c0c0; text-decoration-color: #c0c0c0; font-weight: bold\">╰─────────────────────────────────────────────────────────────────────────────────────────────────────────────────╯</span>\n",
       "</pre>\n"
      ],
      "text/plain": [
       "\u001b[1;37m╭─\u001b[0m\u001b[1;37m────────────────────────────────────\u001b[0m\u001b[37m Bing Search Test Output (Public News) \u001b[0m\u001b[1;37m────────────────────────────────────\u001b[0m\u001b[1;37m─╮\u001b[0m\n",
       "\u001b[1;37m│\u001b[0m\u001b[1;36m \u001b[0m\u001b[1;36mIn 1964, the great British football betting scandal of the 1960s was uncovered: a betting ring organized by \u001b[0m\u001b[1;36m \u001b[0m\u001b[1;36m \u001b[0m\u001b[1;37m│\u001b[0m\n",
       "\u001b[1;37m│\u001b[0m\u001b[1;36m \u001b[0m\u001b[1;36mJimmy Gauld and involving several Football League players had been fixing matches. The most famous \u001b[0m\u001b[1;36m      \u001b[0m\u001b[1;36m \u001b[0m\u001b[1;37m│\u001b[0m\n",
       "\u001b[1;37m│\u001b[0m\u001b[1;36m \u001b[0m\u001b[1;36mincident involved three Sheffield Wednesday players, including two England international players, who were \u001b[0m\u001b[1;36m  \u001b[0m\u001b[1;36m \u001b[0m\u001b[1;37m│\u001b[0m\n",
       "\u001b[1;37m│\u001b[0m\u001b[1;36m \u001b[0m\u001b[1;36msubsequently banned from football for life and imprisoned after it was discovered ...\u001b[0m\u001b[1;36m                        \u001b[0m\u001b[1;36m \u001b[0m\u001b[1;37m│\u001b[0m\n",
       "\u001b[1;37m│\u001b[0m\u001b[1;36m \u001b[0m\u001b[1;36mMatch-fixing has a long history of over 100 years. Some of the biggest match-fixing scandals took place in \u001b[0m\u001b[1;36m \u001b[0m\u001b[1;37m│\u001b[0m\n",
       "\u001b[1;37m│\u001b[0m\u001b[1;36m \u001b[0m\u001b[1;36mfootball, basketball, cricket, and baseball. Pakistani cricket fans in Lahore on 4 November 2011 following \u001b[0m\u001b[1;36m  \u001b[0m\u001b[1;36m \u001b[0m\u001b[1;37m│\u001b[0m\n",
       "\u001b[1;37m│\u001b[0m\u001b[1;36m \u001b[0m\u001b[1;36mthe arrest of their players over match-fixing allegations in Britain. Photo: Arif Ali Source: Getty Images\u001b[0m\u001b[1;36m   \u001b[0m\u001b[1;36m \u001b[0m\u001b[1;37m│\u001b[0m\n",
       "\u001b[1;37m│\u001b[0m\u001b[1;36m \u001b[0m\u001b[1;36mThis article analyses the approach of sporting governing bodies, courts and tribunals to recent incidents \u001b[0m\u001b[1;36m \u001b[0m\u001b[1;36m \u001b[0m\u001b[1;37m│\u001b[0m\n",
       "\u001b[1;37m│\u001b[0m\u001b[1;36m \u001b[0m\u001b[1;36mof alleged corruption in sport. These include the sanctions imposed by FIFA on a Ukrainian football referee \u001b[0m\u001b[1;36m \u001b[0m\u001b[1;36m \u001b[0m\u001b[1;37m│\u001b[0m\n",
       "\u001b[1;37m│\u001b[0m\u001b[1;36m \u001b[0m\u001b[1;36mand a Macedonian football club President, who were both handed lifetime bans as a result of their involvement\u001b[0m\u001b[1;36m \u001b[0m\u001b[1;37m│\u001b[0m\n",
       "\u001b[1;37m│\u001b[0m\u001b[1;36m \u001b[0m\u001b[1;36mwith unlawful betting syndicates, decisions which were ultimately upheld ...\u001b[0m\u001b[1;36m                                   \u001b[0m\u001b[1;36m \u001b[0m\u001b[1;37m│\u001b[0m\n",
       "\u001b[1;37m│\u001b[0m\u001b[1;36m \u001b[0m\u001b[1;36mThe Nigerian Football Association handed down lifetime bans to all four teams and the match officials who \u001b[0m\u001b[1;36m \u001b[0m\u001b[1;36m \u001b[0m\u001b[1;37m│\u001b[0m\n",
       "\u001b[1;37m│\u001b[0m\u001b[1;36m \u001b[0m\u001b[1;36mpartook in this instance of match-fixing. 8. Calciopoli (2006)\u001b[0m\u001b[1;36m                                               \u001b[0m\u001b[1;36m \u001b[0m\u001b[1;37m│\u001b[0m\n",
       "\u001b[1;37m│\u001b[0m\u001b[1;36m \u001b[0m\u001b[1;36mA number of clubs across the top two tiers of Italian football were implicated in the Totonero match-fixing\u001b[0m\u001b[1;36m \u001b[0m\u001b[1;37m│\u001b[0m\n",
       "\u001b[1;37m│\u001b[0m\u001b[1;36m \u001b[0m\u001b[1;36mscandal, with Serie A giants Milan and Lazio suffering the most severe sanction ...\u001b[0m\u001b[1;36m                            \u001b[0m\u001b[1;36m \u001b[0m\u001b[1;37m│\u001b[0m\n",
       "\u001b[1;37m│\u001b[0m\u001b[1;36m \u001b[0m\u001b[1;36mMatch fixing brings disrepute to any sport and any team that is involved in it. The actions of a few are \u001b[0m\u001b[1;36m    \u001b[0m\u001b[1;36m \u001b[0m\u001b[1;37m│\u001b[0m\n",
       "\u001b[1;37m│\u001b[0m\u001b[1;36m \u001b[0m\u001b[1;36msuffered by many, with football having more than its fair share of controversies...\u001b[0m\u001b[1;36m                          \u001b[0m\u001b[1;36m \u001b[0m\u001b[1;37m│\u001b[0m\n",
       "\u001b[1;37m│\u001b[0m\u001b[1;36m \u001b[0m\u001b[1;36mMacarthur FC player Ulises Davila passes the ball during an A-League match against Melbourne City in Sydney, \u001b[0m\u001b[1;36m \u001b[0m\u001b[1;37m│\u001b[0m\n",
       "\u001b[1;37m│\u001b[0m\u001b[1;36m \u001b[0m\u001b[1;36mMarch 1, 2024. Davila and fellow players Kearyn Baccus and Clayton Lewis have been arrested, Friday, May 17, \u001b[0m\u001b[1;36m  \u001b[0m\u001b[1;36m \u001b[0m\u001b[1;37m│\u001b[0m\n",
       "\u001b[1;37m│\u001b[0m\u001b[1;36m \u001b[0m\u001b[1;36m2024, over their alleged involvement in a the betting fix, which police say has led to hundreds of thousands of\u001b[0m\u001b[1;36m \u001b[0m\u001b[1;37m│\u001b[0m\n",
       "\u001b[1;37m│\u001b[0m\u001b[1;36m \u001b[0m\u001b[1;36mdollars being paid out in winnings.\u001b[0m\u001b[1;36m                                                                            \u001b[0m\u001b[1;36m \u001b[0m\u001b[1;37m│\u001b[0m\n",
       "\u001b[1;37m│\u001b[0m\u001b[1;36m \u001b[0m\u001b[1;36mThe International Betting Integrity Association (IBIA) says football and tennis accounted for over half of \u001b[0m\u001b[1;36m \u001b[0m\u001b[1;37m│\u001b[0m\n",
       "\u001b[1;37m│\u001b[0m\u001b[1;36m \u001b[0m\u001b[1;36msuspicious sporting incidents in the third quarter of 2023. Advertisement\u001b[0m\u001b[1;36m                                    \u001b[0m\u001b[1;36m \u001b[0m\u001b[1;37m│\u001b[0m\n",
       "\u001b[1;37m│\u001b[0m\u001b[1;36m \u001b[0m\u001b[1;36mThe issue of match fixing in association football has been described, in 2013, by Chris Eaton, the former \u001b[0m\u001b[1;36m \u001b[0m\u001b[1;36m \u001b[0m\u001b[1;37m│\u001b[0m\n",
       "\u001b[1;37m│\u001b[0m\u001b[1;36m \u001b[0m\u001b[1;36mHead of Security of FIFA (the sport's world governing body), as a \"crisis\", [1] while UEFA's president Michel \u001b[0m\u001b[1;36m \u001b[0m\u001b[1;36m \u001b[0m\u001b[1;37m│\u001b[0m\n",
       "\u001b[1;37m│\u001b[0m\u001b[1;36m \u001b[0m\u001b[1;36mPlatini has said that if it continues, \"football is dead\". [2] Zhang Jilong, president of the Asian \u001b[0m\u001b[1;36m         \u001b[0m\u001b[1;36m \u001b[0m\u001b[1;37m│\u001b[0m\n",
       "\u001b[1;37m│\u001b[0m\u001b[1;36m \u001b[0m\u001b[1;36mFootball Confederation, has stated that it is a \"pandemic\". [3]\u001b[0m\u001b[1;36m                                              \u001b[0m\u001b[1;36m \u001b[0m\u001b[1;37m│\u001b[0m\n",
       "\u001b[1;37m│\u001b[0m\u001b[1;36m \u001b[0m\u001b[1;36mHere we take a look at the top 5 most famous incidents of match-fixing in world football. Corruption in \u001b[0m\u001b[1;36m \u001b[0m\u001b[1;36m \u001b[0m\u001b[1;37m│\u001b[0m\n",
       "\u001b[1;37m│\u001b[0m\u001b[1;36m \u001b[0m\u001b[1;36mfootball is a disease that has unfortunately reared its ugly head more than once in recent years. Here we \u001b[0m\u001b[1;36m \u001b[0m\u001b[1;36m \u001b[0m\u001b[1;37m│\u001b[0m\n",
       "\u001b[1;37m│\u001b[0m\u001b[1;36m \u001b[0m\u001b[1;36mtake a look at the top 5 most famous incidents of match-fixing in world football.\u001b[0m\u001b[1;36m                        \u001b[0m\u001b[1;36m \u001b[0m\u001b[1;37m│\u001b[0m\n",
       "\u001b[1;37m╰─────────────────────────────────────────────────────────────────────────────────────────────────────────────────╯\u001b[0m\n"
      ]
     },
     "metadata": {},
     "output_type": "display_data"
    }
   ],
   "source": [
    "# Test Azure AI Search (FIFA Legal Handbook)\n",
    "test_query_azure = \"What are the FIFA disciplinary rules for match-fixing?\"\n",
    "azure_search_result = search_azure_ai_search(query=test_query_azure)\n",
    "console.print(\n",
    "    Panel(\n",
    "        azure_search_result, \n",
    "        title=\"Azure AI Search Test Output (FIFA Legal Handbook)\", \n",
    "        style=\"bold cyan\",\n",
    "        border_style=\"white\"\n",
    "    )\n",
    ")\n",
    "\n",
    "# Test Bing Search (Public Web)\n",
    "test_query_bing = \"Recent incidents of match-fixing in international football\"\n",
    "bing_search_result = search_bing(query=test_query_bing)\n",
    "console.print(\n",
    "    Panel(\n",
    "        bing_search_result, \n",
    "        title=\"Bing Search Test Output (Public News)\", \n",
    "        style=\"bold cyan\",\n",
    "        border_style=\"white\"\n",
    "    )\n",
    ")\n"
   ]
  },
  {
   "cell_type": "markdown",
   "metadata": {},
   "source": [
    "## Step 3: Define Function Descriptions for OpenAI\n"
   ]
  },
  {
   "cell_type": "code",
   "execution_count": 36,
   "metadata": {},
   "outputs": [],
   "source": [
    "functions = [\n",
    "    {\n",
    "        \"name\": \"search_azure_ai_search\",\n",
    "        \"description\": (\n",
    "            \"Use this function to search the private FIFA Legal Handbook for legal guidelines, \"\n",
    "            \"regulations, and disciplinary rules. This is used for answering questions related to FIFA rules \"\n",
    "            \"and legal matters to assist referees in making informed decisions.\"\n",
    "        ),\n",
    "        \"parameters\": {\n",
    "            \"type\": \"object\",\n",
    "            \"properties\": {\n",
    "                \"query\": {\n",
    "                    \"type\": \"string\",\n",
    "                    \"description\": \"The search query to retrieve relevant legal data from the FIFA Legal Handbook\",\n",
    "                },\n",
    "            },\n",
    "            \"required\": [\"query\"],\n",
    "        },\n",
    "    },\n",
    "    {\n",
    "        \"name\": \"search_bing\",\n",
    "        \"description\": (\n",
    "            \"Use this function to perform a real-time web search for public information, news, and current events \"\n",
    "            \"related to football. This helps provide context for queries about match incidents or disciplinary events.\"\n",
    "        ),\n",
    "        \"parameters\": {\n",
    "            \"type\": \"object\",\n",
    "            \"properties\": {\n",
    "                \"query\": {\n",
    "                    \"type\": \"string\",\n",
    "                    \"description\": \"The search query to retrieve recent news and public data from the web\",\n",
    "                },\n",
    "            },\n",
    "            \"required\": [\"query\"],\n",
    "        },\n",
    "    },\n",
    "]\n"
   ]
  },
  {
   "cell_type": "markdown",
   "metadata": {},
   "source": [
    "## Step 4: Process User Query & Route to the Appropriate Tool\n",
    "\n",
    "In this cell the user query is sent to the OpenAI chat model. The model decides which tool(s) to invoke\n",
    "based on the query. We then parse the function call, invoke the appropriate function, and send the result back to the model.\n",
    "\n",
    "The console will print which tool was used. If the function call is not made (i.e. a direct answer is returned), it is printed accordingly."
   ]
  },
  {
   "cell_type": "code",
   "execution_count": 37,
   "metadata": {},
   "outputs": [],
   "source": [
    "# This system prompt guides the agent to leverage the appropriate tool based on the query.\n",
    "\n",
    "system_prompt = (\n",
    "    \"You are an expert assistant for FIFA referees. You have access to private legal data \"\n",
    "    \"from the FIFA Legal Handbook and real-time public information via Bing Search. \"\n",
    "    \"When a query concerns specific FIFA rules, legal guidelines, or disciplinary matters, \"\n",
    "    \"prioritize retrieving information from the FIFA Legal Handbook using Azure AI Search. \"\n",
    "    \"For queries about current events, match incidents, or general news, use Bing Search. \"\n",
    "    \"If both aspects are relevant, synthesize answers from both sources to provide a comprehensive response.\"\n",
    ")"
   ]
  },
  {
   "cell_type": "code",
   "execution_count": 40,
   "metadata": {},
   "outputs": [],
   "source": [
    "def run_basic_agent(user_query: str):\n",
    "    \"\"\"\n",
    "    Executes the referee query by including the system prompt, sending the message to the OpenAI client,\n",
    "    routing to the appropriate tool (Azure AI Search for legal data or Bing Search for public news), and printing the final answer.\n",
    "    \"\"\"\n",
    "    messages = [\n",
    "        {\"role\": \"system\", \"content\": system_prompt},\n",
    "        {\"role\": \"user\", \"content\": user_query}\n",
    "    ]\n",
    "    \n",
    "    # Call the chat completions API with the function definitions.\n",
    "    response = openai_client.chat.completions.create(\n",
    "        model=AZURE_OPENAI_CHAT_COMPLETION_DEPLOYED_MODEL_NAME,  \n",
    "        messages=messages,\n",
    "        functions=functions,\n",
    "        function_call=\"auto\",\n",
    "    )\n",
    "    \n",
    "    response_message = response.choices[0].message\n",
    "    \n",
    "    if response_message.function_call is not None:\n",
    "        function_name = response_message.function_call.name\n",
    "        function_args = json.loads(response_message.function_call.arguments)\n",
    "        query_for_function = function_args.get(\"query\")\n",
    "    \n",
    "        if function_name == \"search_azure_ai_search\":\n",
    "            function_response = search_azure_ai_search(query=query_for_function)\n",
    "        elif function_name == \"search_bing\":\n",
    "            function_response = search_bing(query=query_for_function)\n",
    "        else:\n",
    "            function_response = \"Function not found\"\n",
    "    \n",
    "        # Send the function response back to the model for final answer synthesis.\n",
    "        second_response = openai_client.chat.completions.create(\n",
    "            model=AZURE_OPENAI_CHAT_COMPLETION_DEPLOYED_MODEL_NAME,\n",
    "            messages=[\n",
    "                *messages,  # Original system and user messages\n",
    "                response_message.model_dump(),  # Convert the function call message to a dict\n",
    "                {\n",
    "                    \"role\": \"function\",\n",
    "                    \"name\": function_name,\n",
    "                    \"content\": function_response,\n",
    "                },\n",
    "            ],\n",
    "        )\n",
    "    \n",
    "        final_answer = second_response.choices[0].message.content\n",
    "        console.print(\n",
    "            Panel(\n",
    "                f\"Function Called: {function_name}\\n\\nFinal Answer: {final_answer}\",\n",
    "                title=\"Function Call & Final Response\",\n",
    "                style=\"bold green\",\n",
    "                border_style=\"yellow\",\n",
    "            )\n",
    "        )\n",
    "    else:\n",
    "        final_answer = response_message.content\n",
    "        console.print(\n",
    "            Panel(\n",
    "                final_answer,\n",
    "                title=\"Direct Response\",\n",
    "                style=\"bold green\",\n",
    "                border_style=\"yellow\",\n",
    "            )\n",
    "        )"
   ]
  },
  {
   "cell_type": "code",
   "execution_count": null,
   "metadata": {},
   "outputs": [
    {
     "data": {
      "text/html": [
       "<pre style=\"white-space:pre;overflow-x:auto;line-height:normal;font-family:Menlo,'DejaVu Sans Mono',consolas,'Courier New',monospace\"><span style=\"color: #808000; text-decoration-color: #808000; font-weight: bold\">╭─────────────────────────────────────────────────────────────────────────────────────────────────────────────────╮</span>\n",
       "<span style=\"color: #808000; text-decoration-color: #808000; font-weight: bold\">│ Tool Invoked: Azure AI Search                                                                                   │</span>\n",
       "<span style=\"color: #808000; text-decoration-color: #808000; font-weight: bold\">│ Query: FIFA regulations titles and edition years                                                                │</span>\n",
       "<span style=\"color: #808000; text-decoration-color: #808000; font-weight: bold\">╰─────────────────────────────────────────────────────────────────────────────────────────────────────────────────╯</span>\n",
       "</pre>\n"
      ],
      "text/plain": [
       "\u001b[1;33m╭─────────────────────────────────────────────────────────────────────────────────────────────────────────────────╮\u001b[0m\n",
       "\u001b[1;33m│\u001b[0m\u001b[1;33m \u001b[0m\u001b[1;33mTool Invoked: Azure AI Search\u001b[0m\u001b[1;33m                                                                                  \u001b[0m\u001b[1;33m \u001b[0m\u001b[1;33m│\u001b[0m\n",
       "\u001b[1;33m│\u001b[0m\u001b[1;33m \u001b[0m\u001b[1;33mQuery: FIFA regulations titles and edition years\u001b[0m\u001b[1;33m                                                               \u001b[0m\u001b[1;33m \u001b[0m\u001b[1;33m│\u001b[0m\n",
       "\u001b[1;33m╰─────────────────────────────────────────────────────────────────────────────────────────────────────────────────╯\u001b[0m\n"
      ]
     },
     "metadata": {},
     "output_type": "display_data"
    },
    {
     "data": {
      "text/html": [
       "<pre style=\"white-space:pre;overflow-x:auto;line-height:normal;font-family:Menlo,'DejaVu Sans Mono',consolas,'Courier New',monospace\"><span style=\"color: #808000; text-decoration-color: #808000; font-weight: bold\">╭────────────────────────────────────────</span><span style=\"color: #808000; text-decoration-color: #808000\"> Function Call &amp; Final Response </span><span style=\"color: #808000; text-decoration-color: #808000; font-weight: bold\">─────────────────────────────────────────╮</span>\n",
       "<span style=\"color: #808000; text-decoration-color: #808000; font-weight: bold\">│</span><span style=\"color: #008000; text-decoration-color: #008000; font-weight: bold\"> Function Called: search_azure_ai_search                                                                         </span><span style=\"color: #808000; text-decoration-color: #808000; font-weight: bold\">│</span>\n",
       "<span style=\"color: #808000; text-decoration-color: #808000; font-weight: bold\">│</span><span style=\"color: #008000; text-decoration-color: #008000; font-weight: bold\">                                                                                                                 </span><span style=\"color: #808000; text-decoration-color: #808000; font-weight: bold\">│</span>\n",
       "<span style=\"color: #808000; text-decoration-color: #808000; font-weight: bold\">│</span><span style=\"color: #008000; text-decoration-color: #008000; font-weight: bold\"> Final Answer: The FIFA Legal Handbook contains several regulations, each with specific edition years. Here are  </span><span style=\"color: #808000; text-decoration-color: #808000; font-weight: bold\">│</span>\n",
       "<span style=\"color: #808000; text-decoration-color: #808000; font-weight: bold\">│</span><span style=\"color: #008000; text-decoration-color: #008000; font-weight: bold\"> some of the notable titles and their respective edition years:                                                  </span><span style=\"color: #808000; text-decoration-color: #808000; font-weight: bold\">│</span>\n",
       "<span style=\"color: #808000; text-decoration-color: #808000; font-weight: bold\">│</span><span style=\"color: #008000; text-decoration-color: #008000; font-weight: bold\">                                                                                                                 </span><span style=\"color: #808000; text-decoration-color: #808000; font-weight: bold\">│</span>\n",
       "<span style=\"color: #808000; text-decoration-color: #808000; font-weight: bold\">│</span><span style=\"color: #008000; text-decoration-color: #008000; font-weight: bold\"> 1. **FIFA Anti-Doping Regulations** - 2019 Edition                                                              </span><span style=\"color: #808000; text-decoration-color: #808000; font-weight: bold\">│</span>\n",
       "<span style=\"color: #808000; text-decoration-color: #808000; font-weight: bold\">│</span><span style=\"color: #008000; text-decoration-color: #008000; font-weight: bold\"> 2. **FIFA Match Agents Regulations** - 2003 Edition                                                             </span><span style=\"color: #808000; text-decoration-color: #808000; font-weight: bold\">│</span>\n",
       "<span style=\"color: #808000; text-decoration-color: #808000; font-weight: bold\">│</span><span style=\"color: #008000; text-decoration-color: #008000; font-weight: bold\"> 3. **FIFA Disciplinary Code** - (Other editions not specified, but typically updated around every few years)    </span><span style=\"color: #808000; text-decoration-color: #808000; font-weight: bold\">│</span>\n",
       "<span style=\"color: #808000; text-decoration-color: #808000; font-weight: bold\">│</span><span style=\"color: #008000; text-decoration-color: #008000; font-weight: bold\"> 4. **Regulations Governing the Transfer of Players** - (Edition varies, often updated)                          </span><span style=\"color: #808000; text-decoration-color: #808000; font-weight: bold\">│</span>\n",
       "<span style=\"color: #808000; text-decoration-color: #808000; font-weight: bold\">│</span><span style=\"color: #008000; text-decoration-color: #008000; font-weight: bold\"> 5. **FIFA Club Licensing Regulations** - (Edition varies, often updated)                                        </span><span style=\"color: #808000; text-decoration-color: #808000; font-weight: bold\">│</span>\n",
       "<span style=\"color: #808000; text-decoration-color: #808000; font-weight: bold\">│</span><span style=\"color: #008000; text-decoration-color: #008000; font-weight: bold\">                                                                                                                 </span><span style=\"color: #808000; text-decoration-color: #808000; font-weight: bold\">│</span>\n",
       "<span style=\"color: #808000; text-decoration-color: #808000; font-weight: bold\">│</span><span style=\"color: #008000; text-decoration-color: #008000; font-weight: bold\"> The specific regulations can have multiple amendments and updates over different editions, and the exact        </span><span style=\"color: #808000; text-decoration-color: #808000; font-weight: bold\">│</span>\n",
       "<span style=\"color: #808000; text-decoration-color: #808000; font-weight: bold\">│</span><span style=\"color: #008000; text-decoration-color: #008000; font-weight: bold\"> edition year may vary for the regulations not explicitly listed. If you need more detailed information or       </span><span style=\"color: #808000; text-decoration-color: #808000; font-weight: bold\">│</span>\n",
       "<span style=\"color: #808000; text-decoration-color: #808000; font-weight: bold\">│</span><span style=\"color: #008000; text-decoration-color: #008000; font-weight: bold\"> specific articles from these regulations, please let me know!                                                   </span><span style=\"color: #808000; text-decoration-color: #808000; font-weight: bold\">│</span>\n",
       "<span style=\"color: #808000; text-decoration-color: #808000; font-weight: bold\">╰─────────────────────────────────────────────────────────────────────────────────────────────────────────────────╯</span>\n",
       "</pre>\n"
      ],
      "text/plain": [
       "\u001b[1;33m╭─\u001b[0m\u001b[1;33m───────────────────────────────────────\u001b[0m\u001b[33m Function Call & Final Response \u001b[0m\u001b[1;33m────────────────────────────────────────\u001b[0m\u001b[1;33m─╮\u001b[0m\n",
       "\u001b[1;33m│\u001b[0m\u001b[1;32m \u001b[0m\u001b[1;32mFunction Called: search_azure_ai_search\u001b[0m\u001b[1;32m                                                                        \u001b[0m\u001b[1;32m \u001b[0m\u001b[1;33m│\u001b[0m\n",
       "\u001b[1;33m│\u001b[0m\u001b[1;32m \u001b[0m\u001b[1;32m                                                                                                               \u001b[0m\u001b[1;32m \u001b[0m\u001b[1;33m│\u001b[0m\n",
       "\u001b[1;33m│\u001b[0m\u001b[1;32m \u001b[0m\u001b[1;32mFinal Answer: The FIFA Legal Handbook contains several regulations, each with specific edition years. Here are \u001b[0m\u001b[1;32m \u001b[0m\u001b[1;33m│\u001b[0m\n",
       "\u001b[1;33m│\u001b[0m\u001b[1;32m \u001b[0m\u001b[1;32msome of the notable titles and their respective edition years:\u001b[0m\u001b[1;32m                                                 \u001b[0m\u001b[1;32m \u001b[0m\u001b[1;33m│\u001b[0m\n",
       "\u001b[1;33m│\u001b[0m\u001b[1;32m \u001b[0m\u001b[1;32m                                                                                                               \u001b[0m\u001b[1;32m \u001b[0m\u001b[1;33m│\u001b[0m\n",
       "\u001b[1;33m│\u001b[0m\u001b[1;32m \u001b[0m\u001b[1;32m1. **FIFA Anti-Doping Regulations** - 2019 Edition\u001b[0m\u001b[1;32m                                                             \u001b[0m\u001b[1;32m \u001b[0m\u001b[1;33m│\u001b[0m\n",
       "\u001b[1;33m│\u001b[0m\u001b[1;32m \u001b[0m\u001b[1;32m2. **FIFA Match Agents Regulations** - 2003 Edition\u001b[0m\u001b[1;32m                                                            \u001b[0m\u001b[1;32m \u001b[0m\u001b[1;33m│\u001b[0m\n",
       "\u001b[1;33m│\u001b[0m\u001b[1;32m \u001b[0m\u001b[1;32m3. **FIFA Disciplinary Code** - (Other editions not specified, but typically updated around every few years)\u001b[0m\u001b[1;32m   \u001b[0m\u001b[1;32m \u001b[0m\u001b[1;33m│\u001b[0m\n",
       "\u001b[1;33m│\u001b[0m\u001b[1;32m \u001b[0m\u001b[1;32m4. **Regulations Governing the Transfer of Players** - (Edition varies, often updated)\u001b[0m\u001b[1;32m                         \u001b[0m\u001b[1;32m \u001b[0m\u001b[1;33m│\u001b[0m\n",
       "\u001b[1;33m│\u001b[0m\u001b[1;32m \u001b[0m\u001b[1;32m5. **FIFA Club Licensing Regulations** - (Edition varies, often updated)\u001b[0m\u001b[1;32m                                       \u001b[0m\u001b[1;32m \u001b[0m\u001b[1;33m│\u001b[0m\n",
       "\u001b[1;33m│\u001b[0m\u001b[1;32m \u001b[0m\u001b[1;32m                                                                                                               \u001b[0m\u001b[1;32m \u001b[0m\u001b[1;33m│\u001b[0m\n",
       "\u001b[1;33m│\u001b[0m\u001b[1;32m \u001b[0m\u001b[1;32mThe specific regulations can have multiple amendments and updates over different editions, and the exact \u001b[0m\u001b[1;32m      \u001b[0m\u001b[1;32m \u001b[0m\u001b[1;33m│\u001b[0m\n",
       "\u001b[1;33m│\u001b[0m\u001b[1;32m \u001b[0m\u001b[1;32medition year may vary for the regulations not explicitly listed. If you need more detailed information or \u001b[0m\u001b[1;32m     \u001b[0m\u001b[1;32m \u001b[0m\u001b[1;33m│\u001b[0m\n",
       "\u001b[1;33m│\u001b[0m\u001b[1;32m \u001b[0m\u001b[1;32mspecific articles from these regulations, please let me know!\u001b[0m\u001b[1;32m                                                  \u001b[0m\u001b[1;32m \u001b[0m\u001b[1;33m│\u001b[0m\n",
       "\u001b[1;33m╰─────────────────────────────────────────────────────────────────────────────────────────────────────────────────╯\u001b[0m\n"
      ]
     },
     "metadata": {},
     "output_type": "display_data"
    }
   ],
   "source": [
    "# Example usage:\n",
    "run_basic_agent(\"What are the titles of the FIFA regulations that are contained in the FIFA legal hand book, and what are the edition years of those regulations?\")"
   ]
  },
  {
   "cell_type": "code",
   "execution_count": null,
   "metadata": {},
   "outputs": [],
   "source": [
    "# Uncomment the following line to test a different query:\n",
    "run_basic_agent(\"What are the most recent controversies involving FIFA's Football Agent Regulations, from the last 3 months?\")"
   ]
  }
 ],
 "metadata": {
  "kernelspec": {
   "display_name": ".venv",
   "language": "python",
   "name": "python3"
  },
  "language_info": {
   "codemirror_mode": {
    "name": "ipython",
    "version": 3
   },
   "file_extension": ".py",
   "mimetype": "text/x-python",
   "name": "python",
   "nbconvert_exporter": "python",
   "pygments_lexer": "ipython3",
   "version": "3.13.2"
  },
  "polyglot_notebook": {
   "kernelInfo": {
    "defaultKernelName": "csharp",
    "items": [
     {
      "aliases": [],
      "name": "csharp"
     }
    ]
   }
  }
 },
 "nbformat": 4,
 "nbformat_minor": 2
}
