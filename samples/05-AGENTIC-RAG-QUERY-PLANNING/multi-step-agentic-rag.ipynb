{
 "cells": [
  {
   "cell_type": "code",
   "execution_count": null,
   "metadata": {},
   "outputs": [],
   "source": [
    "!pip install -r requirements.txt"
   ]
  },
  {
   "cell_type": "code",
   "execution_count": 2,
   "metadata": {},
   "outputs": [],
   "source": [
    "import os\n",
    "import json\n",
    "import requests\n",
    "import pandas as pd\n",
    "import pyodbc\n",
    "import openai\n",
    "from rich.console import Console\n",
    "from rich.panel import Panel\n",
    "from dotenv import load_dotenv\n",
    "\n",
    "load_dotenv()\n",
    "console = Console()\n",
    "\n",
    "# Azure OpenAI configuration\n",
    "AZURE_OPENAI_API_KEY = os.getenv(\"AZURE_OPENAI_API_KEY\", \"your-azure-openai-api-key\")\n",
    "AZURE_OPENAI_API_VERSION = os.getenv(\"AZURE_OPENAI_API_VERSION\", \"2024-10-21\")\n",
    "AZURE_OPENAI_ENDPOINT = os.getenv(\"AZURE_OPENAI_ENDPOINT\", \"https://your-azure-openai-endpoint.openai.azure.com/\")\n",
    "AZURE_OPENAI_CHAT_COMPLETION_DEPLOYED_MODEL_NAME = os.getenv(\"AZURE_OPENAI_CHAT_COMPLETION_DEPLOYED_MODEL_NAME\", \"gpt-4o\")  # update as needed\n",
    "\n",
    "# Azure AI Search configuration\n",
    "AZURE_SEARCH_ENDPOINT = os.getenv(\"AZURE_SEARCH_SERVICE_ENDPOINT\", \"https://your-search-service.search.windows.net\")\n",
    "AZURE_SEARCH_KEY = os.getenv(\"AZURE_SEARCH_ADMIN_KEY\", \"your-azure-search-key\")\n",
    "SEARCH_INDEX_NAME = \"acc-guidelines-index\"\n",
    "\n",
    "\n",
    "# Bing Search credentials (optional)\n",
    "BING_SEARCH_API_KEY = os.getenv(\"BING_SEARCH_API_KEY\", \"<YOUR-BING-SEARCH-KEY>\")\n",
    "BING_SEARCH_ENDPOINT = \"https://api.bing.microsoft.com/v7.0/search\"\n",
    "\n",
    "# Import Azure libraries for search\n",
    "from azure.search.documents import SearchClient\n",
    "from azure.core.credentials import AzureKeyCredential\n",
    "from azure.search.documents.models import VectorizableTextQuery\n",
    "\n",
    "# Import Azure OpenAI client\n",
    "from openai import AzureOpenAI\n",
    "\n",
    "console = Console()\n",
    "\n",
    "# Azure SQL connection details (for patient data)\n",
    "server = os.getenv(\"AZURE_SQL_SERVER_NAME\")\n",
    "database = os.getenv(\"AZURE_SQL_DATABASE_NAME\")\n",
    "username = os.getenv(\"AZURE_SQL_USER_NAME\")\n",
    "password = os.getenv(\"AZURE_SQL_PASSWORD\")\n",
    "driver = '{ODBC Driver 17 for SQL Server}'\n",
    "\n",
    "# Create an Azure SQL connection string\n",
    "AZURE_SQL_CONNECTION_STRING = f\"DRIVER={driver};SERVER={server};DATABASE={database};UID={username};PWD={password}\"\n"
   ]
  },
  {
   "cell_type": "code",
   "execution_count": 3,
   "metadata": {},
   "outputs": [],
   "source": [
    "# Initialize the Azure OpenAI client\n",
    "openai_client = AzureOpenAI(\n",
    "    api_key=AZURE_OPENAI_API_KEY,\n",
    "    api_version=AZURE_OPENAI_API_VERSION,\n",
    "    azure_endpoint=AZURE_OPENAI_ENDPOINT,\n",
    ")"
   ]
  },
  {
   "cell_type": "code",
   "execution_count": null,
   "metadata": {},
   "outputs": [],
   "source": [
    "from azure.search.documents import SearchClient\n",
    "from azure.core.credentials import AzureKeyCredential\n",
    "from azure.search.documents.models import VectorizableTextQuery\n",
    "\n",
    "def search_acc_guidelines(query: str) -> str:\n",
    "    \"\"\"\n",
    "    Searches the Azure AI Search index 'acc-guidelines-index' \n",
    "    for relevant American College of Cardiology (ACC) guidelines.\n",
    "    \"\"\"\n",
    "    credential = AzureKeyCredential(AZURE_SEARCH_KEY)\n",
    "    client = SearchClient(\n",
    "        endpoint=AZURE_SEARCH_ENDPOINT,\n",
    "        index_name=SEARCH_INDEX_NAME,\n",
    "        credential=credential,\n",
    "    )\n",
    "    \n",
    "    results = client.search(\n",
    "        search_text=query,\n",
    "        vector_queries=[\n",
    "            VectorizableTextQuery(\n",
    "                text=query,\n",
    "                k_nearest_neighbors=10,   # Adjust as needed\n",
    "                fields=\"embedding\"   # Adjust based on your index schema\n",
    "            )\n",
    "        ],\n",
    "        query_type=\"semantic\",\n",
    "        semantic_configuration_name=\"default\",\n",
    "        search_fields=[\"chunk\"],\n",
    "        top=10,\n",
    "        include_total_count=True\n",
    "    )\n",
    "    \n",
    "    retrieved_texts = []\n",
    "    for result in results:\n",
    "        content_chunk = result.get(\"chunk\", \"\")\n",
    "        retrieved_texts.append(content_chunk)\n",
    "    \n",
    "    context_str = \"\\n\".join(retrieved_texts) if retrieved_texts else \"No relevant guidelines found.\"\n",
    "    \n",
    "    console.print(\n",
    "        Panel(\n",
    "            f\"Tool Invoked: ACC Guidelines Search\\nQuery: {query}\",\n",
    "            style=\"bold yellow\"\n",
    "        )\n",
    "    )\n",
    "    return context_str\n"
   ]
  },
  {
   "cell_type": "code",
   "execution_count": 5,
   "metadata": {},
   "outputs": [],
   "source": [
    "def search_bing(query: str) -> str:\n",
    "    \"\"\"\n",
    "    Searches the public web using the Bing Search API.\n",
    "    \"\"\"\n",
    "    headers = {\"Ocp-Apim-Subscription-Key\": BING_SEARCH_API_KEY}\n",
    "    params = {\"q\": query, \"textDecorations\": True, \"textFormat\": \"Raw\"}\n",
    "    response = requests.get(BING_SEARCH_ENDPOINT, headers=headers, params=params)\n",
    "    \n",
    "    if response.status_code == 200:\n",
    "        data = response.json()\n",
    "        if \"webPages\" in data and \"value\" in data[\"webPages\"]:\n",
    "            snippets = [item.get(\"snippet\", \"\") for item in data[\"webPages\"][\"value\"]]\n",
    "            result_text = \"\\n\".join(snippets)\n",
    "        else:\n",
    "            result_text = \"No Bing results found.\"\n",
    "    else:\n",
    "        result_text = f\"Bing search failed with status code {response.status_code}.\"\n",
    "    \n",
    "    console.print(\n",
    "        Panel(\n",
    "            f\"Tool Invoked: Bing Search\\nQuery: {query}\",\n",
    "            style=\"bold magenta\"\n",
    "        )\n",
    "    )\n",
    "    return result_text\n"
   ]
  },
  {
   "cell_type": "code",
   "execution_count": 54,
   "metadata": {},
   "outputs": [],
   "source": [
    "import sqlalchemy\n",
    "\n",
    "def lookup_patient_data(query: str) -> str:\n",
    "    \"\"\"\n",
    "    Queries the 'PatientMedicalData' table in Azure SQL and returns the results as a string.\n",
    "    'query' should be a valid SQL statement.\n",
    "    This version uses SQLAlchemy to create an engine, which is fully supported by pandas.read_sql.\n",
    "    \"\"\"\n",
    "    try:\n",
    "        # Construct the connection URI for SQLAlchemy\n",
    "        connection_uri = (\n",
    "            f\"mssql+pyodbc://{username}:{password}@{server}/{database}\"\n",
    "            \"?driver=ODBC+Driver+17+for+SQL+Server\"\n",
    "        )\n",
    "        engine = sqlalchemy.create_engine(connection_uri)\n",
    "        \n",
    "        # Use the engine in pandas.read_sql, which avoids the warning\n",
    "        df = pd.read_sql(query, engine)\n",
    "        if df.empty:\n",
    "            return \"No rows found.\"\n",
    "        return df.to_string(index=False)\n",
    "    except Exception as e:\n",
    "        return f\"Database error: {str(e)}\"\n"
   ]
  },
  {
   "cell_type": "code",
   "execution_count": 55,
   "metadata": {},
   "outputs": [],
   "source": [
    "tools = [\n",
    "    {\n",
    "        \"name\": \"search_acc_guidelines\",\n",
    "        \"description\": \"Query the ACC guidelines for official cardiology recommendations.\",\n",
    "        \"parameters\": {\n",
    "            \"type\": \"object\",\n",
    "            \"properties\": {\n",
    "                \"query\": {\n",
    "                    \"type\": \"string\",\n",
    "                    \"description\": \"The cardiology-related question or keywords.\"\n",
    "                }\n",
    "            },\n",
    "            \"required\": [\"query\"]\n",
    "        }\n",
    "    },\n",
    "    {\n",
    "        \"name\": \"search_bing\",\n",
    "        \"description\": \"Perform a public web search for real-time or external information.\",\n",
    "        \"parameters\": {\n",
    "            \"type\": \"object\",\n",
    "            \"properties\": {\n",
    "                \"query\": {\n",
    "                    \"type\": \"string\",\n",
    "                    \"description\": \"General query to retrieve public data.\"\n",
    "                }\n",
    "            },\n",
    "            \"required\": [\"query\"]\n",
    "        }\n",
    "    },\n",
    "    {\n",
    "        \"name\": \"lookup_patient_data\",\n",
    "        \"description\": (\n",
    "            \"Query the PatientMedicalData table in Azure SQL. \"\n",
    "            \"The table schema is as follows:\\n\\n\"\n",
    "            \"PatientID: INT PRIMARY KEY IDENTITY,\\n\"\n",
    "            \"FirstName: VARCHAR(100),\\n\"\n",
    "            \"LastName: VARCHAR(100),\\n\"\n",
    "            \"DateOfBirth: DATE,\\n\"\n",
    "            \"Gender: VARCHAR(20),\\n\"\n",
    "            \"ContactNumber: VARCHAR(100),\\n\"\n",
    "            \"EmailAddress: VARCHAR(100),\\n\"\n",
    "            \"Address: VARCHAR(255),\\n\"\n",
    "            \"City: VARCHAR(100),\\n\"\n",
    "            \"PostalCode: VARCHAR(20),\\n\"\n",
    "            \"Country: VARCHAR(100),\\n\"\n",
    "            \"MedicalCondition: VARCHAR(255),\\n\"\n",
    "            \"Medications: VARCHAR(255),\\n\"\n",
    "            \"Allergies: VARCHAR(255),\\n\"\n",
    "            \"BloodType: VARCHAR(10),\\n\"\n",
    "            \"LastVisitDate: DATE,\\n\"\n",
    "            \"SmokingStatus: VARCHAR(50),\\n\"\n",
    "            \"AlcoholConsumption: VARCHAR(50),\\n\"\n",
    "            \"ExerciseFrequency: VARCHAR(50),\\n\"\n",
    "            \"Occupation: VARCHAR(100),\\n\"\n",
    "            \"Height_cm: DECIMAL(5,2),\\n\"\n",
    "            \"Weight_kg: DECIMAL(5,2),\\n\"\n",
    "            \"BloodPressure: VARCHAR(20),\\n\"\n",
    "            \"HeartRate_bpm: INT,\\n\"\n",
    "            \"Temperature_C: DECIMAL(3,1),\\n\"\n",
    "            \"Notes: VARCHAR(MAX)\\n\\n\"\n",
    "            \"Generate and execute a safe SQL query based on the user's natural language request.\"\n",
    "        ),\n",
    "        \"parameters\": {\n",
    "            \"type\": \"object\",\n",
    "            \"properties\": {\n",
    "                \"query\": {\n",
    "                    \"type\": \"string\",\n",
    "                    \"description\": \"A valid SQL query to run against the PatientMedicalData table.\"\n",
    "                }\n",
    "            },\n",
    "            \"required\": [\"query\"]\n",
    "        }\n",
    "    }\n",
    "]\n",
    "\n",
    "# For convenience, map the tool name to the actual function\n",
    "tool_implementations = {\n",
    "    \"search_acc_guidelines\": search_acc_guidelines,\n",
    "    \"search_bing\": search_bing,\n",
    "    \"lookup_patient_data\": lookup_patient_data,\n",
    "}\n",
    "\n",
    "console = Console()"
   ]
  },
  {
   "cell_type": "code",
   "execution_count": 56,
   "metadata": {},
   "outputs": [],
   "source": [
    "SYSTEM_PROMPT = (\n",
    "    \"You are a cardiology-focused AI assistant with access to three tools:\\n\"\n",
    "    \"1) 'search_acc_guidelines' for official ACC guidelines.\\n\"\n",
    "    \"2) 'search_bing' for real-time public information.\\n\"\n",
    "    \"3) 'lookup_patient_data' for patient data from Azure SQL.\\n\\n\"\n",
    "    \"You can call these tools in any order, multiple times if needed, to gather all the context.\\n\"\n",
    "    \"Stop calling tools only when you have enough information to provide a final, cohesive answer.\\n\"\n",
    "    \"Then output your final answer to the user.\"\n",
    ")"
   ]
  },
  {
   "cell_type": "code",
   "execution_count": 60,
   "metadata": {},
   "outputs": [],
   "source": [
    "def run_multi_step_agent(user_query: str, max_steps: int = 5):\n",
    "    \"\"\"\n",
    "    A multi-step agent that calls multiple tools in sequence until a final answer is provided\n",
    "    or the max_steps limit is reached.\n",
    "    \"\"\"\n",
    "    messages = [\n",
    "        {\"role\": \"system\", \"content\": SYSTEM_PROMPT},\n",
    "        {\"role\": \"user\", \"content\": user_query}\n",
    "    ]\n",
    "\n",
    "    for step in range(max_steps):\n",
    "        response = openai_client.chat.completions.create(\n",
    "            model=AZURE_OPENAI_CHAT_COMPLETION_DEPLOYED_MODEL_NAME,\n",
    "            messages=messages,\n",
    "            functions=tools,\n",
    "            function_call=\"auto\"\n",
    "        )\n",
    "        response_message = response.choices[0].message\n",
    "\n",
    "        if response_message.function_call is not None:\n",
    "            function_name = response_message.function_call.name\n",
    "            arguments_str = response_message.function_call.arguments\n",
    "            if arguments_str.strip() == \"\":\n",
    "                function_args = {}\n",
    "            else:\n",
    "                try:\n",
    "                    function_args = json.loads(arguments_str)\n",
    "                except json.JSONDecodeError:\n",
    "                    function_args = {}\n",
    "                    console.print(\n",
    "                        Panel(\n",
    "                            \"Warning: Could not decode function call arguments; defaulting to empty dict.\",\n",
    "                            title=\"JSONDecodeError\",\n",
    "                            style=\"bold red\"\n",
    "                        )\n",
    "                    )\n",
    "            # Ensure the required 'query' key is present; if not, default it to user_query.\n",
    "            if \"query\" not in function_args or not function_args[\"query\"]:\n",
    "                function_args[\"query\"] = user_query\n",
    "\n",
    "            console.print(\n",
    "                Panel(\n",
    "                    f\"**Step {step+1}**: LLM calls function [bold]{function_name}[/bold]\\n\\n\"\n",
    "                    f\"**Arguments**:\\n{json.dumps(function_args, indent=2)}\",\n",
    "                    title=\"Function Call\",\n",
    "                    style=\"bold blue\"\n",
    "                )\n",
    "            )\n",
    "\n",
    "            tool_fn = tool_implementations.get(function_name)\n",
    "            if tool_fn is None:\n",
    "                tool_output = f\"[Error] No implementation for function '{function_name}'.\"\n",
    "            else:\n",
    "                tool_output = tool_fn(**function_args)\n",
    "\n",
    "            messages.append(\n",
    "                {\n",
    "                    \"role\": \"function\",\n",
    "                    \"name\": function_name,\n",
    "                    \"content\": tool_output\n",
    "                }\n",
    "            )\n",
    "        else:\n",
    "            final_answer = response_message.content\n",
    "            console.print(\n",
    "                Panel(\n",
    "                    final_answer,\n",
    "                    title=\"Final Answer\",\n",
    "                    style=\"bold green\",\n",
    "                    border_style=\"yellow\"\n",
    "                )\n",
    "            )\n",
    "            return\n",
    "\n",
    "    console.print(\n",
    "        Panel(\n",
    "            \"Max steps reached without a final answer. Stopping.\",\n",
    "            title=\"Warning\",\n",
    "            style=\"bold red\"\n",
    "        )\n",
    "    )\n",
    "    return\n"
   ]
  },
  {
   "cell_type": "code",
   "execution_count": 61,
   "metadata": {},
   "outputs": [
    {
     "data": {
      "text/html": [
       "<pre style=\"white-space:pre;overflow-x:auto;line-height:normal;font-family:Menlo,'DejaVu Sans Mono',consolas,'Courier New',monospace\"><span style=\"color: #000080; text-decoration-color: #000080; font-weight: bold\">╭─────────────────────────────────────────────────</span> Function Call <span style=\"color: #000080; text-decoration-color: #000080; font-weight: bold\">─────────────────────────────────────────────────╮</span>\n",
       "<span style=\"color: #000080; text-decoration-color: #000080; font-weight: bold\">│ **Step 1**: LLM calls function search_acc_guidelines                                                            │</span>\n",
       "<span style=\"color: #000080; text-decoration-color: #000080; font-weight: bold\">│                                                                                                                 │</span>\n",
       "<span style=\"color: #000080; text-decoration-color: #000080; font-weight: bold\">│ **Arguments**:                                                                                                  │</span>\n",
       "<span style=\"color: #000080; text-decoration-color: #000080; font-weight: bold\">│ {                                                                                                               │</span>\n",
       "<span style=\"color: #000080; text-decoration-color: #000080; font-weight: bold\">│   \"query\": \"first-line therapy for hypertension in elderly patients\"                                            │</span>\n",
       "<span style=\"color: #000080; text-decoration-color: #000080; font-weight: bold\">│ }                                                                                                               │</span>\n",
       "<span style=\"color: #000080; text-decoration-color: #000080; font-weight: bold\">╰─────────────────────────────────────────────────────────────────────────────────────────────────────────────────╯</span>\n",
       "</pre>\n"
      ],
      "text/plain": [
       "\u001b[1;34m╭─\u001b[0m\u001b[1;34m────────────────────────────────────────────────\u001b[0m Function Call \u001b[1;34m────────────────────────────────────────────────\u001b[0m\u001b[1;34m─╮\u001b[0m\n",
       "\u001b[1;34m│\u001b[0m\u001b[1;34m \u001b[0m\u001b[1;34m**Step 1**: LLM calls function \u001b[0m\u001b[1;34msearch_acc_guidelines\u001b[0m\u001b[1;34m                                                           \u001b[0m\u001b[1;34m \u001b[0m\u001b[1;34m│\u001b[0m\n",
       "\u001b[1;34m│\u001b[0m\u001b[1;34m \u001b[0m\u001b[1;34m                                                                                                               \u001b[0m\u001b[1;34m \u001b[0m\u001b[1;34m│\u001b[0m\n",
       "\u001b[1;34m│\u001b[0m\u001b[1;34m \u001b[0m\u001b[1;34m**Arguments**:\u001b[0m\u001b[1;34m                                                                                                 \u001b[0m\u001b[1;34m \u001b[0m\u001b[1;34m│\u001b[0m\n",
       "\u001b[1;34m│\u001b[0m\u001b[1;34m \u001b[0m\u001b[1;34m{\u001b[0m\u001b[1;34m                                                                                                              \u001b[0m\u001b[1;34m \u001b[0m\u001b[1;34m│\u001b[0m\n",
       "\u001b[1;34m│\u001b[0m\u001b[1;34m \u001b[0m\u001b[1;34m  \"query\": \"first-line therapy for hypertension in elderly patients\"\u001b[0m\u001b[1;34m                                           \u001b[0m\u001b[1;34m \u001b[0m\u001b[1;34m│\u001b[0m\n",
       "\u001b[1;34m│\u001b[0m\u001b[1;34m \u001b[0m\u001b[1;34m}\u001b[0m\u001b[1;34m                                                                                                              \u001b[0m\u001b[1;34m \u001b[0m\u001b[1;34m│\u001b[0m\n",
       "\u001b[1;34m╰─────────────────────────────────────────────────────────────────────────────────────────────────────────────────╯\u001b[0m\n"
      ]
     },
     "metadata": {},
     "output_type": "display_data"
    },
    {
     "data": {
      "text/html": [
       "<pre style=\"white-space:pre;overflow-x:auto;line-height:normal;font-family:Menlo,'DejaVu Sans Mono',consolas,'Courier New',monospace\"><span style=\"color: #808000; text-decoration-color: #808000; font-weight: bold\">╭─────────────────────────────────────────────────────────────────────────────────────────────────────────────────╮</span>\n",
       "<span style=\"color: #808000; text-decoration-color: #808000; font-weight: bold\">│ Tool Invoked: ACC Guidelines Search                                                                             │</span>\n",
       "<span style=\"color: #808000; text-decoration-color: #808000; font-weight: bold\">│ Query: first-line therapy for hypertension in elderly patients                                                  │</span>\n",
       "<span style=\"color: #808000; text-decoration-color: #808000; font-weight: bold\">╰─────────────────────────────────────────────────────────────────────────────────────────────────────────────────╯</span>\n",
       "</pre>\n"
      ],
      "text/plain": [
       "\u001b[1;33m╭─────────────────────────────────────────────────────────────────────────────────────────────────────────────────╮\u001b[0m\n",
       "\u001b[1;33m│\u001b[0m\u001b[1;33m \u001b[0m\u001b[1;33mTool Invoked: ACC Guidelines Search\u001b[0m\u001b[1;33m                                                                            \u001b[0m\u001b[1;33m \u001b[0m\u001b[1;33m│\u001b[0m\n",
       "\u001b[1;33m│\u001b[0m\u001b[1;33m \u001b[0m\u001b[1;33mQuery: first-line therapy for hypertension in elderly patients\u001b[0m\u001b[1;33m                                                 \u001b[0m\u001b[1;33m \u001b[0m\u001b[1;33m│\u001b[0m\n",
       "\u001b[1;33m╰─────────────────────────────────────────────────────────────────────────────────────────────────────────────────╯\u001b[0m\n"
      ]
     },
     "metadata": {},
     "output_type": "display_data"
    },
    {
     "data": {
      "text/html": [
       "<pre style=\"white-space:pre;overflow-x:auto;line-height:normal;font-family:Menlo,'DejaVu Sans Mono',consolas,'Courier New',monospace\"><span style=\"color: #808000; text-decoration-color: #808000; font-weight: bold\">╭─────────────────────────────────────────────────</span><span style=\"color: #808000; text-decoration-color: #808000\"> Final Answer </span><span style=\"color: #808000; text-decoration-color: #808000; font-weight: bold\">──────────────────────────────────────────────────╮</span>\n",
       "<span style=\"color: #808000; text-decoration-color: #808000; font-weight: bold\">│</span><span style=\"color: #008000; text-decoration-color: #008000; font-weight: bold\"> The American College of Cardiology (ACC) recommends the following first-line medications for the treatment of   </span><span style=\"color: #808000; text-decoration-color: #808000; font-weight: bold\">│</span>\n",
       "<span style=\"color: #808000; text-decoration-color: #808000; font-weight: bold\">│</span><span style=\"color: #008000; text-decoration-color: #008000; font-weight: bold\"> hypertension in elderly patients:                                                                               </span><span style=\"color: #808000; text-decoration-color: #808000; font-weight: bold\">│</span>\n",
       "<span style=\"color: #808000; text-decoration-color: #808000; font-weight: bold\">│</span><span style=\"color: #008000; text-decoration-color: #008000; font-weight: bold\">                                                                                                                 </span><span style=\"color: #808000; text-decoration-color: #808000; font-weight: bold\">│</span>\n",
       "<span style=\"color: #808000; text-decoration-color: #808000; font-weight: bold\">│</span><span style=\"color: #008000; text-decoration-color: #008000; font-weight: bold\"> 1. **Thiazide diuretics** (e.g., chlorthalidone),                                                               </span><span style=\"color: #808000; text-decoration-color: #808000; font-weight: bold\">│</span>\n",
       "<span style=\"color: #808000; text-decoration-color: #808000; font-weight: bold\">│</span><span style=\"color: #008000; text-decoration-color: #008000; font-weight: bold\"> 2. **Calcium channel blockers (CCBs)**, and                                                                     </span><span style=\"color: #808000; text-decoration-color: #808000; font-weight: bold\">│</span>\n",
       "<span style=\"color: #808000; text-decoration-color: #808000; font-weight: bold\">│</span><span style=\"color: #008000; text-decoration-color: #008000; font-weight: bold\"> 3. **Angiotensin-converting enzyme (ACE) inhibitors** or **Angiotensin II receptor blockers (ARBs)**.           </span><span style=\"color: #808000; text-decoration-color: #808000; font-weight: bold\">│</span>\n",
       "<span style=\"color: #808000; text-decoration-color: #808000; font-weight: bold\">│</span><span style=\"color: #008000; text-decoration-color: #008000; font-weight: bold\">                                                                                                                 </span><span style=\"color: #808000; text-decoration-color: #808000; font-weight: bold\">│</span>\n",
       "<span style=\"color: #808000; text-decoration-color: #808000; font-weight: bold\">│</span><span style=\"color: #008000; text-decoration-color: #008000; font-weight: bold\"> It's essential to consider the patient's comorbid conditions when selecting the initial medication, as certain  </span><span style=\"color: #808000; text-decoration-color: #808000; font-weight: bold\">│</span>\n",
       "<span style=\"color: #808000; text-decoration-color: #808000; font-weight: bold\">│</span><span style=\"color: #008000; text-decoration-color: #008000; font-weight: bold\"> classes may be more beneficial based on specific health issues (e.g., heart failure, chronic kidney disease).   </span><span style=\"color: #808000; text-decoration-color: #808000; font-weight: bold\">│</span>\n",
       "<span style=\"color: #808000; text-decoration-color: #808000; font-weight: bold\">│</span><span style=\"color: #008000; text-decoration-color: #008000; font-weight: bold\">                                                                                                                 </span><span style=\"color: #808000; text-decoration-color: #808000; font-weight: bold\">│</span>\n",
       "<span style=\"color: #808000; text-decoration-color: #808000; font-weight: bold\">│</span><span style=\"color: #008000; text-decoration-color: #008000; font-weight: bold\"> The guidelines suggest that a significant number of patients may benefit from initiating treatment with a       </span><span style=\"color: #808000; text-decoration-color: #808000; font-weight: bold\">│</span>\n",
       "<span style=\"color: #808000; text-decoration-color: #808000; font-weight: bold\">│</span><span style=\"color: #008000; text-decoration-color: #008000; font-weight: bold\"> combination of two agents, especially if they have stage 2 hypertension or a blood pressure significantly above </span><span style=\"color: #808000; text-decoration-color: #808000; font-weight: bold\">│</span>\n",
       "<span style=\"color: #808000; text-decoration-color: #808000; font-weight: bold\">│</span><span style=\"color: #008000; text-decoration-color: #008000; font-weight: bold\"> the target level. Close monitoring is advised, particularly in older adults, to avoid potential adverse effects </span><span style=\"color: #808000; text-decoration-color: #808000; font-weight: bold\">│</span>\n",
       "<span style=\"color: #808000; text-decoration-color: #808000; font-weight: bold\">│</span><span style=\"color: #008000; text-decoration-color: #008000; font-weight: bold\"> like hypotension or orthostatic hypotension.                                                                    </span><span style=\"color: #808000; text-decoration-color: #808000; font-weight: bold\">│</span>\n",
       "<span style=\"color: #808000; text-decoration-color: #808000; font-weight: bold\">│</span><span style=\"color: #008000; text-decoration-color: #008000; font-weight: bold\">                                                                                                                 </span><span style=\"color: #808000; text-decoration-color: #808000; font-weight: bold\">│</span>\n",
       "<span style=\"color: #808000; text-decoration-color: #808000; font-weight: bold\">│</span><span style=\"color: #008000; text-decoration-color: #008000; font-weight: bold\"> Overall, the goal of treatment remains to reduce blood pressure while addressing the underlying cardiovascular  </span><span style=\"color: #808000; text-decoration-color: #808000; font-weight: bold\">│</span>\n",
       "<span style=\"color: #808000; text-decoration-color: #808000; font-weight: bold\">│</span><span style=\"color: #008000; text-decoration-color: #008000; font-weight: bold\"> risk factors.                                                                                                   </span><span style=\"color: #808000; text-decoration-color: #808000; font-weight: bold\">│</span>\n",
       "<span style=\"color: #808000; text-decoration-color: #808000; font-weight: bold\">╰─────────────────────────────────────────────────────────────────────────────────────────────────────────────────╯</span>\n",
       "</pre>\n"
      ],
      "text/plain": [
       "\u001b[1;33m╭─\u001b[0m\u001b[1;33m────────────────────────────────────────────────\u001b[0m\u001b[33m Final Answer \u001b[0m\u001b[1;33m─────────────────────────────────────────────────\u001b[0m\u001b[1;33m─╮\u001b[0m\n",
       "\u001b[1;33m│\u001b[0m\u001b[1;32m \u001b[0m\u001b[1;32mThe American College of Cardiology (ACC) recommends the following first-line medications for the treatment of \u001b[0m\u001b[1;32m \u001b[0m\u001b[1;32m \u001b[0m\u001b[1;33m│\u001b[0m\n",
       "\u001b[1;33m│\u001b[0m\u001b[1;32m \u001b[0m\u001b[1;32mhypertension in elderly patients:\u001b[0m\u001b[1;32m                                                                              \u001b[0m\u001b[1;32m \u001b[0m\u001b[1;33m│\u001b[0m\n",
       "\u001b[1;33m│\u001b[0m\u001b[1;32m \u001b[0m\u001b[1;32m                                                                                                               \u001b[0m\u001b[1;32m \u001b[0m\u001b[1;33m│\u001b[0m\n",
       "\u001b[1;33m│\u001b[0m\u001b[1;32m \u001b[0m\u001b[1;32m1. **Thiazide diuretics** (e.g., chlorthalidone),\u001b[0m\u001b[1;32m                                                              \u001b[0m\u001b[1;32m \u001b[0m\u001b[1;33m│\u001b[0m\n",
       "\u001b[1;33m│\u001b[0m\u001b[1;32m \u001b[0m\u001b[1;32m2. **Calcium channel blockers (CCBs)**, and\u001b[0m\u001b[1;32m                                                                    \u001b[0m\u001b[1;32m \u001b[0m\u001b[1;33m│\u001b[0m\n",
       "\u001b[1;33m│\u001b[0m\u001b[1;32m \u001b[0m\u001b[1;32m3. **Angiotensin-converting enzyme (ACE) inhibitors** or **Angiotensin II receptor blockers (ARBs)**.\u001b[0m\u001b[1;32m          \u001b[0m\u001b[1;32m \u001b[0m\u001b[1;33m│\u001b[0m\n",
       "\u001b[1;33m│\u001b[0m\u001b[1;32m \u001b[0m\u001b[1;32m                                                                                                               \u001b[0m\u001b[1;32m \u001b[0m\u001b[1;33m│\u001b[0m\n",
       "\u001b[1;33m│\u001b[0m\u001b[1;32m \u001b[0m\u001b[1;32mIt's essential to consider the patient's comorbid conditions when selecting the initial medication, as certain \u001b[0m\u001b[1;32m \u001b[0m\u001b[1;33m│\u001b[0m\n",
       "\u001b[1;33m│\u001b[0m\u001b[1;32m \u001b[0m\u001b[1;32mclasses may be more beneficial based on specific health issues (e.g., heart failure, chronic kidney disease).\u001b[0m\u001b[1;32m  \u001b[0m\u001b[1;32m \u001b[0m\u001b[1;33m│\u001b[0m\n",
       "\u001b[1;33m│\u001b[0m\u001b[1;32m \u001b[0m\u001b[1;32m                                                                                                               \u001b[0m\u001b[1;32m \u001b[0m\u001b[1;33m│\u001b[0m\n",
       "\u001b[1;33m│\u001b[0m\u001b[1;32m \u001b[0m\u001b[1;32mThe guidelines suggest that a significant number of patients may benefit from initiating treatment with a \u001b[0m\u001b[1;32m     \u001b[0m\u001b[1;32m \u001b[0m\u001b[1;33m│\u001b[0m\n",
       "\u001b[1;33m│\u001b[0m\u001b[1;32m \u001b[0m\u001b[1;32mcombination of two agents, especially if they have stage 2 hypertension or a blood pressure significantly above\u001b[0m\u001b[1;32m \u001b[0m\u001b[1;33m│\u001b[0m\n",
       "\u001b[1;33m│\u001b[0m\u001b[1;32m \u001b[0m\u001b[1;32mthe target level. Close monitoring is advised, particularly in older adults, to avoid potential adverse effects\u001b[0m\u001b[1;32m \u001b[0m\u001b[1;33m│\u001b[0m\n",
       "\u001b[1;33m│\u001b[0m\u001b[1;32m \u001b[0m\u001b[1;32mlike hypotension or orthostatic hypotension.\u001b[0m\u001b[1;32m                                                                   \u001b[0m\u001b[1;32m \u001b[0m\u001b[1;33m│\u001b[0m\n",
       "\u001b[1;33m│\u001b[0m\u001b[1;32m \u001b[0m\u001b[1;32m                                                                                                               \u001b[0m\u001b[1;32m \u001b[0m\u001b[1;33m│\u001b[0m\n",
       "\u001b[1;33m│\u001b[0m\u001b[1;32m \u001b[0m\u001b[1;32mOverall, the goal of treatment remains to reduce blood pressure while addressing the underlying cardiovascular \u001b[0m\u001b[1;32m \u001b[0m\u001b[1;33m│\u001b[0m\n",
       "\u001b[1;33m│\u001b[0m\u001b[1;32m \u001b[0m\u001b[1;32mrisk factors.\u001b[0m\u001b[1;32m                                                                                                  \u001b[0m\u001b[1;32m \u001b[0m\u001b[1;33m│\u001b[0m\n",
       "\u001b[1;33m╰─────────────────────────────────────────────────────────────────────────────────────────────────────────────────╯\u001b[0m\n"
      ]
     },
     "metadata": {},
     "output_type": "display_data"
    }
   ],
   "source": [
    "user_question_1 = \"What does the ACC recommend as first-line therapy for hypertension in elderly patients?\"\n",
    "run_multi_step_agent(user_question_1)\n"
   ]
  },
  {
   "cell_type": "code",
   "execution_count": 62,
   "metadata": {},
   "outputs": [
    {
     "data": {
      "text/html": [
       "<pre style=\"white-space:pre;overflow-x:auto;line-height:normal;font-family:Menlo,'DejaVu Sans Mono',consolas,'Courier New',monospace\"><span style=\"color: #000080; text-decoration-color: #000080; font-weight: bold\">╭─────────────────────────────────────────────────</span> Function Call <span style=\"color: #000080; text-decoration-color: #000080; font-weight: bold\">─────────────────────────────────────────────────╮</span>\n",
       "<span style=\"color: #000080; text-decoration-color: #000080; font-weight: bold\">│ **Step 1**: LLM calls function search_bing                                                                      │</span>\n",
       "<span style=\"color: #000080; text-decoration-color: #000080; font-weight: bold\">│                                                                                                                 │</span>\n",
       "<span style=\"color: #000080; text-decoration-color: #000080; font-weight: bold\">│ **Arguments**:                                                                                                  │</span>\n",
       "<span style=\"color: #000080; text-decoration-color: #000080; font-weight: bold\">│ {                                                                                                               │</span>\n",
       "<span style=\"color: #000080; text-decoration-color: #000080; font-weight: bold\">│   \"query\": \"2025 FDA updates new anticoagulant therapies\"                                                       │</span>\n",
       "<span style=\"color: #000080; text-decoration-color: #000080; font-weight: bold\">│ }                                                                                                               │</span>\n",
       "<span style=\"color: #000080; text-decoration-color: #000080; font-weight: bold\">╰─────────────────────────────────────────────────────────────────────────────────────────────────────────────────╯</span>\n",
       "</pre>\n"
      ],
      "text/plain": [
       "\u001b[1;34m╭─\u001b[0m\u001b[1;34m────────────────────────────────────────────────\u001b[0m Function Call \u001b[1;34m────────────────────────────────────────────────\u001b[0m\u001b[1;34m─╮\u001b[0m\n",
       "\u001b[1;34m│\u001b[0m\u001b[1;34m \u001b[0m\u001b[1;34m**Step 1**: LLM calls function \u001b[0m\u001b[1;34msearch_bing\u001b[0m\u001b[1;34m                                                                     \u001b[0m\u001b[1;34m \u001b[0m\u001b[1;34m│\u001b[0m\n",
       "\u001b[1;34m│\u001b[0m\u001b[1;34m \u001b[0m\u001b[1;34m                                                                                                               \u001b[0m\u001b[1;34m \u001b[0m\u001b[1;34m│\u001b[0m\n",
       "\u001b[1;34m│\u001b[0m\u001b[1;34m \u001b[0m\u001b[1;34m**Arguments**:\u001b[0m\u001b[1;34m                                                                                                 \u001b[0m\u001b[1;34m \u001b[0m\u001b[1;34m│\u001b[0m\n",
       "\u001b[1;34m│\u001b[0m\u001b[1;34m \u001b[0m\u001b[1;34m{\u001b[0m\u001b[1;34m                                                                                                              \u001b[0m\u001b[1;34m \u001b[0m\u001b[1;34m│\u001b[0m\n",
       "\u001b[1;34m│\u001b[0m\u001b[1;34m \u001b[0m\u001b[1;34m  \"query\": \"2025 FDA updates new anticoagulant therapies\"\u001b[0m\u001b[1;34m                                                      \u001b[0m\u001b[1;34m \u001b[0m\u001b[1;34m│\u001b[0m\n",
       "\u001b[1;34m│\u001b[0m\u001b[1;34m \u001b[0m\u001b[1;34m}\u001b[0m\u001b[1;34m                                                                                                              \u001b[0m\u001b[1;34m \u001b[0m\u001b[1;34m│\u001b[0m\n",
       "\u001b[1;34m╰─────────────────────────────────────────────────────────────────────────────────────────────────────────────────╯\u001b[0m\n"
      ]
     },
     "metadata": {},
     "output_type": "display_data"
    },
    {
     "data": {
      "text/html": [
       "<pre style=\"white-space:pre;overflow-x:auto;line-height:normal;font-family:Menlo,'DejaVu Sans Mono',consolas,'Courier New',monospace\"><span style=\"color: #800080; text-decoration-color: #800080; font-weight: bold\">╭─────────────────────────────────────────────────────────────────────────────────────────────────────────────────╮</span>\n",
       "<span style=\"color: #800080; text-decoration-color: #800080; font-weight: bold\">│ Tool Invoked: Bing Search                                                                                       │</span>\n",
       "<span style=\"color: #800080; text-decoration-color: #800080; font-weight: bold\">│ Query: 2025 FDA updates new anticoagulant therapies                                                             │</span>\n",
       "<span style=\"color: #800080; text-decoration-color: #800080; font-weight: bold\">╰─────────────────────────────────────────────────────────────────────────────────────────────────────────────────╯</span>\n",
       "</pre>\n"
      ],
      "text/plain": [
       "\u001b[1;35m╭─────────────────────────────────────────────────────────────────────────────────────────────────────────────────╮\u001b[0m\n",
       "\u001b[1;35m│\u001b[0m\u001b[1;35m \u001b[0m\u001b[1;35mTool Invoked: Bing Search\u001b[0m\u001b[1;35m                                                                                      \u001b[0m\u001b[1;35m \u001b[0m\u001b[1;35m│\u001b[0m\n",
       "\u001b[1;35m│\u001b[0m\u001b[1;35m \u001b[0m\u001b[1;35mQuery: 2025 FDA updates new anticoagulant therapies\u001b[0m\u001b[1;35m                                                            \u001b[0m\u001b[1;35m \u001b[0m\u001b[1;35m│\u001b[0m\n",
       "\u001b[1;35m╰─────────────────────────────────────────────────────────────────────────────────────────────────────────────────╯\u001b[0m\n"
      ]
     },
     "metadata": {},
     "output_type": "display_data"
    },
    {
     "data": {
      "text/html": [
       "<pre style=\"white-space:pre;overflow-x:auto;line-height:normal;font-family:Menlo,'DejaVu Sans Mono',consolas,'Courier New',monospace\"><span style=\"color: #808000; text-decoration-color: #808000; font-weight: bold\">╭─────────────────────────────────────────────────</span><span style=\"color: #808000; text-decoration-color: #808000\"> Final Answer </span><span style=\"color: #808000; text-decoration-color: #808000; font-weight: bold\">──────────────────────────────────────────────────╮</span>\n",
       "<span style=\"color: #808000; text-decoration-color: #808000; font-weight: bold\">│</span><span style=\"color: #008000; text-decoration-color: #008000; font-weight: bold\"> As of early 2025, there are several updates regarding new anticoagulant therapies anticipated for FDA approval. </span><span style=\"color: #808000; text-decoration-color: #808000; font-weight: bold\">│</span>\n",
       "<span style=\"color: #808000; text-decoration-color: #808000; font-weight: bold\">│</span><span style=\"color: #008000; text-decoration-color: #008000; font-weight: bold\"> Some of the notable points include:                                                                             </span><span style=\"color: #808000; text-decoration-color: #808000; font-weight: bold\">│</span>\n",
       "<span style=\"color: #808000; text-decoration-color: #808000; font-weight: bold\">│</span><span style=\"color: #008000; text-decoration-color: #008000; font-weight: bold\">                                                                                                                 </span><span style=\"color: #808000; text-decoration-color: #808000; font-weight: bold\">│</span>\n",
       "<span style=\"color: #808000; text-decoration-color: #808000; font-weight: bold\">│</span><span style=\"color: #008000; text-decoration-color: #008000; font-weight: bold\"> 1. **New Anti-Factor XI Anticoagulants**: There is ongoing research and development focused on new              </span><span style=\"color: #808000; text-decoration-color: #808000; font-weight: bold\">│</span>\n",
       "<span style=\"color: #808000; text-decoration-color: #808000; font-weight: bold\">│</span><span style=\"color: #008000; text-decoration-color: #008000; font-weight: bold\"> anticoagulants that inhibit factor XI/XIa. These drugs are showing promise for preventing ischemic risks and    </span><span style=\"color: #808000; text-decoration-color: #808000; font-weight: bold\">│</span>\n",
       "<span style=\"color: #808000; text-decoration-color: #808000; font-weight: bold\">│</span><span style=\"color: #008000; text-decoration-color: #008000; font-weight: bold\"> could represent a significant advancement in anticoagulant therapy.                                             </span><span style=\"color: #808000; text-decoration-color: #808000; font-weight: bold\">│</span>\n",
       "<span style=\"color: #808000; text-decoration-color: #808000; font-weight: bold\">│</span><span style=\"color: #008000; text-decoration-color: #008000; font-weight: bold\">                                                                                                                 </span><span style=\"color: #808000; text-decoration-color: #808000; font-weight: bold\">│</span>\n",
       "<span style=\"color: #808000; text-decoration-color: #808000; font-weight: bold\">│</span><span style=\"color: #008000; text-decoration-color: #008000; font-weight: bold\"> 2. **Anticipated Approvals**: The FDA is expected to review and possibly approve new medications in this area,  </span><span style=\"color: #808000; text-decoration-color: #808000; font-weight: bold\">│</span>\n",
       "<span style=\"color: #808000; text-decoration-color: #808000; font-weight: bold\">│</span><span style=\"color: #008000; text-decoration-color: #008000; font-weight: bold\"> which might include novel anticoagulants that are not yet on the market or expanding the indications of         </span><span style=\"color: #808000; text-decoration-color: #808000; font-weight: bold\">│</span>\n",
       "<span style=\"color: #808000; text-decoration-color: #808000; font-weight: bold\">│</span><span style=\"color: #008000; text-decoration-color: #008000; font-weight: bold\"> existing ones.                                                                                                  </span><span style=\"color: #808000; text-decoration-color: #808000; font-weight: bold\">│</span>\n",
       "<span style=\"color: #808000; text-decoration-color: #808000; font-weight: bold\">│</span><span style=\"color: #008000; text-decoration-color: #008000; font-weight: bold\">                                                                                                                 </span><span style=\"color: #808000; text-decoration-color: #808000; font-weight: bold\">│</span>\n",
       "<span style=\"color: #808000; text-decoration-color: #808000; font-weight: bold\">│</span><span style=\"color: #008000; text-decoration-color: #008000; font-weight: bold\"> 3. **Drug Approval Timeline**: The PDUFA (Prescription Drug User Fee Act) dates indicate that the FDA is likely </span><span style=\"color: #808000; text-decoration-color: #808000; font-weight: bold\">│</span>\n",
       "<span style=\"color: #808000; text-decoration-color: #808000; font-weight: bold\">│</span><span style=\"color: #008000; text-decoration-color: #008000; font-weight: bold\"> to make decisions on various new drug applications throughout 2025. This means that several new anticoagulants  </span><span style=\"color: #808000; text-decoration-color: #808000; font-weight: bold\">│</span>\n",
       "<span style=\"color: #808000; text-decoration-color: #808000; font-weight: bold\">│</span><span style=\"color: #008000; text-decoration-color: #008000; font-weight: bold\"> may soon be available or have expanded uses.                                                                    </span><span style=\"color: #808000; text-decoration-color: #808000; font-weight: bold\">│</span>\n",
       "<span style=\"color: #808000; text-decoration-color: #808000; font-weight: bold\">│</span><span style=\"color: #008000; text-decoration-color: #008000; font-weight: bold\">                                                                                                                 </span><span style=\"color: #808000; text-decoration-color: #808000; font-weight: bold\">│</span>\n",
       "<span style=\"color: #808000; text-decoration-color: #808000; font-weight: bold\">│</span><span style=\"color: #008000; text-decoration-color: #008000; font-weight: bold\"> These updates highlight the progress in anticoagulant therapy, particularly towards addressing the balance      </span><span style=\"color: #808000; text-decoration-color: #808000; font-weight: bold\">│</span>\n",
       "<span style=\"color: #808000; text-decoration-color: #808000; font-weight: bold\">│</span><span style=\"color: #008000; text-decoration-color: #008000; font-weight: bold\"> between efficacy and safety, which remains a pivotal concern in anticoagulant use.                              </span><span style=\"color: #808000; text-decoration-color: #808000; font-weight: bold\">│</span>\n",
       "<span style=\"color: #808000; text-decoration-color: #808000; font-weight: bold\">╰─────────────────────────────────────────────────────────────────────────────────────────────────────────────────╯</span>\n",
       "</pre>\n"
      ],
      "text/plain": [
       "\u001b[1;33m╭─\u001b[0m\u001b[1;33m────────────────────────────────────────────────\u001b[0m\u001b[33m Final Answer \u001b[0m\u001b[1;33m─────────────────────────────────────────────────\u001b[0m\u001b[1;33m─╮\u001b[0m\n",
       "\u001b[1;33m│\u001b[0m\u001b[1;32m \u001b[0m\u001b[1;32mAs of early 2025, there are several updates regarding new anticoagulant therapies anticipated for FDA approval.\u001b[0m\u001b[1;32m \u001b[0m\u001b[1;33m│\u001b[0m\n",
       "\u001b[1;33m│\u001b[0m\u001b[1;32m \u001b[0m\u001b[1;32mSome of the notable points include:\u001b[0m\u001b[1;32m                                                                            \u001b[0m\u001b[1;32m \u001b[0m\u001b[1;33m│\u001b[0m\n",
       "\u001b[1;33m│\u001b[0m\u001b[1;32m \u001b[0m\u001b[1;32m                                                                                                               \u001b[0m\u001b[1;32m \u001b[0m\u001b[1;33m│\u001b[0m\n",
       "\u001b[1;33m│\u001b[0m\u001b[1;32m \u001b[0m\u001b[1;32m1. **New Anti-Factor XI Anticoagulants**: There is ongoing research and development focused on new \u001b[0m\u001b[1;32m            \u001b[0m\u001b[1;32m \u001b[0m\u001b[1;33m│\u001b[0m\n",
       "\u001b[1;33m│\u001b[0m\u001b[1;32m \u001b[0m\u001b[1;32manticoagulants that inhibit factor XI/XIa. These drugs are showing promise for preventing ischemic risks and \u001b[0m\u001b[1;32m  \u001b[0m\u001b[1;32m \u001b[0m\u001b[1;33m│\u001b[0m\n",
       "\u001b[1;33m│\u001b[0m\u001b[1;32m \u001b[0m\u001b[1;32mcould represent a significant advancement in anticoagulant therapy.\u001b[0m\u001b[1;32m                                            \u001b[0m\u001b[1;32m \u001b[0m\u001b[1;33m│\u001b[0m\n",
       "\u001b[1;33m│\u001b[0m\u001b[1;32m \u001b[0m\u001b[1;32m                                                                                                               \u001b[0m\u001b[1;32m \u001b[0m\u001b[1;33m│\u001b[0m\n",
       "\u001b[1;33m│\u001b[0m\u001b[1;32m \u001b[0m\u001b[1;32m2. **Anticipated Approvals**: The FDA is expected to review and possibly approve new medications in this area, \u001b[0m\u001b[1;32m \u001b[0m\u001b[1;33m│\u001b[0m\n",
       "\u001b[1;33m│\u001b[0m\u001b[1;32m \u001b[0m\u001b[1;32mwhich might include novel anticoagulants that are not yet on the market or expanding the indications of \u001b[0m\u001b[1;32m       \u001b[0m\u001b[1;32m \u001b[0m\u001b[1;33m│\u001b[0m\n",
       "\u001b[1;33m│\u001b[0m\u001b[1;32m \u001b[0m\u001b[1;32mexisting ones.\u001b[0m\u001b[1;32m                                                                                                 \u001b[0m\u001b[1;32m \u001b[0m\u001b[1;33m│\u001b[0m\n",
       "\u001b[1;33m│\u001b[0m\u001b[1;32m \u001b[0m\u001b[1;32m                                                                                                               \u001b[0m\u001b[1;32m \u001b[0m\u001b[1;33m│\u001b[0m\n",
       "\u001b[1;33m│\u001b[0m\u001b[1;32m \u001b[0m\u001b[1;32m3. **Drug Approval Timeline**: The PDUFA (Prescription Drug User Fee Act) dates indicate that the FDA is likely\u001b[0m\u001b[1;32m \u001b[0m\u001b[1;33m│\u001b[0m\n",
       "\u001b[1;33m│\u001b[0m\u001b[1;32m \u001b[0m\u001b[1;32mto make decisions on various new drug applications throughout 2025. This means that several new anticoagulants \u001b[0m\u001b[1;32m \u001b[0m\u001b[1;33m│\u001b[0m\n",
       "\u001b[1;33m│\u001b[0m\u001b[1;32m \u001b[0m\u001b[1;32mmay soon be available or have expanded uses.\u001b[0m\u001b[1;32m                                                                   \u001b[0m\u001b[1;32m \u001b[0m\u001b[1;33m│\u001b[0m\n",
       "\u001b[1;33m│\u001b[0m\u001b[1;32m \u001b[0m\u001b[1;32m                                                                                                               \u001b[0m\u001b[1;32m \u001b[0m\u001b[1;33m│\u001b[0m\n",
       "\u001b[1;33m│\u001b[0m\u001b[1;32m \u001b[0m\u001b[1;32mThese updates highlight the progress in anticoagulant therapy, particularly towards addressing the balance \u001b[0m\u001b[1;32m    \u001b[0m\u001b[1;32m \u001b[0m\u001b[1;33m│\u001b[0m\n",
       "\u001b[1;33m│\u001b[0m\u001b[1;32m \u001b[0m\u001b[1;32mbetween efficacy and safety, which remains a pivotal concern in anticoagulant use.\u001b[0m\u001b[1;32m                             \u001b[0m\u001b[1;32m \u001b[0m\u001b[1;33m│\u001b[0m\n",
       "\u001b[1;33m╰─────────────────────────────────────────────────────────────────────────────────────────────────────────────────╯\u001b[0m\n"
      ]
     },
     "metadata": {},
     "output_type": "display_data"
    }
   ],
   "source": [
    "user_question_2 = \"Are there any recent updates in 2025 on new anticoagulant therapies from the FDA?\"\n",
    "run_multi_step_agent(user_question_2)\n"
   ]
  },
  {
   "cell_type": "code",
   "execution_count": 63,
   "metadata": {},
   "outputs": [
    {
     "data": {
      "text/html": [
       "<pre style=\"white-space:pre;overflow-x:auto;line-height:normal;font-family:Menlo,'DejaVu Sans Mono',consolas,'Courier New',monospace\"><span style=\"color: #000080; text-decoration-color: #000080; font-weight: bold\">╭─────────────────────────────────────────────────</span> Function Call <span style=\"color: #000080; text-decoration-color: #000080; font-weight: bold\">─────────────────────────────────────────────────╮</span>\n",
       "<span style=\"color: #000080; text-decoration-color: #000080; font-weight: bold\">│ **Step 1**: LLM calls function lookup_patient_data                                                              │</span>\n",
       "<span style=\"color: #000080; text-decoration-color: #000080; font-weight: bold\">│                                                                                                                 │</span>\n",
       "<span style=\"color: #000080; text-decoration-color: #000080; font-weight: bold\">│ **Arguments**:                                                                                                  │</span>\n",
       "<span style=\"color: #000080; text-decoration-color: #000080; font-weight: bold\">│ {                                                                                                               │</span>\n",
       "<span style=\"color: #000080; text-decoration-color: #000080; font-weight: bold\">│   \"query\": \"SELECT COUNT(*) AS PatientCount FROM PatientMedicalData WHERE MedicalCondition LIKE                 │</span>\n",
       "<span style=\"color: #000080; text-decoration-color: #000080; font-weight: bold\">│ '%Hypertension%' AND Medications LIKE '%Lisinopril%'\"                                                           │</span>\n",
       "<span style=\"color: #000080; text-decoration-color: #000080; font-weight: bold\">│ }                                                                                                               │</span>\n",
       "<span style=\"color: #000080; text-decoration-color: #000080; font-weight: bold\">╰─────────────────────────────────────────────────────────────────────────────────────────────────────────────────╯</span>\n",
       "</pre>\n"
      ],
      "text/plain": [
       "\u001b[1;34m╭─\u001b[0m\u001b[1;34m────────────────────────────────────────────────\u001b[0m Function Call \u001b[1;34m────────────────────────────────────────────────\u001b[0m\u001b[1;34m─╮\u001b[0m\n",
       "\u001b[1;34m│\u001b[0m\u001b[1;34m \u001b[0m\u001b[1;34m**Step 1**: LLM calls function \u001b[0m\u001b[1;34mlookup_patient_data\u001b[0m\u001b[1;34m                                                             \u001b[0m\u001b[1;34m \u001b[0m\u001b[1;34m│\u001b[0m\n",
       "\u001b[1;34m│\u001b[0m\u001b[1;34m \u001b[0m\u001b[1;34m                                                                                                               \u001b[0m\u001b[1;34m \u001b[0m\u001b[1;34m│\u001b[0m\n",
       "\u001b[1;34m│\u001b[0m\u001b[1;34m \u001b[0m\u001b[1;34m**Arguments**:\u001b[0m\u001b[1;34m                                                                                                 \u001b[0m\u001b[1;34m \u001b[0m\u001b[1;34m│\u001b[0m\n",
       "\u001b[1;34m│\u001b[0m\u001b[1;34m \u001b[0m\u001b[1;34m{\u001b[0m\u001b[1;34m                                                                                                              \u001b[0m\u001b[1;34m \u001b[0m\u001b[1;34m│\u001b[0m\n",
       "\u001b[1;34m│\u001b[0m\u001b[1;34m \u001b[0m\u001b[1;34m  \"query\": \"SELECT COUNT(*) AS PatientCount FROM PatientMedicalData WHERE MedicalCondition LIKE \u001b[0m\u001b[1;34m               \u001b[0m\u001b[1;34m \u001b[0m\u001b[1;34m│\u001b[0m\n",
       "\u001b[1;34m│\u001b[0m\u001b[1;34m \u001b[0m\u001b[1;34m'%Hypertension%' AND Medications LIKE '%Lisinopril%'\"\u001b[0m\u001b[1;34m                                                          \u001b[0m\u001b[1;34m \u001b[0m\u001b[1;34m│\u001b[0m\n",
       "\u001b[1;34m│\u001b[0m\u001b[1;34m \u001b[0m\u001b[1;34m}\u001b[0m\u001b[1;34m                                                                                                              \u001b[0m\u001b[1;34m \u001b[0m\u001b[1;34m│\u001b[0m\n",
       "\u001b[1;34m╰─────────────────────────────────────────────────────────────────────────────────────────────────────────────────╯\u001b[0m\n"
      ]
     },
     "metadata": {},
     "output_type": "display_data"
    },
    {
     "data": {
      "text/html": [
       "<pre style=\"white-space:pre;overflow-x:auto;line-height:normal;font-family:Menlo,'DejaVu Sans Mono',consolas,'Courier New',monospace\"><span style=\"color: #808000; text-decoration-color: #808000; font-weight: bold\">╭─────────────────────────────────────────────────</span><span style=\"color: #808000; text-decoration-color: #808000\"> Final Answer </span><span style=\"color: #808000; text-decoration-color: #808000; font-weight: bold\">──────────────────────────────────────────────────╮</span>\n",
       "<span style=\"color: #808000; text-decoration-color: #808000; font-weight: bold\">│</span><span style=\"color: #008000; text-decoration-color: #008000; font-weight: bold\"> There are 1,071 patients who have Hypertension and are prescribed Lisinopril.                                   </span><span style=\"color: #808000; text-decoration-color: #808000; font-weight: bold\">│</span>\n",
       "<span style=\"color: #808000; text-decoration-color: #808000; font-weight: bold\">╰─────────────────────────────────────────────────────────────────────────────────────────────────────────────────╯</span>\n",
       "</pre>\n"
      ],
      "text/plain": [
       "\u001b[1;33m╭─\u001b[0m\u001b[1;33m────────────────────────────────────────────────\u001b[0m\u001b[33m Final Answer \u001b[0m\u001b[1;33m─────────────────────────────────────────────────\u001b[0m\u001b[1;33m─╮\u001b[0m\n",
       "\u001b[1;33m│\u001b[0m\u001b[1;32m \u001b[0m\u001b[1;32mThere are 1,071 patients who have Hypertension and are prescribed Lisinopril.\u001b[0m\u001b[1;32m                                  \u001b[0m\u001b[1;32m \u001b[0m\u001b[1;33m│\u001b[0m\n",
       "\u001b[1;33m╰─────────────────────────────────────────────────────────────────────────────────────────────────────────────────╯\u001b[0m\n"
      ]
     },
     "metadata": {},
     "output_type": "display_data"
    }
   ],
   "source": [
    "user_question_3 = \"How many patients have Hypertension and are prescribed Lisinopril?\"\n",
    "# The agent should generate a valid SQL query, for example:\n",
    "## Note, the answer will depend on the actual data in the database (it should return 1071!)\n",
    "run_multi_step_agent(user_question_3)\n"
   ]
  },
  {
   "cell_type": "code",
   "execution_count": 64,
   "metadata": {},
   "outputs": [
    {
     "data": {
      "text/html": [
       "<pre style=\"white-space:pre;overflow-x:auto;line-height:normal;font-family:Menlo,'DejaVu Sans Mono',consolas,'Courier New',monospace\"><span style=\"color: #000080; text-decoration-color: #000080; font-weight: bold\">╭─────────────────────────────────────────────────</span> Function Call <span style=\"color: #000080; text-decoration-color: #000080; font-weight: bold\">─────────────────────────────────────────────────╮</span>\n",
       "<span style=\"color: #000080; text-decoration-color: #000080; font-weight: bold\">│ **Step 1**: LLM calls function lookup_patient_data                                                              │</span>\n",
       "<span style=\"color: #000080; text-decoration-color: #000080; font-weight: bold\">│                                                                                                                 │</span>\n",
       "<span style=\"color: #000080; text-decoration-color: #000080; font-weight: bold\">│ **Arguments**:                                                                                                  │</span>\n",
       "<span style=\"color: #000080; text-decoration-color: #000080; font-weight: bold\">│ {                                                                                                               │</span>\n",
       "<span style=\"color: #000080; text-decoration-color: #000080; font-weight: bold\">│   \"query\": \"SELECT * FROM PatientMedicalData WHERE FirstName = 'Gloria' AND LastName = 'Paul'\"                  │</span>\n",
       "<span style=\"color: #000080; text-decoration-color: #000080; font-weight: bold\">│ }                                                                                                               │</span>\n",
       "<span style=\"color: #000080; text-decoration-color: #000080; font-weight: bold\">╰─────────────────────────────────────────────────────────────────────────────────────────────────────────────────╯</span>\n",
       "</pre>\n"
      ],
      "text/plain": [
       "\u001b[1;34m╭─\u001b[0m\u001b[1;34m────────────────────────────────────────────────\u001b[0m Function Call \u001b[1;34m────────────────────────────────────────────────\u001b[0m\u001b[1;34m─╮\u001b[0m\n",
       "\u001b[1;34m│\u001b[0m\u001b[1;34m \u001b[0m\u001b[1;34m**Step 1**: LLM calls function \u001b[0m\u001b[1;34mlookup_patient_data\u001b[0m\u001b[1;34m                                                             \u001b[0m\u001b[1;34m \u001b[0m\u001b[1;34m│\u001b[0m\n",
       "\u001b[1;34m│\u001b[0m\u001b[1;34m \u001b[0m\u001b[1;34m                                                                                                               \u001b[0m\u001b[1;34m \u001b[0m\u001b[1;34m│\u001b[0m\n",
       "\u001b[1;34m│\u001b[0m\u001b[1;34m \u001b[0m\u001b[1;34m**Arguments**:\u001b[0m\u001b[1;34m                                                                                                 \u001b[0m\u001b[1;34m \u001b[0m\u001b[1;34m│\u001b[0m\n",
       "\u001b[1;34m│\u001b[0m\u001b[1;34m \u001b[0m\u001b[1;34m{\u001b[0m\u001b[1;34m                                                                                                              \u001b[0m\u001b[1;34m \u001b[0m\u001b[1;34m│\u001b[0m\n",
       "\u001b[1;34m│\u001b[0m\u001b[1;34m \u001b[0m\u001b[1;34m  \"query\": \"SELECT * FROM PatientMedicalData WHERE FirstName = 'Gloria' AND LastName = 'Paul'\"\u001b[0m\u001b[1;34m                 \u001b[0m\u001b[1;34m \u001b[0m\u001b[1;34m│\u001b[0m\n",
       "\u001b[1;34m│\u001b[0m\u001b[1;34m \u001b[0m\u001b[1;34m}\u001b[0m\u001b[1;34m                                                                                                              \u001b[0m\u001b[1;34m \u001b[0m\u001b[1;34m│\u001b[0m\n",
       "\u001b[1;34m╰─────────────────────────────────────────────────────────────────────────────────────────────────────────────────╯\u001b[0m\n"
      ]
     },
     "metadata": {},
     "output_type": "display_data"
    },
    {
     "data": {
      "text/html": [
       "<pre style=\"white-space:pre;overflow-x:auto;line-height:normal;font-family:Menlo,'DejaVu Sans Mono',consolas,'Courier New',monospace\"><span style=\"color: #000080; text-decoration-color: #000080; font-weight: bold\">╭─────────────────────────────────────────────────</span> Function Call <span style=\"color: #000080; text-decoration-color: #000080; font-weight: bold\">─────────────────────────────────────────────────╮</span>\n",
       "<span style=\"color: #000080; text-decoration-color: #000080; font-weight: bold\">│ **Step 2**: LLM calls function search_acc_guidelines                                                            │</span>\n",
       "<span style=\"color: #000080; text-decoration-color: #000080; font-weight: bold\">│                                                                                                                 │</span>\n",
       "<span style=\"color: #000080; text-decoration-color: #000080; font-weight: bold\">│ **Arguments**:                                                                                                  │</span>\n",
       "<span style=\"color: #000080; text-decoration-color: #000080; font-weight: bold\">│ {                                                                                                               │</span>\n",
       "<span style=\"color: #000080; text-decoration-color: #000080; font-weight: bold\">│   \"query\": \"hyperlipidemia guidelines\"                                                                          │</span>\n",
       "<span style=\"color: #000080; text-decoration-color: #000080; font-weight: bold\">│ }                                                                                                               │</span>\n",
       "<span style=\"color: #000080; text-decoration-color: #000080; font-weight: bold\">╰─────────────────────────────────────────────────────────────────────────────────────────────────────────────────╯</span>\n",
       "</pre>\n"
      ],
      "text/plain": [
       "\u001b[1;34m╭─\u001b[0m\u001b[1;34m────────────────────────────────────────────────\u001b[0m Function Call \u001b[1;34m────────────────────────────────────────────────\u001b[0m\u001b[1;34m─╮\u001b[0m\n",
       "\u001b[1;34m│\u001b[0m\u001b[1;34m \u001b[0m\u001b[1;34m**Step 2**: LLM calls function \u001b[0m\u001b[1;34msearch_acc_guidelines\u001b[0m\u001b[1;34m                                                           \u001b[0m\u001b[1;34m \u001b[0m\u001b[1;34m│\u001b[0m\n",
       "\u001b[1;34m│\u001b[0m\u001b[1;34m \u001b[0m\u001b[1;34m                                                                                                               \u001b[0m\u001b[1;34m \u001b[0m\u001b[1;34m│\u001b[0m\n",
       "\u001b[1;34m│\u001b[0m\u001b[1;34m \u001b[0m\u001b[1;34m**Arguments**:\u001b[0m\u001b[1;34m                                                                                                 \u001b[0m\u001b[1;34m \u001b[0m\u001b[1;34m│\u001b[0m\n",
       "\u001b[1;34m│\u001b[0m\u001b[1;34m \u001b[0m\u001b[1;34m{\u001b[0m\u001b[1;34m                                                                                                              \u001b[0m\u001b[1;34m \u001b[0m\u001b[1;34m│\u001b[0m\n",
       "\u001b[1;34m│\u001b[0m\u001b[1;34m \u001b[0m\u001b[1;34m  \"query\": \"hyperlipidemia guidelines\"\u001b[0m\u001b[1;34m                                                                         \u001b[0m\u001b[1;34m \u001b[0m\u001b[1;34m│\u001b[0m\n",
       "\u001b[1;34m│\u001b[0m\u001b[1;34m \u001b[0m\u001b[1;34m}\u001b[0m\u001b[1;34m                                                                                                              \u001b[0m\u001b[1;34m \u001b[0m\u001b[1;34m│\u001b[0m\n",
       "\u001b[1;34m╰─────────────────────────────────────────────────────────────────────────────────────────────────────────────────╯\u001b[0m\n"
      ]
     },
     "metadata": {},
     "output_type": "display_data"
    },
    {
     "data": {
      "text/html": [
       "<pre style=\"white-space:pre;overflow-x:auto;line-height:normal;font-family:Menlo,'DejaVu Sans Mono',consolas,'Courier New',monospace\"><span style=\"color: #808000; text-decoration-color: #808000; font-weight: bold\">╭─────────────────────────────────────────────────────────────────────────────────────────────────────────────────╮</span>\n",
       "<span style=\"color: #808000; text-decoration-color: #808000; font-weight: bold\">│ Tool Invoked: ACC Guidelines Search                                                                             │</span>\n",
       "<span style=\"color: #808000; text-decoration-color: #808000; font-weight: bold\">│ Query: hyperlipidemia guidelines                                                                                │</span>\n",
       "<span style=\"color: #808000; text-decoration-color: #808000; font-weight: bold\">╰─────────────────────────────────────────────────────────────────────────────────────────────────────────────────╯</span>\n",
       "</pre>\n"
      ],
      "text/plain": [
       "\u001b[1;33m╭─────────────────────────────────────────────────────────────────────────────────────────────────────────────────╮\u001b[0m\n",
       "\u001b[1;33m│\u001b[0m\u001b[1;33m \u001b[0m\u001b[1;33mTool Invoked: ACC Guidelines Search\u001b[0m\u001b[1;33m                                                                            \u001b[0m\u001b[1;33m \u001b[0m\u001b[1;33m│\u001b[0m\n",
       "\u001b[1;33m│\u001b[0m\u001b[1;33m \u001b[0m\u001b[1;33mQuery: hyperlipidemia guidelines\u001b[0m\u001b[1;33m                                                                               \u001b[0m\u001b[1;33m \u001b[0m\u001b[1;33m│\u001b[0m\n",
       "\u001b[1;33m╰─────────────────────────────────────────────────────────────────────────────────────────────────────────────────╯\u001b[0m\n"
      ]
     },
     "metadata": {},
     "output_type": "display_data"
    },
    {
     "data": {
      "text/html": [
       "<pre style=\"white-space:pre;overflow-x:auto;line-height:normal;font-family:Menlo,'DejaVu Sans Mono',consolas,'Courier New',monospace\"><span style=\"color: #800000; text-decoration-color: #800000; font-weight: bold\">╭────────────────────────────────────────────────</span> JSONDecodeError <span style=\"color: #800000; text-decoration-color: #800000; font-weight: bold\">────────────────────────────────────────────────╮</span>\n",
       "<span style=\"color: #800000; text-decoration-color: #800000; font-weight: bold\">│ Warning: Could not decode function call arguments; defaulting to empty dict.                                    │</span>\n",
       "<span style=\"color: #800000; text-decoration-color: #800000; font-weight: bold\">╰─────────────────────────────────────────────────────────────────────────────────────────────────────────────────╯</span>\n",
       "</pre>\n"
      ],
      "text/plain": [
       "\u001b[1;31m╭─\u001b[0m\u001b[1;31m───────────────────────────────────────────────\u001b[0m JSONDecodeError \u001b[1;31m───────────────────────────────────────────────\u001b[0m\u001b[1;31m─╮\u001b[0m\n",
       "\u001b[1;31m│\u001b[0m\u001b[1;31m \u001b[0m\u001b[1;31mWarning: Could not decode function call arguments; defaulting to empty dict.\u001b[0m\u001b[1;31m                                   \u001b[0m\u001b[1;31m \u001b[0m\u001b[1;31m│\u001b[0m\n",
       "\u001b[1;31m╰─────────────────────────────────────────────────────────────────────────────────────────────────────────────────╯\u001b[0m\n"
      ]
     },
     "metadata": {},
     "output_type": "display_data"
    },
    {
     "data": {
      "text/html": [
       "<pre style=\"white-space:pre;overflow-x:auto;line-height:normal;font-family:Menlo,'DejaVu Sans Mono',consolas,'Courier New',monospace\"><span style=\"color: #000080; text-decoration-color: #000080; font-weight: bold\">╭─────────────────────────────────────────────────</span> Function Call <span style=\"color: #000080; text-decoration-color: #000080; font-weight: bold\">─────────────────────────────────────────────────╮</span>\n",
       "<span style=\"color: #000080; text-decoration-color: #000080; font-weight: bold\">│ **Step 3**: LLM calls function search_bing                                                                      │</span>\n",
       "<span style=\"color: #000080; text-decoration-color: #000080; font-weight: bold\">│                                                                                                                 │</span>\n",
       "<span style=\"color: #000080; text-decoration-color: #000080; font-weight: bold\">│ **Arguments**:                                                                                                  │</span>\n",
       "<span style=\"color: #000080; text-decoration-color: #000080; font-weight: bold\">│ {                                                                                                               │</span>\n",
       "<span style=\"color: #000080; text-decoration-color: #000080; font-weight: bold\">│   \"query\": \"I have a 79-year-old patient named Gloria Paul with hyperlipidemia. She's on Atorvastatin. Can you  │</span>\n",
       "<span style=\"color: #000080; text-decoration-color: #000080; font-weight: bold\">│ confirm her medical details from the database, check the ACC guidelines for hyperlipidemia, and see if there    │</span>\n",
       "<span style=\"color: #000080; text-decoration-color: #000080; font-weight: bold\">│ are any new medication updates from the FDA? Then give me a summary.\"                                           │</span>\n",
       "<span style=\"color: #000080; text-decoration-color: #000080; font-weight: bold\">│ }                                                                                                               │</span>\n",
       "<span style=\"color: #000080; text-decoration-color: #000080; font-weight: bold\">╰─────────────────────────────────────────────────────────────────────────────────────────────────────────────────╯</span>\n",
       "</pre>\n"
      ],
      "text/plain": [
       "\u001b[1;34m╭─\u001b[0m\u001b[1;34m────────────────────────────────────────────────\u001b[0m Function Call \u001b[1;34m────────────────────────────────────────────────\u001b[0m\u001b[1;34m─╮\u001b[0m\n",
       "\u001b[1;34m│\u001b[0m\u001b[1;34m \u001b[0m\u001b[1;34m**Step 3**: LLM calls function \u001b[0m\u001b[1;34msearch_bing\u001b[0m\u001b[1;34m                                                                     \u001b[0m\u001b[1;34m \u001b[0m\u001b[1;34m│\u001b[0m\n",
       "\u001b[1;34m│\u001b[0m\u001b[1;34m \u001b[0m\u001b[1;34m                                                                                                               \u001b[0m\u001b[1;34m \u001b[0m\u001b[1;34m│\u001b[0m\n",
       "\u001b[1;34m│\u001b[0m\u001b[1;34m \u001b[0m\u001b[1;34m**Arguments**:\u001b[0m\u001b[1;34m                                                                                                 \u001b[0m\u001b[1;34m \u001b[0m\u001b[1;34m│\u001b[0m\n",
       "\u001b[1;34m│\u001b[0m\u001b[1;34m \u001b[0m\u001b[1;34m{\u001b[0m\u001b[1;34m                                                                                                              \u001b[0m\u001b[1;34m \u001b[0m\u001b[1;34m│\u001b[0m\n",
       "\u001b[1;34m│\u001b[0m\u001b[1;34m \u001b[0m\u001b[1;34m  \"query\": \"I have a 79-year-old patient named Gloria Paul with hyperlipidemia. She's on Atorvastatin. Can you \u001b[0m\u001b[1;34m \u001b[0m\u001b[1;34m│\u001b[0m\n",
       "\u001b[1;34m│\u001b[0m\u001b[1;34m \u001b[0m\u001b[1;34mconfirm her medical details from the database, check the ACC guidelines for hyperlipidemia, and see if there \u001b[0m\u001b[1;34m  \u001b[0m\u001b[1;34m \u001b[0m\u001b[1;34m│\u001b[0m\n",
       "\u001b[1;34m│\u001b[0m\u001b[1;34m \u001b[0m\u001b[1;34mare any new medication updates from the FDA? Then give me a summary.\"\u001b[0m\u001b[1;34m                                          \u001b[0m\u001b[1;34m \u001b[0m\u001b[1;34m│\u001b[0m\n",
       "\u001b[1;34m│\u001b[0m\u001b[1;34m \u001b[0m\u001b[1;34m}\u001b[0m\u001b[1;34m                                                                                                              \u001b[0m\u001b[1;34m \u001b[0m\u001b[1;34m│\u001b[0m\n",
       "\u001b[1;34m╰─────────────────────────────────────────────────────────────────────────────────────────────────────────────────╯\u001b[0m\n"
      ]
     },
     "metadata": {},
     "output_type": "display_data"
    },
    {
     "data": {
      "text/html": [
       "<pre style=\"white-space:pre;overflow-x:auto;line-height:normal;font-family:Menlo,'DejaVu Sans Mono',consolas,'Courier New',monospace\"><span style=\"color: #800080; text-decoration-color: #800080; font-weight: bold\">╭─────────────────────────────────────────────────────────────────────────────────────────────────────────────────╮</span>\n",
       "<span style=\"color: #800080; text-decoration-color: #800080; font-weight: bold\">│ Tool Invoked: Bing Search                                                                                       │</span>\n",
       "<span style=\"color: #800080; text-decoration-color: #800080; font-weight: bold\">│ Query: I have a 79-year-old patient named Gloria Paul with hyperlipidemia. She's on Atorvastatin. Can you       │</span>\n",
       "<span style=\"color: #800080; text-decoration-color: #800080; font-weight: bold\">│ confirm her medical details from the database, check the ACC guidelines for hyperlipidemia, and see if there    │</span>\n",
       "<span style=\"color: #800080; text-decoration-color: #800080; font-weight: bold\">│ are any new medication updates from the FDA? Then give me a summary.                                            │</span>\n",
       "<span style=\"color: #800080; text-decoration-color: #800080; font-weight: bold\">╰─────────────────────────────────────────────────────────────────────────────────────────────────────────────────╯</span>\n",
       "</pre>\n"
      ],
      "text/plain": [
       "\u001b[1;35m╭─────────────────────────────────────────────────────────────────────────────────────────────────────────────────╮\u001b[0m\n",
       "\u001b[1;35m│\u001b[0m\u001b[1;35m \u001b[0m\u001b[1;35mTool Invoked: Bing Search\u001b[0m\u001b[1;35m                                                                                      \u001b[0m\u001b[1;35m \u001b[0m\u001b[1;35m│\u001b[0m\n",
       "\u001b[1;35m│\u001b[0m\u001b[1;35m \u001b[0m\u001b[1;35mQuery: I have a 79-year-old patient named Gloria Paul with hyperlipidemia. She's on Atorvastatin. Can you \u001b[0m\u001b[1;35m     \u001b[0m\u001b[1;35m \u001b[0m\u001b[1;35m│\u001b[0m\n",
       "\u001b[1;35m│\u001b[0m\u001b[1;35m \u001b[0m\u001b[1;35mconfirm her medical details from the database, check the ACC guidelines for hyperlipidemia, and see if there \u001b[0m\u001b[1;35m  \u001b[0m\u001b[1;35m \u001b[0m\u001b[1;35m│\u001b[0m\n",
       "\u001b[1;35m│\u001b[0m\u001b[1;35m \u001b[0m\u001b[1;35mare any new medication updates from the FDA? Then give me a summary.\u001b[0m\u001b[1;35m                                           \u001b[0m\u001b[1;35m \u001b[0m\u001b[1;35m│\u001b[0m\n",
       "\u001b[1;35m╰─────────────────────────────────────────────────────────────────────────────────────────────────────────────────╯\u001b[0m\n"
      ]
     },
     "metadata": {},
     "output_type": "display_data"
    },
    {
     "data": {
      "text/html": [
       "<pre style=\"white-space:pre;overflow-x:auto;line-height:normal;font-family:Menlo,'DejaVu Sans Mono',consolas,'Courier New',monospace\"><span style=\"color: #808000; text-decoration-color: #808000; font-weight: bold\">╭─────────────────────────────────────────────────</span><span style=\"color: #808000; text-decoration-color: #808000\"> Final Answer </span><span style=\"color: #808000; text-decoration-color: #808000; font-weight: bold\">──────────────────────────────────────────────────╮</span>\n",
       "<span style=\"color: #808000; text-decoration-color: #808000; font-weight: bold\">│</span><span style=\"color: #008000; text-decoration-color: #008000; font-weight: bold\"> Here's a summary of the information regarding your patient, Gloria Paul, and the guidelines for managing        </span><span style=\"color: #808000; text-decoration-color: #808000; font-weight: bold\">│</span>\n",
       "<span style=\"color: #808000; text-decoration-color: #808000; font-weight: bold\">│</span><span style=\"color: #008000; text-decoration-color: #008000; font-weight: bold\"> hyperlipidemia:                                                                                                 </span><span style=\"color: #808000; text-decoration-color: #808000; font-weight: bold\">│</span>\n",
       "<span style=\"color: #808000; text-decoration-color: #808000; font-weight: bold\">│</span><span style=\"color: #008000; text-decoration-color: #008000; font-weight: bold\">                                                                                                                 </span><span style=\"color: #808000; text-decoration-color: #808000; font-weight: bold\">│</span>\n",
       "<span style=\"color: #808000; text-decoration-color: #808000; font-weight: bold\">│</span><span style=\"color: #008000; text-decoration-color: #008000; font-weight: bold\"> ### Patient Information                                                                                         </span><span style=\"color: #808000; text-decoration-color: #808000; font-weight: bold\">│</span>\n",
       "<span style=\"color: #808000; text-decoration-color: #808000; font-weight: bold\">│</span><span style=\"color: #008000; text-decoration-color: #008000; font-weight: bold\"> - **Name**: Gloria Paul                                                                                         </span><span style=\"color: #808000; text-decoration-color: #808000; font-weight: bold\">│</span>\n",
       "<span style=\"color: #808000; text-decoration-color: #808000; font-weight: bold\">│</span><span style=\"color: #008000; text-decoration-color: #008000; font-weight: bold\"> - **Age**: 79 years                                                                                             </span><span style=\"color: #808000; text-decoration-color: #808000; font-weight: bold\">│</span>\n",
       "<span style=\"color: #808000; text-decoration-color: #808000; font-weight: bold\">│</span><span style=\"color: #008000; text-decoration-color: #008000; font-weight: bold\"> - **Medical Condition**: Hyperlipidemia                                                                         </span><span style=\"color: #808000; text-decoration-color: #808000; font-weight: bold\">│</span>\n",
       "<span style=\"color: #808000; text-decoration-color: #808000; font-weight: bold\">│</span><span style=\"color: #008000; text-decoration-color: #008000; font-weight: bold\"> - **Current Medication**: Atorvastatin                                                                          </span><span style=\"color: #808000; text-decoration-color: #808000; font-weight: bold\">│</span>\n",
       "<span style=\"color: #808000; text-decoration-color: #808000; font-weight: bold\">│</span><span style=\"color: #008000; text-decoration-color: #008000; font-weight: bold\"> - **Last Visit Date**: March 26, 2024                                                                           </span><span style=\"color: #808000; text-decoration-color: #808000; font-weight: bold\">│</span>\n",
       "<span style=\"color: #808000; text-decoration-color: #808000; font-weight: bold\">│</span><span style=\"color: #008000; text-decoration-color: #008000; font-weight: bold\"> - **Blood Pressure**: 120/79 mmHg                                                                               </span><span style=\"color: #808000; text-decoration-color: #808000; font-weight: bold\">│</span>\n",
       "<span style=\"color: #808000; text-decoration-color: #808000; font-weight: bold\">│</span><span style=\"color: #008000; text-decoration-color: #008000; font-weight: bold\"> - **Heart Rate**: 90 bpm                                                                                        </span><span style=\"color: #808000; text-decoration-color: #808000; font-weight: bold\">│</span>\n",
       "<span style=\"color: #808000; text-decoration-color: #808000; font-weight: bold\">│</span><span style=\"color: #008000; text-decoration-color: #008000; font-weight: bold\"> - **Height**: 176.2 cm                                                                                          </span><span style=\"color: #808000; text-decoration-color: #808000; font-weight: bold\">│</span>\n",
       "<span style=\"color: #808000; text-decoration-color: #808000; font-weight: bold\">│</span><span style=\"color: #008000; text-decoration-color: #008000; font-weight: bold\"> - **Weight**: 77.7 kg                                                                                           </span><span style=\"color: #808000; text-decoration-color: #808000; font-weight: bold\">│</span>\n",
       "<span style=\"color: #808000; text-decoration-color: #808000; font-weight: bold\">│</span><span style=\"color: #008000; text-decoration-color: #008000; font-weight: bold\"> - **Allergies**: None                                                                                           </span><span style=\"color: #808000; text-decoration-color: #808000; font-weight: bold\">│</span>\n",
       "<span style=\"color: #808000; text-decoration-color: #808000; font-weight: bold\">│</span><span style=\"color: #008000; text-decoration-color: #008000; font-weight: bold\">                                                                                                                 </span><span style=\"color: #808000; text-decoration-color: #808000; font-weight: bold\">│</span>\n",
       "<span style=\"color: #808000; text-decoration-color: #808000; font-weight: bold\">│</span><span style=\"color: #008000; text-decoration-color: #008000; font-weight: bold\"> ### ACC Guidelines on Hyperlipidemia                                                                            </span><span style=\"color: #808000; text-decoration-color: #808000; font-weight: bold\">│</span>\n",
       "<span style=\"color: #808000; text-decoration-color: #808000; font-weight: bold\">│</span><span style=\"color: #008000; text-decoration-color: #008000; font-weight: bold\"> According to the **2018 ACC/AHA Cholesterol Treatment Guidelines**, the following recommendations apply to      </span><span style=\"color: #808000; text-decoration-color: #808000; font-weight: bold\">│</span>\n",
       "<span style=\"color: #808000; text-decoration-color: #808000; font-weight: bold\">│</span><span style=\"color: #008000; text-decoration-color: #008000; font-weight: bold\"> hyperlipidemia:                                                                                                 </span><span style=\"color: #808000; text-decoration-color: #808000; font-weight: bold\">│</span>\n",
       "<span style=\"color: #808000; text-decoration-color: #808000; font-weight: bold\">│</span><span style=\"color: #008000; text-decoration-color: #008000; font-weight: bold\"> 1. **Statin Therapy**: Statins, like atorvastatin, are recommended for all patients with known atherosclerotic  </span><span style=\"color: #808000; text-decoration-color: #808000; font-weight: bold\">│</span>\n",
       "<span style=\"color: #808000; text-decoration-color: #808000; font-weight: bold\">│</span><span style=\"color: #008000; text-decoration-color: #008000; font-weight: bold\"> cardiovascular disease (ASCVD) to lower LDL cholesterol levels.                                                 </span><span style=\"color: #808000; text-decoration-color: #808000; font-weight: bold\">│</span>\n",
       "<span style=\"color: #808000; text-decoration-color: #808000; font-weight: bold\">│</span><span style=\"color: #008000; text-decoration-color: #008000; font-weight: bold\">    - **Class I Recommendation**: For patients with extracranial carotid or vertebral atherosclerosis, statin    </span><span style=\"color: #808000; text-decoration-color: #808000; font-weight: bold\">│</span>\n",
       "<span style=\"color: #808000; text-decoration-color: #808000; font-weight: bold\">│</span><span style=\"color: #008000; text-decoration-color: #008000; font-weight: bold\"> treatment should aim to achieve LDL cholesterol levels below 100 mg/dL.                                         </span><span style=\"color: #808000; text-decoration-color: #808000; font-weight: bold\">│</span>\n",
       "<span style=\"color: #808000; text-decoration-color: #808000; font-weight: bold\">│</span><span style=\"color: #008000; text-decoration-color: #008000; font-weight: bold\">    - **Class IIa Recommendation**: In patients who have had an ischemic stroke, it’s suggested to lower LDL     </span><span style=\"color: #808000; text-decoration-color: #808000; font-weight: bold\">│</span>\n",
       "<span style=\"color: #808000; text-decoration-color: #808000; font-weight: bold\">│</span><span style=\"color: #008000; text-decoration-color: #008000; font-weight: bold\"> cholesterol to levels near or below 70 mg/dL if possible.                                                       </span><span style=\"color: #808000; text-decoration-color: #808000; font-weight: bold\">│</span>\n",
       "<span style=\"color: #808000; text-decoration-color: #808000; font-weight: bold\">│</span><span style=\"color: #008000; text-decoration-color: #008000; font-weight: bold\">                                                                                                                 </span><span style=\"color: #808000; text-decoration-color: #808000; font-weight: bold\">│</span>\n",
       "<span style=\"color: #808000; text-decoration-color: #808000; font-weight: bold\">│</span><span style=\"color: #008000; text-decoration-color: #008000; font-weight: bold\"> 2. **Combination Therapy**: If LDL cholesterol goals are not achieved with statins alone, combination therapy   </span><span style=\"color: #808000; text-decoration-color: #808000; font-weight: bold\">│</span>\n",
       "<span style=\"color: #808000; text-decoration-color: #808000; font-weight: bold\">│</span><span style=\"color: #008000; text-decoration-color: #008000; font-weight: bold\"> may include medications such as ezetimibe or bile acid sequestrants.                                            </span><span style=\"color: #808000; text-decoration-color: #808000; font-weight: bold\">│</span>\n",
       "<span style=\"color: #808000; text-decoration-color: #808000; font-weight: bold\">│</span><span style=\"color: #008000; text-decoration-color: #008000; font-weight: bold\">                                                                                                                 </span><span style=\"color: #808000; text-decoration-color: #808000; font-weight: bold\">│</span>\n",
       "<span style=\"color: #808000; text-decoration-color: #808000; font-weight: bold\">│</span><span style=\"color: #008000; text-decoration-color: #008000; font-weight: bold\"> 3. **Lifestyle Modifications**: Addressing lifestyle factors (diet and exercise) is critical alongside          </span><span style=\"color: #808000; text-decoration-color: #808000; font-weight: bold\">│</span>\n",
       "<span style=\"color: #808000; text-decoration-color: #808000; font-weight: bold\">│</span><span style=\"color: #008000; text-decoration-color: #008000; font-weight: bold\"> medication management to control cholesterol levels effectively.                                                </span><span style=\"color: #808000; text-decoration-color: #808000; font-weight: bold\">│</span>\n",
       "<span style=\"color: #808000; text-decoration-color: #808000; font-weight: bold\">│</span><span style=\"color: #008000; text-decoration-color: #008000; font-weight: bold\">                                                                                                                 </span><span style=\"color: #808000; text-decoration-color: #808000; font-weight: bold\">│</span>\n",
       "<span style=\"color: #808000; text-decoration-color: #808000; font-weight: bold\">│</span><span style=\"color: #008000; text-decoration-color: #008000; font-weight: bold\"> ### Recent Medication Updates from the FDA                                                                      </span><span style=\"color: #808000; text-decoration-color: #808000; font-weight: bold\">│</span>\n",
       "<span style=\"color: #808000; text-decoration-color: #808000; font-weight: bold\">│</span><span style=\"color: #008000; text-decoration-color: #008000; font-weight: bold\"> A web search did not return new medications specifically announced for the treatment of hyperlipidemia beyond   </span><span style=\"color: #808000; text-decoration-color: #808000; font-weight: bold\">│</span>\n",
       "<span style=\"color: #808000; text-decoration-color: #808000; font-weight: bold\">│</span><span style=\"color: #008000; text-decoration-color: #008000; font-weight: bold\"> existing therapies like statins and new agents like PCSK9 inhibitors which have been mentioned in various       </span><span style=\"color: #808000; text-decoration-color: #808000; font-weight: bold\">│</span>\n",
       "<span style=\"color: #808000; text-decoration-color: #808000; font-weight: bold\">│</span><span style=\"color: #008000; text-decoration-color: #008000; font-weight: bold\"> studies and FDA guidelines for cholesterol management.                                                          </span><span style=\"color: #808000; text-decoration-color: #808000; font-weight: bold\">│</span>\n",
       "<span style=\"color: #808000; text-decoration-color: #808000; font-weight: bold\">│</span><span style=\"color: #008000; text-decoration-color: #008000; font-weight: bold\">                                                                                                                 </span><span style=\"color: #808000; text-decoration-color: #808000; font-weight: bold\">│</span>\n",
       "<span style=\"color: #808000; text-decoration-color: #808000; font-weight: bold\">│</span><span style=\"color: #008000; text-decoration-color: #008000; font-weight: bold\"> ### Summary                                                                                                     </span><span style=\"color: #808000; text-decoration-color: #808000; font-weight: bold\">│</span>\n",
       "<span style=\"color: #808000; text-decoration-color: #808000; font-weight: bold\">│</span><span style=\"color: #008000; text-decoration-color: #008000; font-weight: bold\"> Gloria Paul, at 79 years of age and currently on atorvastatin for managing hyperlipidemia, is following the     </span><span style=\"color: #808000; text-decoration-color: #808000; font-weight: bold\">│</span>\n",
       "<span style=\"color: #808000; text-decoration-color: #808000; font-weight: bold\">│</span><span style=\"color: #008000; text-decoration-color: #008000; font-weight: bold\"> established recommendations per the ACC guidelines. It's important to ensure that her LDL levels are regularly  </span><span style=\"color: #808000; text-decoration-color: #808000; font-weight: bold\">│</span>\n",
       "<span style=\"color: #808000; text-decoration-color: #808000; font-weight: bold\">│</span><span style=\"color: #008000; text-decoration-color: #008000; font-weight: bold\"> monitored and that lifestyle changes are encouraged to enhance the effectiveness of her medication.             </span><span style=\"color: #808000; text-decoration-color: #808000; font-weight: bold\">│</span>\n",
       "<span style=\"color: #808000; text-decoration-color: #808000; font-weight: bold\">│</span><span style=\"color: #008000; text-decoration-color: #008000; font-weight: bold\"> Additionally, it may be beneficial to consider adjunct therapy if her LDL goals are not achieved with           </span><span style=\"color: #808000; text-decoration-color: #808000; font-weight: bold\">│</span>\n",
       "<span style=\"color: #808000; text-decoration-color: #808000; font-weight: bold\">│</span><span style=\"color: #008000; text-decoration-color: #008000; font-weight: bold\"> atorvastatin alone.                                                                                             </span><span style=\"color: #808000; text-decoration-color: #808000; font-weight: bold\">│</span>\n",
       "<span style=\"color: #808000; text-decoration-color: #808000; font-weight: bold\">│</span><span style=\"color: #008000; text-decoration-color: #008000; font-weight: bold\">                                                                                                                 </span><span style=\"color: #808000; text-decoration-color: #808000; font-weight: bold\">│</span>\n",
       "<span style=\"color: #808000; text-decoration-color: #808000; font-weight: bold\">│</span><span style=\"color: #008000; text-decoration-color: #008000; font-weight: bold\"> If there are any changes in her condition or if further monitoring or medication management is required, please </span><span style=\"color: #808000; text-decoration-color: #808000; font-weight: bold\">│</span>\n",
       "<span style=\"color: #808000; text-decoration-color: #808000; font-weight: bold\">│</span><span style=\"color: #008000; text-decoration-color: #008000; font-weight: bold\"> follow up for a comprehensive management plan.                                                                  </span><span style=\"color: #808000; text-decoration-color: #808000; font-weight: bold\">│</span>\n",
       "<span style=\"color: #808000; text-decoration-color: #808000; font-weight: bold\">╰─────────────────────────────────────────────────────────────────────────────────────────────────────────────────╯</span>\n",
       "</pre>\n"
      ],
      "text/plain": [
       "\u001b[1;33m╭─\u001b[0m\u001b[1;33m────────────────────────────────────────────────\u001b[0m\u001b[33m Final Answer \u001b[0m\u001b[1;33m─────────────────────────────────────────────────\u001b[0m\u001b[1;33m─╮\u001b[0m\n",
       "\u001b[1;33m│\u001b[0m\u001b[1;32m \u001b[0m\u001b[1;32mHere's a summary of the information regarding your patient, Gloria Paul, and the guidelines for managing \u001b[0m\u001b[1;32m      \u001b[0m\u001b[1;32m \u001b[0m\u001b[1;33m│\u001b[0m\n",
       "\u001b[1;33m│\u001b[0m\u001b[1;32m \u001b[0m\u001b[1;32mhyperlipidemia:\u001b[0m\u001b[1;32m                                                                                                \u001b[0m\u001b[1;32m \u001b[0m\u001b[1;33m│\u001b[0m\n",
       "\u001b[1;33m│\u001b[0m\u001b[1;32m \u001b[0m\u001b[1;32m                                                                                                               \u001b[0m\u001b[1;32m \u001b[0m\u001b[1;33m│\u001b[0m\n",
       "\u001b[1;33m│\u001b[0m\u001b[1;32m \u001b[0m\u001b[1;32m### Patient Information\u001b[0m\u001b[1;32m                                                                                        \u001b[0m\u001b[1;32m \u001b[0m\u001b[1;33m│\u001b[0m\n",
       "\u001b[1;33m│\u001b[0m\u001b[1;32m \u001b[0m\u001b[1;32m- **Name**: Gloria Paul\u001b[0m\u001b[1;32m                                                                                        \u001b[0m\u001b[1;32m \u001b[0m\u001b[1;33m│\u001b[0m\n",
       "\u001b[1;33m│\u001b[0m\u001b[1;32m \u001b[0m\u001b[1;32m- **Age**: 79 years\u001b[0m\u001b[1;32m                                                                                            \u001b[0m\u001b[1;32m \u001b[0m\u001b[1;33m│\u001b[0m\n",
       "\u001b[1;33m│\u001b[0m\u001b[1;32m \u001b[0m\u001b[1;32m- **Medical Condition**: Hyperlipidemia\u001b[0m\u001b[1;32m                                                                        \u001b[0m\u001b[1;32m \u001b[0m\u001b[1;33m│\u001b[0m\n",
       "\u001b[1;33m│\u001b[0m\u001b[1;32m \u001b[0m\u001b[1;32m- **Current Medication**: Atorvastatin\u001b[0m\u001b[1;32m                                                                         \u001b[0m\u001b[1;32m \u001b[0m\u001b[1;33m│\u001b[0m\n",
       "\u001b[1;33m│\u001b[0m\u001b[1;32m \u001b[0m\u001b[1;32m- **Last Visit Date**: March 26, 2024\u001b[0m\u001b[1;32m                                                                          \u001b[0m\u001b[1;32m \u001b[0m\u001b[1;33m│\u001b[0m\n",
       "\u001b[1;33m│\u001b[0m\u001b[1;32m \u001b[0m\u001b[1;32m- **Blood Pressure**: 120/79 mmHg\u001b[0m\u001b[1;32m                                                                              \u001b[0m\u001b[1;32m \u001b[0m\u001b[1;33m│\u001b[0m\n",
       "\u001b[1;33m│\u001b[0m\u001b[1;32m \u001b[0m\u001b[1;32m- **Heart Rate**: 90 bpm\u001b[0m\u001b[1;32m                                                                                       \u001b[0m\u001b[1;32m \u001b[0m\u001b[1;33m│\u001b[0m\n",
       "\u001b[1;33m│\u001b[0m\u001b[1;32m \u001b[0m\u001b[1;32m- **Height**: 176.2 cm\u001b[0m\u001b[1;32m                                                                                         \u001b[0m\u001b[1;32m \u001b[0m\u001b[1;33m│\u001b[0m\n",
       "\u001b[1;33m│\u001b[0m\u001b[1;32m \u001b[0m\u001b[1;32m- **Weight**: 77.7 kg\u001b[0m\u001b[1;32m                                                                                          \u001b[0m\u001b[1;32m \u001b[0m\u001b[1;33m│\u001b[0m\n",
       "\u001b[1;33m│\u001b[0m\u001b[1;32m \u001b[0m\u001b[1;32m- **Allergies**: None\u001b[0m\u001b[1;32m                                                                                          \u001b[0m\u001b[1;32m \u001b[0m\u001b[1;33m│\u001b[0m\n",
       "\u001b[1;33m│\u001b[0m\u001b[1;32m \u001b[0m\u001b[1;32m                                                                                                               \u001b[0m\u001b[1;32m \u001b[0m\u001b[1;33m│\u001b[0m\n",
       "\u001b[1;33m│\u001b[0m\u001b[1;32m \u001b[0m\u001b[1;32m### ACC Guidelines on Hyperlipidemia\u001b[0m\u001b[1;32m                                                                           \u001b[0m\u001b[1;32m \u001b[0m\u001b[1;33m│\u001b[0m\n",
       "\u001b[1;33m│\u001b[0m\u001b[1;32m \u001b[0m\u001b[1;32mAccording to the **2018 ACC/AHA Cholesterol Treatment Guidelines**, the following recommendations apply to \u001b[0m\u001b[1;32m    \u001b[0m\u001b[1;32m \u001b[0m\u001b[1;33m│\u001b[0m\n",
       "\u001b[1;33m│\u001b[0m\u001b[1;32m \u001b[0m\u001b[1;32mhyperlipidemia:\u001b[0m\u001b[1;32m                                                                                                \u001b[0m\u001b[1;32m \u001b[0m\u001b[1;33m│\u001b[0m\n",
       "\u001b[1;33m│\u001b[0m\u001b[1;32m \u001b[0m\u001b[1;32m1. **Statin Therapy**: Statins, like atorvastatin, are recommended for all patients with known atherosclerotic \u001b[0m\u001b[1;32m \u001b[0m\u001b[1;33m│\u001b[0m\n",
       "\u001b[1;33m│\u001b[0m\u001b[1;32m \u001b[0m\u001b[1;32mcardiovascular disease (ASCVD) to lower LDL cholesterol levels.\u001b[0m\u001b[1;32m                                                \u001b[0m\u001b[1;32m \u001b[0m\u001b[1;33m│\u001b[0m\n",
       "\u001b[1;33m│\u001b[0m\u001b[1;32m \u001b[0m\u001b[1;32m   - **Class I Recommendation**: For patients with extracranial carotid or vertebral atherosclerosis, statin \u001b[0m\u001b[1;32m  \u001b[0m\u001b[1;32m \u001b[0m\u001b[1;33m│\u001b[0m\n",
       "\u001b[1;33m│\u001b[0m\u001b[1;32m \u001b[0m\u001b[1;32mtreatment should aim to achieve LDL cholesterol levels below 100 mg/dL.\u001b[0m\u001b[1;32m                                        \u001b[0m\u001b[1;32m \u001b[0m\u001b[1;33m│\u001b[0m\n",
       "\u001b[1;33m│\u001b[0m\u001b[1;32m \u001b[0m\u001b[1;32m   - **Class IIa Recommendation**: In patients who have had an ischemic stroke, it’s suggested to lower LDL \u001b[0m\u001b[1;32m   \u001b[0m\u001b[1;32m \u001b[0m\u001b[1;33m│\u001b[0m\n",
       "\u001b[1;33m│\u001b[0m\u001b[1;32m \u001b[0m\u001b[1;32mcholesterol to levels near or below 70 mg/dL if possible.\u001b[0m\u001b[1;32m                                                      \u001b[0m\u001b[1;32m \u001b[0m\u001b[1;33m│\u001b[0m\n",
       "\u001b[1;33m│\u001b[0m\u001b[1;32m \u001b[0m\u001b[1;32m  \u001b[0m\u001b[1;32m                                                                                                             \u001b[0m\u001b[1;32m \u001b[0m\u001b[1;33m│\u001b[0m\n",
       "\u001b[1;33m│\u001b[0m\u001b[1;32m \u001b[0m\u001b[1;32m2. **Combination Therapy**: If LDL cholesterol goals are not achieved with statins alone, combination therapy \u001b[0m\u001b[1;32m \u001b[0m\u001b[1;32m \u001b[0m\u001b[1;33m│\u001b[0m\n",
       "\u001b[1;33m│\u001b[0m\u001b[1;32m \u001b[0m\u001b[1;32mmay include medications such as ezetimibe or bile acid sequestrants.\u001b[0m\u001b[1;32m                                           \u001b[0m\u001b[1;32m \u001b[0m\u001b[1;33m│\u001b[0m\n",
       "\u001b[1;33m│\u001b[0m\u001b[1;32m \u001b[0m\u001b[1;32m                                                                                                               \u001b[0m\u001b[1;32m \u001b[0m\u001b[1;33m│\u001b[0m\n",
       "\u001b[1;33m│\u001b[0m\u001b[1;32m \u001b[0m\u001b[1;32m3. **Lifestyle Modifications**: Addressing lifestyle factors (diet and exercise) is critical alongside \u001b[0m\u001b[1;32m        \u001b[0m\u001b[1;32m \u001b[0m\u001b[1;33m│\u001b[0m\n",
       "\u001b[1;33m│\u001b[0m\u001b[1;32m \u001b[0m\u001b[1;32mmedication management to control cholesterol levels effectively.\u001b[0m\u001b[1;32m                                               \u001b[0m\u001b[1;32m \u001b[0m\u001b[1;33m│\u001b[0m\n",
       "\u001b[1;33m│\u001b[0m\u001b[1;32m \u001b[0m\u001b[1;32m                                                                                                               \u001b[0m\u001b[1;32m \u001b[0m\u001b[1;33m│\u001b[0m\n",
       "\u001b[1;33m│\u001b[0m\u001b[1;32m \u001b[0m\u001b[1;32m### Recent Medication Updates from the FDA\u001b[0m\u001b[1;32m                                                                     \u001b[0m\u001b[1;32m \u001b[0m\u001b[1;33m│\u001b[0m\n",
       "\u001b[1;33m│\u001b[0m\u001b[1;32m \u001b[0m\u001b[1;32mA web search did not return new medications specifically announced for the treatment of hyperlipidemia beyond \u001b[0m\u001b[1;32m \u001b[0m\u001b[1;32m \u001b[0m\u001b[1;33m│\u001b[0m\n",
       "\u001b[1;33m│\u001b[0m\u001b[1;32m \u001b[0m\u001b[1;32mexisting therapies like statins and new agents like PCSK9 inhibitors which have been mentioned in various \u001b[0m\u001b[1;32m     \u001b[0m\u001b[1;32m \u001b[0m\u001b[1;33m│\u001b[0m\n",
       "\u001b[1;33m│\u001b[0m\u001b[1;32m \u001b[0m\u001b[1;32mstudies and FDA guidelines for cholesterol management.\u001b[0m\u001b[1;32m                                                         \u001b[0m\u001b[1;32m \u001b[0m\u001b[1;33m│\u001b[0m\n",
       "\u001b[1;33m│\u001b[0m\u001b[1;32m \u001b[0m\u001b[1;32m                                                                                                               \u001b[0m\u001b[1;32m \u001b[0m\u001b[1;33m│\u001b[0m\n",
       "\u001b[1;33m│\u001b[0m\u001b[1;32m \u001b[0m\u001b[1;32m### Summary\u001b[0m\u001b[1;32m                                                                                                    \u001b[0m\u001b[1;32m \u001b[0m\u001b[1;33m│\u001b[0m\n",
       "\u001b[1;33m│\u001b[0m\u001b[1;32m \u001b[0m\u001b[1;32mGloria Paul, at 79 years of age and currently on atorvastatin for managing hyperlipidemia, is following the \u001b[0m\u001b[1;32m   \u001b[0m\u001b[1;32m \u001b[0m\u001b[1;33m│\u001b[0m\n",
       "\u001b[1;33m│\u001b[0m\u001b[1;32m \u001b[0m\u001b[1;32mestablished recommendations per the ACC guidelines. It's important to ensure that her LDL levels are regularly \u001b[0m\u001b[1;32m \u001b[0m\u001b[1;33m│\u001b[0m\n",
       "\u001b[1;33m│\u001b[0m\u001b[1;32m \u001b[0m\u001b[1;32mmonitored and that lifestyle changes are encouraged to enhance the effectiveness of her medication. \u001b[0m\u001b[1;32m           \u001b[0m\u001b[1;32m \u001b[0m\u001b[1;33m│\u001b[0m\n",
       "\u001b[1;33m│\u001b[0m\u001b[1;32m \u001b[0m\u001b[1;32mAdditionally, it may be beneficial to consider adjunct therapy if her LDL goals are not achieved with \u001b[0m\u001b[1;32m         \u001b[0m\u001b[1;32m \u001b[0m\u001b[1;33m│\u001b[0m\n",
       "\u001b[1;33m│\u001b[0m\u001b[1;32m \u001b[0m\u001b[1;32matorvastatin alone.\u001b[0m\u001b[1;32m                                                                                            \u001b[0m\u001b[1;32m \u001b[0m\u001b[1;33m│\u001b[0m\n",
       "\u001b[1;33m│\u001b[0m\u001b[1;32m \u001b[0m\u001b[1;32m                                                                                                               \u001b[0m\u001b[1;32m \u001b[0m\u001b[1;33m│\u001b[0m\n",
       "\u001b[1;33m│\u001b[0m\u001b[1;32m \u001b[0m\u001b[1;32mIf there are any changes in her condition or if further monitoring or medication management is required, please\u001b[0m\u001b[1;32m \u001b[0m\u001b[1;33m│\u001b[0m\n",
       "\u001b[1;33m│\u001b[0m\u001b[1;32m \u001b[0m\u001b[1;32mfollow up for a comprehensive management plan.\u001b[0m\u001b[1;32m                                                                 \u001b[0m\u001b[1;32m \u001b[0m\u001b[1;33m│\u001b[0m\n",
       "\u001b[1;33m╰─────────────────────────────────────────────────────────────────────────────────────────────────────────────────╯\u001b[0m\n"
      ]
     },
     "metadata": {},
     "output_type": "display_data"
    }
   ],
   "source": [
    "run_multi_step_agent(\"I have a 79-year-old patient named Gloria Paul with hyperlipidemia. She's on Atorvastatin. Can you confirm her medical details from the database, check the ACC guidelines for hyperlipidemia, and see if there are any new medication updates from the FDA? Then give me a summary.\", max_steps=5)\n"
   ]
  }
 ],
 "metadata": {
  "kernelspec": {
   "display_name": ".venv",
   "language": "python",
   "name": "python3"
  },
  "language_info": {
   "codemirror_mode": {
    "name": "ipython",
    "version": 3
   },
   "file_extension": ".py",
   "mimetype": "text/x-python",
   "name": "python",
   "nbconvert_exporter": "python",
   "pygments_lexer": "ipython3",
   "version": "3.13.2"
  }
 },
 "nbformat": 4,
 "nbformat_minor": 2
}
