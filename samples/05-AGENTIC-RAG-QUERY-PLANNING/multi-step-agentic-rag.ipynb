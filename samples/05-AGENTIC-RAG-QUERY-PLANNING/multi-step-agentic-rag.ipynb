{
 "cells": [
  {
   "cell_type": "markdown",
   "metadata": {},
   "source": [
    " # Multi-Step Agentic RAG with Azure AI Services\n",
    " \n",
    " This notebook demonstrates a Multi-Step Agentic RAG (Retrieval Augmented Generation) system that provides a cardiology-focused AI assistant with access to multiple data sources:\n",
    "\n",
    " 1. **Structured Data** (Azure SQL Database) - Patient medical records and information\n",
    " 2. **Unstructured Data** (Azure AI Search) - Medical guidelines from the American College of Cardiology\n",
    " 3. **Web Data** (Azure AI Agent Service with Bing Grounding Tool) - Real-time web information\n",
    " \n",
    " The system uses Azure OpenAI's function/tool calling capabilities to orchestrate the retrieval process and generate comprehensive responses to medical queries."
   ]
  },
  {
   "cell_type": "code",
   "execution_count": null,
   "metadata": {},
   "outputs": [],
   "source": [
    "!pip install -r requirements.txt"
   ]
  },
  {
   "cell_type": "markdown",
   "metadata": {},
   "source": [
    "## 1. Import Libraries and Set Up Environment\n",
    " We'll start by importing the necessary libraries and loading environment variables.\n"
   ]
  },
  {
   "cell_type": "code",
   "execution_count": null,
   "metadata": {},
   "outputs": [],
   "source": [
    "import os\n",
    "import json\n",
    "import pandas as pd\n",
    "import pyodbc\n",
    "import sqlalchemy\n",
    "from azure.ai.projects import AIProjectClient\n",
    "from azure.ai.projects.models import BingGroundingTool\n",
    "from azure.core.credentials import AzureKeyCredential\n",
    "from azure.identity import DefaultAzureCredential\n",
    "from azure.search.documents import SearchClient\n",
    "from azure.search.documents.models import VectorizableTextQuery\n",
    "from dotenv import load_dotenv\n",
    "from openai import AzureOpenAI\n",
    "from rich.console import Console\n",
    "from rich.panel import Panel\n",
    "\n",
    "load_dotenv()\n",
    "console = Console()"
   ]
  },
  {
   "cell_type": "markdown",
   "metadata": {},
   "source": [
    "## 2. Configure Azure Services\n",
    "\n",
    "Next, we set up all the necessary configurations for the Azure services we'll be using.\n"
   ]
  },
  {
   "cell_type": "code",
   "execution_count": null,
   "metadata": {},
   "outputs": [],
   "source": [
    "# Azure OpenAI configuration\n",
    "AZURE_OPENAI_API_KEY = os.getenv(\"AZURE_OPENAI_API_KEY\", \"your-azure-openai-api-key\")\n",
    "AZURE_OPENAI_API_VERSION = os.getenv(\"AZURE_OPENAI_API_VERSION\", \"2024-10-21\")\n",
    "AZURE_OPENAI_ENDPOINT = os.getenv(\"AZURE_OPENAI_ENDPOINT\", \"https://your-azure-openai-endpoint.openai.azure.com/\")\n",
    "AZURE_OPENAI_CHAT_COMPLETION_DEPLOYED_MODEL_NAME = os.getenv(\"AZURE_OPENAI_CHAT_COMPLETION_DEPLOYED_MODEL_NAME\", \"gpt-4o\")\n",
    "\n",
    "# Azure AI Search configuration\n",
    "AZURE_SEARCH_ENDPOINT = os.getenv(\"AZURE_SEARCH_SERVICE_ENDPOINT\", \"https://your-search-service.search.windows.net\")\n",
    "AZURE_SEARCH_KEY = os.getenv(\"AZURE_SEARCH_ADMIN_KEY\", \"your-azure-search-key\")\n",
    "SEARCH_INDEX_NAME = \"acc-guidelines-index\"\n",
    "\n",
    "# Azure AI Project configuration for Bing Grounding\n",
    "AZURE_CONNECTION_STRING = os.getenv(\"AZURE_CONNECTION_STRING\", \"your-azure-connection-string\")\n",
    "BING_CONNECTION_NAME = os.getenv(\"BING_CONNECTION_NAME\", \"fsunavalabinggrounding\")\n",
    "\n",
    "# Azure SQL connection details (for patient data)\n",
    "server = os.getenv(\"AZURE_SQL_SERVER_NAME\")\n",
    "database = os.getenv(\"AZURE_SQL_DATABASE_NAME\")\n",
    "username = os.getenv(\"AZURE_SQL_USER_NAME\")\n",
    "password = os.getenv(\"AZURE_SQL_PASSWORD\")\n",
    "driver = '{ODBC Driver 17 for SQL Server}'\n",
    "\n",
    "# Create an Azure SQL connection string\n",
    "AZURE_SQL_CONNECTION_STRING = f\"DRIVER={driver};SERVER={server};DATABASE={database};UID={username};PWD={password}\"\n",
    "\n",
    "# Initialize the Azure OpenAI client\n",
    "openai_client = AzureOpenAI(\n",
    "    api_key=AZURE_OPENAI_API_KEY,\n",
    "    api_version=AZURE_OPENAI_API_VERSION,\n",
    "    azure_endpoint=AZURE_OPENAI_ENDPOINT,\n",
    ")"
   ]
  },
  {
   "cell_type": "markdown",
   "metadata": {},
   "source": [
    "## 3. Define Tool Functions\n",
    "\n",
    "Now we'll implement the three tool functions that our agent will use to access different data sources.\n",
    "\n",
    "### 3.1 Unstructured Data Tool: ACC Guidelines Search via Azure AI Search\n",
    "\n",
    "This tool retrieves relevant American College of Cardiology guidelines using Azure AI Search with semantic and vector search capabilities.\n"
   ]
  },
  {
   "cell_type": "code",
   "execution_count": null,
   "metadata": {},
   "outputs": [],
   "source": [
    "def search_acc_guidelines(query: str) -> str:\n",
    "    \"\"\"\n",
    "    Searches the Azure AI Search index 'acc-guidelines-index' \n",
    "    for relevant American College of Cardiology (ACC) guidelines.\n",
    "    \"\"\"\n",
    "    credential = AzureKeyCredential(AZURE_SEARCH_KEY)\n",
    "    client = SearchClient(\n",
    "        endpoint=AZURE_SEARCH_ENDPOINT,\n",
    "        index_name=SEARCH_INDEX_NAME,\n",
    "        credential=credential,\n",
    "    )\n",
    "    \n",
    "    results = client.search(\n",
    "        search_text=query,\n",
    "        vector_queries=[\n",
    "            VectorizableTextQuery(\n",
    "                text=query,\n",
    "                k_nearest_neighbors=10,   # Adjust as needed\n",
    "                fields=\"embedding\"   # Adjust based on your index schema\n",
    "            )\n",
    "        ],\n",
    "        query_type=\"semantic\",\n",
    "        semantic_configuration_name=\"default\",\n",
    "        search_fields=[\"chunk\"],\n",
    "        top=10,\n",
    "        include_total_count=True\n",
    "    )\n",
    "    \n",
    "    retrieved_texts = []\n",
    "    for result in results:\n",
    "        content_chunk = result.get(\"chunk\", \"\")\n",
    "        retrieved_texts.append(content_chunk)\n",
    "    \n",
    "    context_str = \"\\n\".join(retrieved_texts) if retrieved_texts else \"No relevant guidelines found.\"\n",
    "    \n",
    "    console.print(\n",
    "        Panel(\n",
    "            f\"Tool Invoked: ACC Guidelines Search\\nQuery: {query}\",\n",
    "            style=\"bold yellow\"\n",
    "        )\n",
    "    )\n",
    "    return context_str"
   ]
  },
  {
   "cell_type": "markdown",
   "metadata": {},
   "source": [
    " ### 3.2 Web Data Tool: Bing Web Grounding via Azure AI Agent Service\n",
    " \n",
    " This tool uses the Azure AI Agent Service with the Bing Web Grounding Tool to search for real-time information from the web. This is a significant improvement over direct Bing Search API calls, as it leverages Azure's AI Agent framework for better context and grounding and remains compliant with Bing's Terms of Use."
   ]
  },
  {
   "cell_type": "code",
   "execution_count": null,
   "metadata": {},
   "outputs": [],
   "source": [
    "def search_bing_grounding(query: str) -> str:\n",
    "    \"\"\"\n",
    "    Searches the public web using the Bing Web Grounding Tool via Azure AI Agent Service.\n",
    "    Returns information about recent updates from the web.\n",
    "    \"\"\"\n",
    "    # Create an Azure AI Client\n",
    "    project_client = AIProjectClient.from_connection_string(\n",
    "        credential=DefaultAzureCredential(),\n",
    "        conn_str=AZURE_CONNECTION_STRING,\n",
    "    )\n",
    "    \n",
    "    try:\n",
    "        with project_client:\n",
    "            # Get the Bing connection\n",
    "            bing_connection = project_client.connections.get(\n",
    "                connection_name=BING_CONNECTION_NAME\n",
    "            )\n",
    "            conn_id = bing_connection.id\n",
    "            \n",
    "            # Initialize agent bing tool\n",
    "            bing = BingGroundingTool(connection_id=conn_id)\n",
    "            \n",
    "            # Create agent with the bing tool\n",
    "            agent = project_client.agents.create_agent(\n",
    "                model=\"gpt-4o\", # gpt-4o-mini not supported at this time so we'll use GPT-4o\n",
    "                name=\"bing-search-agent\",\n",
    "                instructions=f\"Search the web for information about: {query}. Provide a concise but comprehensive summary.\",\n",
    "                tools=bing.definitions,\n",
    "                headers={\"x-ms-enable-preview\": \"true\"}\n",
    "            )\n",
    "            \n",
    "            # Create thread for communication\n",
    "            thread = project_client.agents.create_thread()\n",
    "            \n",
    "            # Create message to thread\n",
    "            project_client.agents.create_message(\n",
    "                thread_id=thread.id,\n",
    "                role=\"user\",\n",
    "                content=query,\n",
    "            )\n",
    "            \n",
    "            # Create and process agent run\n",
    "            run = project_client.agents.create_and_process_run(\n",
    "                thread_id=thread.id, \n",
    "                assistant_id=agent.id\n",
    "            )\n",
    "            \n",
    "            if run.status == \"failed\":\n",
    "                result_text = f\"Bing search failed: {run.last_error}\"\n",
    "            else:\n",
    "                # Fetch messages to get the response\n",
    "                messages = project_client.agents.list_messages(thread_id=thread.id)\n",
    "                # Get the last assistant message\n",
    "                assistant_messages = [m for m in messages.get('data', []) if m.get('role') == 'assistant']\n",
    "                if assistant_messages:\n",
    "                    # Extract the text content from the last assistant message\n",
    "                    content_list = assistant_messages[-1].get('content', [])\n",
    "                    result_text = \"\"\n",
    "                    for content_item in content_list:\n",
    "                        if isinstance(content_item, dict) and 'text' in content_item:\n",
    "                            result_text += content_item.get('text', \"\")\n",
    "                    \n",
    "                    if not result_text:\n",
    "                        result_text = \"No results found.\"\n",
    "                else:\n",
    "                    result_text = \"No results found.\"\n",
    "            \n",
    "            # Clean up resources\n",
    "            project_client.agents.delete_agent(agent.id)\n",
    "            \n",
    "    except Exception as e:\n",
    "        result_text = f\"Bing search failed with error: {str(e)}\"\n",
    "    \n",
    "    console.print(\n",
    "        Panel(\n",
    "            f\"Tool Invoked: Bing Grounding Search\\nQuery: {query}\",\n",
    "            style=\"bold magenta\"\n",
    "        )\n",
    "    )\n",
    "    return result_text"
   ]
  },
  {
   "cell_type": "markdown",
   "metadata": {},
   "source": [
    "### 3.3 Structured Data Tool: Patient Data Query via Azure SQL\n",
    "\n",
    "This tool queries a SQL database containing patient medical data, transforming natural language questions into SQL queries.\n"
   ]
  },
  {
   "cell_type": "code",
   "execution_count": null,
   "metadata": {},
   "outputs": [],
   "source": [
    "def lookup_patient_data(query: str) -> str:\n",
    "    \"\"\"\n",
    "    Queries the 'PatientMedicalData' table in Azure SQL and returns the results as a string.\n",
    "    'query' should be a valid SQL statement.\n",
    "    This version uses SQLAlchemy to create an engine, which is fully supported by pandas.read_sql.\n",
    "    \"\"\"\n",
    "    try:\n",
    "        # Construct the connection URI for SQLAlchemy\n",
    "        connection_uri = (\n",
    "            f\"mssql+pyodbc://{username}:{password}@{server}/{database}\"\n",
    "            \"?driver=ODBC+Driver+17+for+SQL+Server\"\n",
    "        )\n",
    "        engine = sqlalchemy.create_engine(connection_uri)\n",
    "        \n",
    "        # Use the engine in pandas.read_sql, which avoids the warning\n",
    "        df = pd.read_sql(query, engine)\n",
    "        if df.empty:\n",
    "            return \"No rows found.\"\n",
    "        return df.to_string(index=False)\n",
    "    except Exception as e:\n",
    "        return f\"Database error: {str(e)}\""
   ]
  },
  {
   "cell_type": "markdown",
   "metadata": {},
   "source": [
    " ## 4. Define Tools for OpenAI Function Calling\n",
    " Now we'll configure these tools to work with OpenAI's function calling feature, which allows the LLM to dynamically select and use these tools during conversation.\n"
   ]
  },
  {
   "cell_type": "code",
   "execution_count": null,
   "metadata": {},
   "outputs": [],
   "source": [
    "tools = [\n",
    "    {\n",
    "        \"type\": \"function\",\n",
    "        \"function\": {\n",
    "            \"name\": \"search_acc_guidelines\",\n",
    "            \"description\": \"Query the ACC guidelines for official cardiology recommendations. Use keywords related to cardiology conditions, treatments, or guidelines.\",\n",
    "            \"parameters\": {\n",
    "                \"type\": \"object\",\n",
    "                \"properties\": {\n",
    "                    \"query\": {\n",
    "                        \"type\": \"string\",\n",
    "                        \"description\": \"Keywords or specific question related to cardiology guidelines.\"\n",
    "                    }\n",
    "                },\n",
    "                \"required\": [\"query\"]\n",
    "            }\n",
    "        }\n",
    "    },\n",
    "    {\n",
    "        \"type\": \"function\",\n",
    "        \"function\": {\n",
    "            \"name\": \"search_bing_grounding\",\n",
    "            \"description\": \"Perform a public web search for real-time or external information using Bing Grounding. For example, 'FDA new hyperlipidemia drugs', 'recent hypertension medication approvals'.\",\n",
    "            \"parameters\": {\n",
    "                \"type\": \"object\",\n",
    "                \"properties\": {\n",
    "                    \"query\": {\n",
    "                        \"type\": \"string\",\n",
    "                        \"description\": \"General query to retrieve public data.\"\n",
    "                    }\n",
    "                },\n",
    "                \"required\": [\"query\"]\n",
    "            }\n",
    "        }\n",
    "    },\n",
    "    {\n",
    "        \"type\": \"function\",\n",
    "        \"function\": {\n",
    "            \"name\": \"lookup_patient_data\",\n",
    "            \"description\": (\n",
    "                \"Query Azure SQL PatientMedicalData table. Schema: \"\n",
    "                \"PatientID: INT (PK, Identity), FirstName: VARCHAR(100), LastName: VARCHAR(100), \"\n",
    "                \"DateOfBirth: DATE, Gender: VARCHAR(20), ContactNumber: VARCHAR(100), EmailAddress: VARCHAR(100), \"\n",
    "                \"Address: VARCHAR(255), City: VARCHAR(100), PostalCode: VARCHAR(20), Country: VARCHAR(100), \"\n",
    "                \"MedicalCondition: VARCHAR(255), Medications: VARCHAR(255), Allergies: VARCHAR(255), BloodType: VARCHAR(10), \"\n",
    "                \"LastVisitDate: DATE, SmokingStatus: VARCHAR(50), AlcoholConsumption: VARCHAR(50), ExerciseFrequency: VARCHAR(50), \"\n",
    "                \"Occupation: VARCHAR(100), Height_cm: DECIMAL(5,2), Weight_kg: DECIMAL(5,2), BloodPressure: VARCHAR(20), \"\n",
    "                \"HeartRate_bpm: INT, Temperature_C: DECIMAL(3,1), Notes: VARCHAR(MAX). Use SQL to retrieve patient data.\"\n",
    "            ),\n",
    "            \"parameters\": {\n",
    "                \"type\": \"object\",\n",
    "                \"properties\": {\n",
    "                    \"query\": {\n",
    "                        \"type\": \"string\",\n",
    "                        \"description\": \"Valid SQL query for PatientMedicalData table to get patient information.\"\n",
    "                    }\n",
    "                },\n",
    "                \"required\": [\"query\"]\n",
    "            }\n",
    "        }\n",
    "    }\n",
    "]\n",
    "\n",
    "# Map the tool names to the actual function implementations\n",
    "tool_implementations = {\n",
    "    \"search_acc_guidelines\": search_acc_guidelines,\n",
    "    \"search_bing_grounding\": search_bing_grounding,\n",
    "    \"lookup_patient_data\": lookup_patient_data,\n",
    "}"
   ]
  },
  {
   "cell_type": "markdown",
   "metadata": {},
   "source": [
    "## 5. Define System Prompt for the Agent\n",
    "\n",
    "The system prompt sets the context and instructions for the Agent, defining its role and capabilities.\n"
   ]
  },
  {
   "cell_type": "code",
   "execution_count": null,
   "metadata": {},
   "outputs": [],
   "source": [
    "# ----------------------------\n",
    "# System Prompt for the Agent\n",
    "# ----------------------------\n",
    "SYSTEM_PROMPT = (\n",
    "    \"You are a cardiology-focused AI assistant with access to three tools:\\n\"\n",
    "    \"1) 'lookup_patient_data' for querying patient records from Azure SQL.\\n\"\n",
    "    \"2) 'search_acc_guidelines' for official ACC guidelines.\\n\"\n",
    "    \"3) 'search_bing_grounding' for real-time public information.\\n\\n\"\n",
    "    \"You can call these tools in any order, multiple times if needed, to gather all the context.\\n\"\n",
    "    \"Stop calling tools only when you have enough information to provide a final, cohesive answer.\\n\"\n",
    "    \"Then output your final answer to the user.\"\n",
    ")\n"
   ]
  },
  {
   "cell_type": "markdown",
   "metadata": {},
   "source": [
    "## 6. Implement the Multi-Step Agent\n",
    "\n",
    " Now we'll create the agent that orchestrates the entire process. This agent will:\n",
    "\n",
    "1.  Receive a user query\n",
    "2.  Decide which tools to call and in what order\n",
    "3.  Parse the results from each tool\n",
    "4.  Synthesize a comprehensive answer\n",
    "\n",
    " Note: Debug logging is disabled by default. To enable enhanced debugging, uncomment the lines marked with `# DEBUG`.\n"
   ]
  },
  {
   "cell_type": "code",
   "execution_count": 55,
   "metadata": {},
   "outputs": [],
   "source": [
    "def run_multi_step_agent(user_query: str, max_steps: int = 10):\n",
    "    \"\"\"\n",
    "    A multi-step agent that orchestrates tool selection and execution.\n",
    "    \n",
    "    Args:\n",
    "        user_query (str): The user's question or request\n",
    "        max_steps (int): Maximum number of reasoning steps before timeout\n",
    "        \n",
    "    Returns:\n",
    "        None: Prints the final answer or an error message\n",
    "    \"\"\"\n",
    "    messages = [\n",
    "        {\"role\": \"system\", \"content\": SYSTEM_PROMPT},\n",
    "        {\"role\": \"user\", \"content\": user_query}\n",
    "    ]\n",
    "\n",
    "    for step in range(max_steps):\n",
    "        console.print(Panel(f\"**Step {step+1}**: Starting step {step+1}\", title=\"Step Start\", style=\"bold cyan\"))\n",
    "        \n",
    "        response = openai_client.chat.completions.create(\n",
    "            model=AZURE_OPENAI_CHAT_COMPLETION_DEPLOYED_MODEL_NAME,\n",
    "            messages=messages,\n",
    "            tools=tools,\n",
    "            tool_choice=\"auto\",\n",
    "            max_tokens=8000,\n",
    "        )\n",
    "        response_message = response.choices[0].message\n",
    "        \n",
    "        # DEBUG: console.print(Panel(f\"[DEBUG] Step {step+1}: Raw response_message: {response_message}\", title=\"Raw Response\", style=\"dim\"))\n",
    "        \n",
    "        # Add the assistant's message to the conversation\n",
    "        messages.append(response_message)\n",
    "        \n",
    "        if response_message.tool_calls:\n",
    "            for tool_call in response_message.tool_calls:\n",
    "                function_name = tool_call.function.name\n",
    "                arguments_str = tool_call.function.arguments\n",
    "                \n",
    "                # DEBUG: console.print(Panel(f\"[DEBUG] Step {step+1}: Tool called: {function_name}\", title=\"Tool Call Info\", style=\"bold magenta\"))\n",
    "                # DEBUG: console.print(Panel(f\"[DEBUG] Step {step+1}: arguments_str: {arguments_str}\", title=\"Arguments String\", style=\"magenta\"))\n",
    "                \n",
    "                if arguments_str.strip() == \"\":\n",
    "                    function_args = {}\n",
    "                else:\n",
    "                    try:\n",
    "                        function_args = json.loads(arguments_str)\n",
    "                        # DEBUG: console.print(Panel(f\"[DEBUG] Step {step+1}: function_args (JSON parsed): {function_args}\", title=\"Parsed Arguments\", style=\"green\"))\n",
    "                    except json.JSONDecodeError as e:\n",
    "                        function_args = {}\n",
    "                        console.print(\n",
    "                            Panel(\n",
    "                                \"Warning: Could not decode tool call arguments; defaulting to empty dict.\",\n",
    "                                title=\"JSONDecodeError\",\n",
    "                                style=\"bold red\"\n",
    "                            )\n",
    "                        )\n",
    "                        # DEBUG: console.print(Panel(f\"[DEBUG] Step {step+1}: JSONDecodeError details: {e}\", title=\"JSONDecodeError Detail\", style=\"bold red\"))\n",
    "                        # DEBUG: console.print(Panel(f\"[DEBUG] Step {step+1}: function_args (defaulted): {function_args}\", title=\"Defaulted Arguments\", style=\"red\"))\n",
    "                \n",
    "                # Ensure the 'query' key is present\n",
    "                if \"query\" not in function_args or not function_args[\"query\"]:\n",
    "                    function_args[\"query\"] = user_query\n",
    "                    # DEBUG: console.print(Panel(f\"[DEBUG] Step {step+1}: 'query' key defaulted to user_query: {user_query}\", title=\"Defaulted Query Key\", style=\"yellow\"))\n",
    "                \n",
    "                # Display which tool is being called (keep this visible by default)\n",
    "                console.print(\n",
    "                    Panel(\n",
    "                        f\"**Step {step+1}**: LLM calls tool [bold]{function_name}[/bold]\\n\\n\"\n",
    "                        f\"**Arguments**:\\n{json.dumps(function_args, indent=2)}\",\n",
    "                        title=\"Tool Call\",\n",
    "                        style=\"bold blue\"\n",
    "                    )\n",
    "                )\n",
    "                \n",
    "                # DEBUG: console.print(Panel(f\"[DEBUG] Step {step+1}: Calling tool implementation: {function_name} with args: {function_args}\", title=\"Tool Implementation Call\", style=\"bold magenta\"))\n",
    "                \n",
    "                tool_fn = tool_implementations.get(function_name)\n",
    "                if tool_fn is None:\n",
    "                    tool_output = f\"[Error] No implementation for tool '{function_name}'.\"\n",
    "                else:\n",
    "                    tool_output = tool_fn(**function_args)\n",
    "                \n",
    "                # DEBUG: console.print(Panel(f\"[DEBUG] Step {step+1}: Tool output: {tool_output}\", title=\"Tool Output\", style=\"italic blue\"))\n",
    "                \n",
    "                # Add the tool response to the conversation\n",
    "                messages.append({\n",
    "                    \"tool_call_id\": tool_call.id,\n",
    "                    \"role\": \"tool\",\n",
    "                    \"name\": function_name,\n",
    "                    \"content\": str(tool_output),  # Simple string for tool response\n",
    "                })\n",
    "        else:\n",
    "            # Display the final answer (keep this visible by default)\n",
    "            final_answer = response_message.content\n",
    "            console.print(\n",
    "                Panel(\n",
    "                    final_answer,\n",
    "                    title=\"Final Answer\",\n",
    "                    style=\"bold green\",\n",
    "                    border_style=\"yellow\"\n",
    "                )\n",
    "            )\n",
    "            return\n",
    "\n",
    "    # If we reach the maximum steps without a final answer, show a warning\n",
    "    console.print(\n",
    "        Panel(\n",
    "            \"Max steps reached without a final answer. Stopping.\",\n",
    "            title=\"Warning\",\n",
    "            style=\"bold red\"\n",
    "        )\n",
    "    )\n",
    "    return"
   ]
  },
  {
   "cell_type": "markdown",
   "metadata": {},
   "source": [
    " ## 7. Execute the Agent with a Sample Query\n",
    " \n",
    " Now let's run the agent with a cardiology-related question to see how it works. The agent will decide which tools to use and in what order to provide the most comprehensive answer."
   ]
  },
  {
   "cell_type": "code",
   "execution_count": 56,
   "metadata": {},
   "outputs": [
    {
     "data": {
      "text/html": [
       "<pre style=\"white-space:pre;overflow-x:auto;line-height:normal;font-family:Menlo,'DejaVu Sans Mono',consolas,'Courier New',monospace\"><span style=\"color: #008080; text-decoration-color: #008080; font-weight: bold\">╭──────────────────────────────────────────────────</span> Step Start <span style=\"color: #008080; text-decoration-color: #008080; font-weight: bold\">───────────────────────────────────────────────────╮</span>\n",
       "<span style=\"color: #008080; text-decoration-color: #008080; font-weight: bold\">│ **Step 1**: Starting step 1                                                                                     │</span>\n",
       "<span style=\"color: #008080; text-decoration-color: #008080; font-weight: bold\">╰─────────────────────────────────────────────────────────────────────────────────────────────────────────────────╯</span>\n",
       "</pre>\n"
      ],
      "text/plain": [
       "\u001b[1;36m╭─\u001b[0m\u001b[1;36m─────────────────────────────────────────────────\u001b[0m Step Start \u001b[1;36m──────────────────────────────────────────────────\u001b[0m\u001b[1;36m─╮\u001b[0m\n",
       "\u001b[1;36m│\u001b[0m\u001b[1;36m \u001b[0m\u001b[1;36m**Step 1**: Starting step 1\u001b[0m\u001b[1;36m                                                                                    \u001b[0m\u001b[1;36m \u001b[0m\u001b[1;36m│\u001b[0m\n",
       "\u001b[1;36m╰─────────────────────────────────────────────────────────────────────────────────────────────────────────────────╯\u001b[0m\n"
      ]
     },
     "metadata": {},
     "output_type": "display_data"
    },
    {
     "data": {
      "text/html": [
       "<pre style=\"white-space:pre;overflow-x:auto;line-height:normal;font-family:Menlo,'DejaVu Sans Mono',consolas,'Courier New',monospace\"><span style=\"color: #000080; text-decoration-color: #000080; font-weight: bold\">╭───────────────────────────────────────────────────</span> Tool Call <span style=\"color: #000080; text-decoration-color: #000080; font-weight: bold\">───────────────────────────────────────────────────╮</span>\n",
       "<span style=\"color: #000080; text-decoration-color: #000080; font-weight: bold\">│ **Step 1**: LLM calls tool search_acc_guidelines                                                                │</span>\n",
       "<span style=\"color: #000080; text-decoration-color: #000080; font-weight: bold\">│                                                                                                                 │</span>\n",
       "<span style=\"color: #000080; text-decoration-color: #000080; font-weight: bold\">│ **Arguments**:                                                                                                  │</span>\n",
       "<span style=\"color: #000080; text-decoration-color: #000080; font-weight: bold\">│ {                                                                                                               │</span>\n",
       "<span style=\"color: #000080; text-decoration-color: #000080; font-weight: bold\">│   \"query\": \"first-line therapy for hypertension in elderly patients\"                                            │</span>\n",
       "<span style=\"color: #000080; text-decoration-color: #000080; font-weight: bold\">│ }                                                                                                               │</span>\n",
       "<span style=\"color: #000080; text-decoration-color: #000080; font-weight: bold\">╰─────────────────────────────────────────────────────────────────────────────────────────────────────────────────╯</span>\n",
       "</pre>\n"
      ],
      "text/plain": [
       "\u001b[1;34m╭─\u001b[0m\u001b[1;34m──────────────────────────────────────────────────\u001b[0m Tool Call \u001b[1;34m──────────────────────────────────────────────────\u001b[0m\u001b[1;34m─╮\u001b[0m\n",
       "\u001b[1;34m│\u001b[0m\u001b[1;34m \u001b[0m\u001b[1;34m**Step 1**: LLM calls tool \u001b[0m\u001b[1;34msearch_acc_guidelines\u001b[0m\u001b[1;34m                                                               \u001b[0m\u001b[1;34m \u001b[0m\u001b[1;34m│\u001b[0m\n",
       "\u001b[1;34m│\u001b[0m\u001b[1;34m \u001b[0m\u001b[1;34m                                                                                                               \u001b[0m\u001b[1;34m \u001b[0m\u001b[1;34m│\u001b[0m\n",
       "\u001b[1;34m│\u001b[0m\u001b[1;34m \u001b[0m\u001b[1;34m**Arguments**:\u001b[0m\u001b[1;34m                                                                                                 \u001b[0m\u001b[1;34m \u001b[0m\u001b[1;34m│\u001b[0m\n",
       "\u001b[1;34m│\u001b[0m\u001b[1;34m \u001b[0m\u001b[1;34m{\u001b[0m\u001b[1;34m                                                                                                              \u001b[0m\u001b[1;34m \u001b[0m\u001b[1;34m│\u001b[0m\n",
       "\u001b[1;34m│\u001b[0m\u001b[1;34m \u001b[0m\u001b[1;34m  \"query\": \"first-line therapy for hypertension in elderly patients\"\u001b[0m\u001b[1;34m                                           \u001b[0m\u001b[1;34m \u001b[0m\u001b[1;34m│\u001b[0m\n",
       "\u001b[1;34m│\u001b[0m\u001b[1;34m \u001b[0m\u001b[1;34m}\u001b[0m\u001b[1;34m                                                                                                              \u001b[0m\u001b[1;34m \u001b[0m\u001b[1;34m│\u001b[0m\n",
       "\u001b[1;34m╰─────────────────────────────────────────────────────────────────────────────────────────────────────────────────╯\u001b[0m\n"
      ]
     },
     "metadata": {},
     "output_type": "display_data"
    },
    {
     "data": {
      "text/html": [
       "<pre style=\"white-space:pre;overflow-x:auto;line-height:normal;font-family:Menlo,'DejaVu Sans Mono',consolas,'Courier New',monospace\"><span style=\"color: #808000; text-decoration-color: #808000; font-weight: bold\">╭─────────────────────────────────────────────────────────────────────────────────────────────────────────────────╮</span>\n",
       "<span style=\"color: #808000; text-decoration-color: #808000; font-weight: bold\">│ Tool Invoked: ACC Guidelines Search                                                                             │</span>\n",
       "<span style=\"color: #808000; text-decoration-color: #808000; font-weight: bold\">│ Query: first-line therapy for hypertension in elderly patients                                                  │</span>\n",
       "<span style=\"color: #808000; text-decoration-color: #808000; font-weight: bold\">╰─────────────────────────────────────────────────────────────────────────────────────────────────────────────────╯</span>\n",
       "</pre>\n"
      ],
      "text/plain": [
       "\u001b[1;33m╭─────────────────────────────────────────────────────────────────────────────────────────────────────────────────╮\u001b[0m\n",
       "\u001b[1;33m│\u001b[0m\u001b[1;33m \u001b[0m\u001b[1;33mTool Invoked: ACC Guidelines Search\u001b[0m\u001b[1;33m                                                                            \u001b[0m\u001b[1;33m \u001b[0m\u001b[1;33m│\u001b[0m\n",
       "\u001b[1;33m│\u001b[0m\u001b[1;33m \u001b[0m\u001b[1;33mQuery: first-line therapy for hypertension in elderly patients\u001b[0m\u001b[1;33m                                                 \u001b[0m\u001b[1;33m \u001b[0m\u001b[1;33m│\u001b[0m\n",
       "\u001b[1;33m╰─────────────────────────────────────────────────────────────────────────────────────────────────────────────────╯\u001b[0m\n"
      ]
     },
     "metadata": {},
     "output_type": "display_data"
    },
    {
     "data": {
      "text/html": [
       "<pre style=\"white-space:pre;overflow-x:auto;line-height:normal;font-family:Menlo,'DejaVu Sans Mono',consolas,'Courier New',monospace\"><span style=\"color: #008080; text-decoration-color: #008080; font-weight: bold\">╭──────────────────────────────────────────────────</span> Step Start <span style=\"color: #008080; text-decoration-color: #008080; font-weight: bold\">───────────────────────────────────────────────────╮</span>\n",
       "<span style=\"color: #008080; text-decoration-color: #008080; font-weight: bold\">│ **Step 2**: Starting step 2                                                                                     │</span>\n",
       "<span style=\"color: #008080; text-decoration-color: #008080; font-weight: bold\">╰─────────────────────────────────────────────────────────────────────────────────────────────────────────────────╯</span>\n",
       "</pre>\n"
      ],
      "text/plain": [
       "\u001b[1;36m╭─\u001b[0m\u001b[1;36m─────────────────────────────────────────────────\u001b[0m Step Start \u001b[1;36m──────────────────────────────────────────────────\u001b[0m\u001b[1;36m─╮\u001b[0m\n",
       "\u001b[1;36m│\u001b[0m\u001b[1;36m \u001b[0m\u001b[1;36m**Step 2**: Starting step 2\u001b[0m\u001b[1;36m                                                                                    \u001b[0m\u001b[1;36m \u001b[0m\u001b[1;36m│\u001b[0m\n",
       "\u001b[1;36m╰─────────────────────────────────────────────────────────────────────────────────────────────────────────────────╯\u001b[0m\n"
      ]
     },
     "metadata": {},
     "output_type": "display_data"
    },
    {
     "data": {
      "text/html": [
       "<pre style=\"white-space:pre;overflow-x:auto;line-height:normal;font-family:Menlo,'DejaVu Sans Mono',consolas,'Courier New',monospace\"><span style=\"color: #808000; text-decoration-color: #808000; font-weight: bold\">╭─────────────────────────────────────────────────</span><span style=\"color: #808000; text-decoration-color: #808000\"> Final Answer </span><span style=\"color: #808000; text-decoration-color: #808000; font-weight: bold\">──────────────────────────────────────────────────╮</span>\n",
       "<span style=\"color: #808000; text-decoration-color: #808000; font-weight: bold\">│</span><span style=\"color: #008000; text-decoration-color: #008000; font-weight: bold\"> The American College of Cardiology (ACC) recommends the following first-line agents for the initiation of       </span><span style=\"color: #808000; text-decoration-color: #808000; font-weight: bold\">│</span>\n",
       "<span style=\"color: #808000; text-decoration-color: #808000; font-weight: bold\">│</span><span style=\"color: #008000; text-decoration-color: #008000; font-weight: bold\"> antihypertensive drug therapy in elderly patients with hypertension:                                            </span><span style=\"color: #808000; text-decoration-color: #808000; font-weight: bold\">│</span>\n",
       "<span style=\"color: #808000; text-decoration-color: #808000; font-weight: bold\">│</span><span style=\"color: #008000; text-decoration-color: #008000; font-weight: bold\">                                                                                                                 </span><span style=\"color: #808000; text-decoration-color: #808000; font-weight: bold\">│</span>\n",
       "<span style=\"color: #808000; text-decoration-color: #808000; font-weight: bold\">│</span><span style=\"color: #008000; text-decoration-color: #008000; font-weight: bold\"> 1. **Thiazide diuretics** - specifically chlorthalidone is noted for its effectiveness in preventing heart      </span><span style=\"color: #808000; text-decoration-color: #808000; font-weight: bold\">│</span>\n",
       "<span style=\"color: #808000; text-decoration-color: #808000; font-weight: bold\">│</span><span style=\"color: #008000; text-decoration-color: #008000; font-weight: bold\"> failure and controlling hypertension.                                                                           </span><span style=\"color: #808000; text-decoration-color: #808000; font-weight: bold\">│</span>\n",
       "<span style=\"color: #808000; text-decoration-color: #808000; font-weight: bold\">│</span><span style=\"color: #008000; text-decoration-color: #008000; font-weight: bold\"> 2. **Calcium Channel Blockers (CCBs)** - these can be a good alternative or initial choice, especially if       </span><span style=\"color: #808000; text-decoration-color: #808000; font-weight: bold\">│</span>\n",
       "<span style=\"color: #808000; text-decoration-color: #808000; font-weight: bold\">│</span><span style=\"color: #008000; text-decoration-color: #008000; font-weight: bold\"> thiazides are not tolerated.                                                                                    </span><span style=\"color: #808000; text-decoration-color: #808000; font-weight: bold\">│</span>\n",
       "<span style=\"color: #808000; text-decoration-color: #808000; font-weight: bold\">│</span><span style=\"color: #008000; text-decoration-color: #008000; font-weight: bold\"> 3. **Angiotensin-Converting Enzyme (ACE) inhibitors** or **Angiotensin II Receptor Blockers (ARBs)** - these    </span><span style=\"color: #808000; text-decoration-color: #808000; font-weight: bold\">│</span>\n",
       "<span style=\"color: #808000; text-decoration-color: #808000; font-weight: bold\">│</span><span style=\"color: #008000; text-decoration-color: #008000; font-weight: bold\"> may be considered based on specific comorbid conditions.                                                        </span><span style=\"color: #808000; text-decoration-color: #808000; font-weight: bold\">│</span>\n",
       "<span style=\"color: #808000; text-decoration-color: #808000; font-weight: bold\">│</span><span style=\"color: #008000; text-decoration-color: #008000; font-weight: bold\">                                                                                                                 </span><span style=\"color: #808000; text-decoration-color: #808000; font-weight: bold\">│</span>\n",
       "<span style=\"color: #808000; text-decoration-color: #808000; font-weight: bold\">│</span><span style=\"color: #008000; text-decoration-color: #008000; font-weight: bold\"> It is emphasized that the majority of elderly patients require more than one medication to adequately manage    </span><span style=\"color: #808000; text-decoration-color: #808000; font-weight: bold\">│</span>\n",
       "<span style=\"color: #808000; text-decoration-color: #808000; font-weight: bold\">│</span><span style=\"color: #008000; text-decoration-color: #008000; font-weight: bold\"> their blood pressure, especially if their baseline blood pressure is significantly above target levels (e.g.,   </span><span style=\"color: #808000; text-decoration-color: #808000; font-weight: bold\">│</span>\n",
       "<span style=\"color: #808000; text-decoration-color: #808000; font-weight: bold\">│</span><span style=\"color: #008000; text-decoration-color: #008000; font-weight: bold\"> stage 2 hypertension). Therefore, a dual-agent approach may be favored. The ACC guidelines also suggest careful </span><span style=\"color: #808000; text-decoration-color: #808000; font-weight: bold\">│</span>\n",
       "<span style=\"color: #808000; text-decoration-color: #808000; font-weight: bold\">│</span><span style=\"color: #008000; text-decoration-color: #008000; font-weight: bold\"> monitoring for potential side effects such as hypotension, particularly in older adults.                        </span><span style=\"color: #808000; text-decoration-color: #808000; font-weight: bold\">│</span>\n",
       "<span style=\"color: #808000; text-decoration-color: #808000; font-weight: bold\">╰─────────────────────────────────────────────────────────────────────────────────────────────────────────────────╯</span>\n",
       "</pre>\n"
      ],
      "text/plain": [
       "\u001b[1;33m╭─\u001b[0m\u001b[1;33m────────────────────────────────────────────────\u001b[0m\u001b[33m Final Answer \u001b[0m\u001b[1;33m─────────────────────────────────────────────────\u001b[0m\u001b[1;33m─╮\u001b[0m\n",
       "\u001b[1;33m│\u001b[0m\u001b[1;32m \u001b[0m\u001b[1;32mThe American College of Cardiology (ACC) recommends the following first-line agents for the initiation of \u001b[0m\u001b[1;32m     \u001b[0m\u001b[1;32m \u001b[0m\u001b[1;33m│\u001b[0m\n",
       "\u001b[1;33m│\u001b[0m\u001b[1;32m \u001b[0m\u001b[1;32mantihypertensive drug therapy in elderly patients with hypertension:\u001b[0m\u001b[1;32m                                           \u001b[0m\u001b[1;32m \u001b[0m\u001b[1;33m│\u001b[0m\n",
       "\u001b[1;33m│\u001b[0m\u001b[1;32m \u001b[0m\u001b[1;32m                                                                                                               \u001b[0m\u001b[1;32m \u001b[0m\u001b[1;33m│\u001b[0m\n",
       "\u001b[1;33m│\u001b[0m\u001b[1;32m \u001b[0m\u001b[1;32m1. **Thiazide diuretics** - specifically chlorthalidone is noted for its effectiveness in preventing heart \u001b[0m\u001b[1;32m    \u001b[0m\u001b[1;32m \u001b[0m\u001b[1;33m│\u001b[0m\n",
       "\u001b[1;33m│\u001b[0m\u001b[1;32m \u001b[0m\u001b[1;32mfailure and controlling hypertension.\u001b[0m\u001b[1;32m                                                                          \u001b[0m\u001b[1;32m \u001b[0m\u001b[1;33m│\u001b[0m\n",
       "\u001b[1;33m│\u001b[0m\u001b[1;32m \u001b[0m\u001b[1;32m2. **Calcium Channel Blockers (CCBs)** - these can be a good alternative or initial choice, especially if \u001b[0m\u001b[1;32m     \u001b[0m\u001b[1;32m \u001b[0m\u001b[1;33m│\u001b[0m\n",
       "\u001b[1;33m│\u001b[0m\u001b[1;32m \u001b[0m\u001b[1;32mthiazides are not tolerated.\u001b[0m\u001b[1;32m                                                                                   \u001b[0m\u001b[1;32m \u001b[0m\u001b[1;33m│\u001b[0m\n",
       "\u001b[1;33m│\u001b[0m\u001b[1;32m \u001b[0m\u001b[1;32m3. **Angiotensin-Converting Enzyme (ACE) inhibitors** or **Angiotensin II Receptor Blockers (ARBs)** - these \u001b[0m\u001b[1;32m  \u001b[0m\u001b[1;32m \u001b[0m\u001b[1;33m│\u001b[0m\n",
       "\u001b[1;33m│\u001b[0m\u001b[1;32m \u001b[0m\u001b[1;32mmay be considered based on specific comorbid conditions.\u001b[0m\u001b[1;32m                                                       \u001b[0m\u001b[1;32m \u001b[0m\u001b[1;33m│\u001b[0m\n",
       "\u001b[1;33m│\u001b[0m\u001b[1;32m \u001b[0m\u001b[1;32m                                                                                                               \u001b[0m\u001b[1;32m \u001b[0m\u001b[1;33m│\u001b[0m\n",
       "\u001b[1;33m│\u001b[0m\u001b[1;32m \u001b[0m\u001b[1;32mIt is emphasized that the majority of elderly patients require more than one medication to adequately manage \u001b[0m\u001b[1;32m  \u001b[0m\u001b[1;32m \u001b[0m\u001b[1;33m│\u001b[0m\n",
       "\u001b[1;33m│\u001b[0m\u001b[1;32m \u001b[0m\u001b[1;32mtheir blood pressure, especially if their baseline blood pressure is significantly above target levels (e.g., \u001b[0m\u001b[1;32m \u001b[0m\u001b[1;32m \u001b[0m\u001b[1;33m│\u001b[0m\n",
       "\u001b[1;33m│\u001b[0m\u001b[1;32m \u001b[0m\u001b[1;32mstage 2 hypertension). Therefore, a dual-agent approach may be favored. The ACC guidelines also suggest careful\u001b[0m\u001b[1;32m \u001b[0m\u001b[1;33m│\u001b[0m\n",
       "\u001b[1;33m│\u001b[0m\u001b[1;32m \u001b[0m\u001b[1;32mmonitoring for potential side effects such as hypotension, particularly in older adults.\u001b[0m\u001b[1;32m                       \u001b[0m\u001b[1;32m \u001b[0m\u001b[1;33m│\u001b[0m\n",
       "\u001b[1;33m╰─────────────────────────────────────────────────────────────────────────────────────────────────────────────────╯\u001b[0m\n"
      ]
     },
     "metadata": {},
     "output_type": "display_data"
    }
   ],
   "source": [
    "user_question_1 = \"What does the ACC recommend as first-line therapy for hypertension in elderly patients?\"\n",
    "run_multi_step_agent(user_question_1)\n"
   ]
  },
  {
   "cell_type": "code",
   "execution_count": 57,
   "metadata": {},
   "outputs": [
    {
     "data": {
      "text/html": [
       "<pre style=\"white-space:pre;overflow-x:auto;line-height:normal;font-family:Menlo,'DejaVu Sans Mono',consolas,'Courier New',monospace\"><span style=\"color: #008080; text-decoration-color: #008080; font-weight: bold\">╭──────────────────────────────────────────────────</span> Step Start <span style=\"color: #008080; text-decoration-color: #008080; font-weight: bold\">───────────────────────────────────────────────────╮</span>\n",
       "<span style=\"color: #008080; text-decoration-color: #008080; font-weight: bold\">│ **Step 1**: Starting step 1                                                                                     │</span>\n",
       "<span style=\"color: #008080; text-decoration-color: #008080; font-weight: bold\">╰─────────────────────────────────────────────────────────────────────────────────────────────────────────────────╯</span>\n",
       "</pre>\n"
      ],
      "text/plain": [
       "\u001b[1;36m╭─\u001b[0m\u001b[1;36m─────────────────────────────────────────────────\u001b[0m Step Start \u001b[1;36m──────────────────────────────────────────────────\u001b[0m\u001b[1;36m─╮\u001b[0m\n",
       "\u001b[1;36m│\u001b[0m\u001b[1;36m \u001b[0m\u001b[1;36m**Step 1**: Starting step 1\u001b[0m\u001b[1;36m                                                                                    \u001b[0m\u001b[1;36m \u001b[0m\u001b[1;36m│\u001b[0m\n",
       "\u001b[1;36m╰─────────────────────────────────────────────────────────────────────────────────────────────────────────────────╯\u001b[0m\n"
      ]
     },
     "metadata": {},
     "output_type": "display_data"
    },
    {
     "data": {
      "text/html": [
       "<pre style=\"white-space:pre;overflow-x:auto;line-height:normal;font-family:Menlo,'DejaVu Sans Mono',consolas,'Courier New',monospace\"><span style=\"color: #000080; text-decoration-color: #000080; font-weight: bold\">╭───────────────────────────────────────────────────</span> Tool Call <span style=\"color: #000080; text-decoration-color: #000080; font-weight: bold\">───────────────────────────────────────────────────╮</span>\n",
       "<span style=\"color: #000080; text-decoration-color: #000080; font-weight: bold\">│ **Step 1**: LLM calls tool search_bing_grounding                                                                │</span>\n",
       "<span style=\"color: #000080; text-decoration-color: #000080; font-weight: bold\">│                                                                                                                 │</span>\n",
       "<span style=\"color: #000080; text-decoration-color: #000080; font-weight: bold\">│ **Arguments**:                                                                                                  │</span>\n",
       "<span style=\"color: #000080; text-decoration-color: #000080; font-weight: bold\">│ {                                                                                                               │</span>\n",
       "<span style=\"color: #000080; text-decoration-color: #000080; font-weight: bold\">│   \"query\": \"latest FDA approvals Ozempic cardiovascular effects\"                                                │</span>\n",
       "<span style=\"color: #000080; text-decoration-color: #000080; font-weight: bold\">│ }                                                                                                               │</span>\n",
       "<span style=\"color: #000080; text-decoration-color: #000080; font-weight: bold\">╰─────────────────────────────────────────────────────────────────────────────────────────────────────────────────╯</span>\n",
       "</pre>\n"
      ],
      "text/plain": [
       "\u001b[1;34m╭─\u001b[0m\u001b[1;34m──────────────────────────────────────────────────\u001b[0m Tool Call \u001b[1;34m──────────────────────────────────────────────────\u001b[0m\u001b[1;34m─╮\u001b[0m\n",
       "\u001b[1;34m│\u001b[0m\u001b[1;34m \u001b[0m\u001b[1;34m**Step 1**: LLM calls tool \u001b[0m\u001b[1;34msearch_bing_grounding\u001b[0m\u001b[1;34m                                                               \u001b[0m\u001b[1;34m \u001b[0m\u001b[1;34m│\u001b[0m\n",
       "\u001b[1;34m│\u001b[0m\u001b[1;34m \u001b[0m\u001b[1;34m                                                                                                               \u001b[0m\u001b[1;34m \u001b[0m\u001b[1;34m│\u001b[0m\n",
       "\u001b[1;34m│\u001b[0m\u001b[1;34m \u001b[0m\u001b[1;34m**Arguments**:\u001b[0m\u001b[1;34m                                                                                                 \u001b[0m\u001b[1;34m \u001b[0m\u001b[1;34m│\u001b[0m\n",
       "\u001b[1;34m│\u001b[0m\u001b[1;34m \u001b[0m\u001b[1;34m{\u001b[0m\u001b[1;34m                                                                                                              \u001b[0m\u001b[1;34m \u001b[0m\u001b[1;34m│\u001b[0m\n",
       "\u001b[1;34m│\u001b[0m\u001b[1;34m \u001b[0m\u001b[1;34m  \"query\": \"latest FDA approvals Ozempic cardiovascular effects\"\u001b[0m\u001b[1;34m                                               \u001b[0m\u001b[1;34m \u001b[0m\u001b[1;34m│\u001b[0m\n",
       "\u001b[1;34m│\u001b[0m\u001b[1;34m \u001b[0m\u001b[1;34m}\u001b[0m\u001b[1;34m                                                                                                              \u001b[0m\u001b[1;34m \u001b[0m\u001b[1;34m│\u001b[0m\n",
       "\u001b[1;34m╰─────────────────────────────────────────────────────────────────────────────────────────────────────────────────╯\u001b[0m\n"
      ]
     },
     "metadata": {},
     "output_type": "display_data"
    },
    {
     "data": {
      "text/html": [
       "<pre style=\"white-space:pre;overflow-x:auto;line-height:normal;font-family:Menlo,'DejaVu Sans Mono',consolas,'Courier New',monospace\"><span style=\"color: #800080; text-decoration-color: #800080; font-weight: bold\">╭─────────────────────────────────────────────────────────────────────────────────────────────────────────────────╮</span>\n",
       "<span style=\"color: #800080; text-decoration-color: #800080; font-weight: bold\">│ Tool Invoked: Bing Grounding Search                                                                             │</span>\n",
       "<span style=\"color: #800080; text-decoration-color: #800080; font-weight: bold\">│ Query: latest FDA approvals Ozempic cardiovascular effects                                                      │</span>\n",
       "<span style=\"color: #800080; text-decoration-color: #800080; font-weight: bold\">╰─────────────────────────────────────────────────────────────────────────────────────────────────────────────────╯</span>\n",
       "</pre>\n"
      ],
      "text/plain": [
       "\u001b[1;35m╭─────────────────────────────────────────────────────────────────────────────────────────────────────────────────╮\u001b[0m\n",
       "\u001b[1;35m│\u001b[0m\u001b[1;35m \u001b[0m\u001b[1;35mTool Invoked: Bing Grounding Search\u001b[0m\u001b[1;35m                                                                            \u001b[0m\u001b[1;35m \u001b[0m\u001b[1;35m│\u001b[0m\n",
       "\u001b[1;35m│\u001b[0m\u001b[1;35m \u001b[0m\u001b[1;35mQuery: latest FDA approvals Ozempic cardiovascular effects\u001b[0m\u001b[1;35m                                                     \u001b[0m\u001b[1;35m \u001b[0m\u001b[1;35m│\u001b[0m\n",
       "\u001b[1;35m╰─────────────────────────────────────────────────────────────────────────────────────────────────────────────────╯\u001b[0m\n"
      ]
     },
     "metadata": {},
     "output_type": "display_data"
    },
    {
     "data": {
      "text/html": [
       "<pre style=\"white-space:pre;overflow-x:auto;line-height:normal;font-family:Menlo,'DejaVu Sans Mono',consolas,'Courier New',monospace\"><span style=\"color: #000080; text-decoration-color: #000080; font-weight: bold\">╭───────────────────────────────────────────────────</span> Tool Call <span style=\"color: #000080; text-decoration-color: #000080; font-weight: bold\">───────────────────────────────────────────────────╮</span>\n",
       "<span style=\"color: #000080; text-decoration-color: #000080; font-weight: bold\">│ **Step 1**: LLM calls tool search_acc_guidelines                                                                │</span>\n",
       "<span style=\"color: #000080; text-decoration-color: #000080; font-weight: bold\">│                                                                                                                 │</span>\n",
       "<span style=\"color: #000080; text-decoration-color: #000080; font-weight: bold\">│ **Arguments**:                                                                                                  │</span>\n",
       "<span style=\"color: #000080; text-decoration-color: #000080; font-weight: bold\">│ {                                                                                                               │</span>\n",
       "<span style=\"color: #000080; text-decoration-color: #000080; font-weight: bold\">│   \"query\": \"Ozempic cardiovascular disease guidelines\"                                                          │</span>\n",
       "<span style=\"color: #000080; text-decoration-color: #000080; font-weight: bold\">│ }                                                                                                               │</span>\n",
       "<span style=\"color: #000080; text-decoration-color: #000080; font-weight: bold\">╰─────────────────────────────────────────────────────────────────────────────────────────────────────────────────╯</span>\n",
       "</pre>\n"
      ],
      "text/plain": [
       "\u001b[1;34m╭─\u001b[0m\u001b[1;34m──────────────────────────────────────────────────\u001b[0m Tool Call \u001b[1;34m──────────────────────────────────────────────────\u001b[0m\u001b[1;34m─╮\u001b[0m\n",
       "\u001b[1;34m│\u001b[0m\u001b[1;34m \u001b[0m\u001b[1;34m**Step 1**: LLM calls tool \u001b[0m\u001b[1;34msearch_acc_guidelines\u001b[0m\u001b[1;34m                                                               \u001b[0m\u001b[1;34m \u001b[0m\u001b[1;34m│\u001b[0m\n",
       "\u001b[1;34m│\u001b[0m\u001b[1;34m \u001b[0m\u001b[1;34m                                                                                                               \u001b[0m\u001b[1;34m \u001b[0m\u001b[1;34m│\u001b[0m\n",
       "\u001b[1;34m│\u001b[0m\u001b[1;34m \u001b[0m\u001b[1;34m**Arguments**:\u001b[0m\u001b[1;34m                                                                                                 \u001b[0m\u001b[1;34m \u001b[0m\u001b[1;34m│\u001b[0m\n",
       "\u001b[1;34m│\u001b[0m\u001b[1;34m \u001b[0m\u001b[1;34m{\u001b[0m\u001b[1;34m                                                                                                              \u001b[0m\u001b[1;34m \u001b[0m\u001b[1;34m│\u001b[0m\n",
       "\u001b[1;34m│\u001b[0m\u001b[1;34m \u001b[0m\u001b[1;34m  \"query\": \"Ozempic cardiovascular disease guidelines\"\u001b[0m\u001b[1;34m                                                         \u001b[0m\u001b[1;34m \u001b[0m\u001b[1;34m│\u001b[0m\n",
       "\u001b[1;34m│\u001b[0m\u001b[1;34m \u001b[0m\u001b[1;34m}\u001b[0m\u001b[1;34m                                                                                                              \u001b[0m\u001b[1;34m \u001b[0m\u001b[1;34m│\u001b[0m\n",
       "\u001b[1;34m╰─────────────────────────────────────────────────────────────────────────────────────────────────────────────────╯\u001b[0m\n"
      ]
     },
     "metadata": {},
     "output_type": "display_data"
    },
    {
     "data": {
      "text/html": [
       "<pre style=\"white-space:pre;overflow-x:auto;line-height:normal;font-family:Menlo,'DejaVu Sans Mono',consolas,'Courier New',monospace\"><span style=\"color: #808000; text-decoration-color: #808000; font-weight: bold\">╭─────────────────────────────────────────────────────────────────────────────────────────────────────────────────╮</span>\n",
       "<span style=\"color: #808000; text-decoration-color: #808000; font-weight: bold\">│ Tool Invoked: ACC Guidelines Search                                                                             │</span>\n",
       "<span style=\"color: #808000; text-decoration-color: #808000; font-weight: bold\">│ Query: Ozempic cardiovascular disease guidelines                                                                │</span>\n",
       "<span style=\"color: #808000; text-decoration-color: #808000; font-weight: bold\">╰─────────────────────────────────────────────────────────────────────────────────────────────────────────────────╯</span>\n",
       "</pre>\n"
      ],
      "text/plain": [
       "\u001b[1;33m╭─────────────────────────────────────────────────────────────────────────────────────────────────────────────────╮\u001b[0m\n",
       "\u001b[1;33m│\u001b[0m\u001b[1;33m \u001b[0m\u001b[1;33mTool Invoked: ACC Guidelines Search\u001b[0m\u001b[1;33m                                                                            \u001b[0m\u001b[1;33m \u001b[0m\u001b[1;33m│\u001b[0m\n",
       "\u001b[1;33m│\u001b[0m\u001b[1;33m \u001b[0m\u001b[1;33mQuery: Ozempic cardiovascular disease guidelines\u001b[0m\u001b[1;33m                                                               \u001b[0m\u001b[1;33m \u001b[0m\u001b[1;33m│\u001b[0m\n",
       "\u001b[1;33m╰─────────────────────────────────────────────────────────────────────────────────────────────────────────────────╯\u001b[0m\n"
      ]
     },
     "metadata": {},
     "output_type": "display_data"
    },
    {
     "data": {
      "text/html": [
       "<pre style=\"white-space:pre;overflow-x:auto;line-height:normal;font-family:Menlo,'DejaVu Sans Mono',consolas,'Courier New',monospace\"><span style=\"color: #008080; text-decoration-color: #008080; font-weight: bold\">╭──────────────────────────────────────────────────</span> Step Start <span style=\"color: #008080; text-decoration-color: #008080; font-weight: bold\">───────────────────────────────────────────────────╮</span>\n",
       "<span style=\"color: #008080; text-decoration-color: #008080; font-weight: bold\">│ **Step 2**: Starting step 2                                                                                     │</span>\n",
       "<span style=\"color: #008080; text-decoration-color: #008080; font-weight: bold\">╰─────────────────────────────────────────────────────────────────────────────────────────────────────────────────╯</span>\n",
       "</pre>\n"
      ],
      "text/plain": [
       "\u001b[1;36m╭─\u001b[0m\u001b[1;36m─────────────────────────────────────────────────\u001b[0m Step Start \u001b[1;36m──────────────────────────────────────────────────\u001b[0m\u001b[1;36m─╮\u001b[0m\n",
       "\u001b[1;36m│\u001b[0m\u001b[1;36m \u001b[0m\u001b[1;36m**Step 2**: Starting step 2\u001b[0m\u001b[1;36m                                                                                    \u001b[0m\u001b[1;36m \u001b[0m\u001b[1;36m│\u001b[0m\n",
       "\u001b[1;36m╰─────────────────────────────────────────────────────────────────────────────────────────────────────────────────╯\u001b[0m\n"
      ]
     },
     "metadata": {},
     "output_type": "display_data"
    },
    {
     "data": {
      "text/html": [
       "<pre style=\"white-space:pre;overflow-x:auto;line-height:normal;font-family:Menlo,'DejaVu Sans Mono',consolas,'Courier New',monospace\"><span style=\"color: #808000; text-decoration-color: #808000; font-weight: bold\">╭─────────────────────────────────────────────────</span><span style=\"color: #808000; text-decoration-color: #808000\"> Final Answer </span><span style=\"color: #808000; text-decoration-color: #808000; font-weight: bold\">──────────────────────────────────────────────────╮</span>\n",
       "<span style=\"color: #808000; text-decoration-color: #808000; font-weight: bold\">│</span><span style=\"color: #008000; text-decoration-color: #008000; font-weight: bold\"> The search for the latest FDA approvals and specific clinical trial facts regarding Ozempic (semaglutide)       </span><span style=\"color: #808000; text-decoration-color: #808000; font-weight: bold\">│</span>\n",
       "<span style=\"color: #808000; text-decoration-color: #808000; font-weight: bold\">│</span><span style=\"color: #008000; text-decoration-color: #008000; font-weight: bold\"> related to cardiovascular diseases yielded no new results. Additionally, there were no specific guidelines from </span><span style=\"color: #808000; text-decoration-color: #808000; font-weight: bold\">│</span>\n",
       "<span style=\"color: #808000; text-decoration-color: #808000; font-weight: bold\">│</span><span style=\"color: #008000; text-decoration-color: #008000; font-weight: bold\"> the American College of Cardiology (ACC) that directly mentioned Ozempic in relation to cardiovascular disease. </span><span style=\"color: #808000; text-decoration-color: #808000; font-weight: bold\">│</span>\n",
       "<span style=\"color: #808000; text-decoration-color: #808000; font-weight: bold\">│</span><span style=\"color: #008000; text-decoration-color: #008000; font-weight: bold\">                                                                                                                 </span><span style=\"color: #808000; text-decoration-color: #808000; font-weight: bold\">│</span>\n",
       "<span style=\"color: #808000; text-decoration-color: #808000; font-weight: bold\">│</span><span style=\"color: #008000; text-decoration-color: #008000; font-weight: bold\"> However, it is known that Ozempic is a GLP-1 receptor agonist primarily used for the management of type 2       </span><span style=\"color: #808000; text-decoration-color: #808000; font-weight: bold\">│</span>\n",
       "<span style=\"color: #808000; text-decoration-color: #808000; font-weight: bold\">│</span><span style=\"color: #008000; text-decoration-color: #008000; font-weight: bold\"> diabetes. Clinical studies, such as the SUSTAIN trials, have indicated cardiovascular benefits associated with  </span><span style=\"color: #808000; text-decoration-color: #808000; font-weight: bold\">│</span>\n",
       "<span style=\"color: #808000; text-decoration-color: #808000; font-weight: bold\">│</span><span style=\"color: #008000; text-decoration-color: #008000; font-weight: bold\"> this medication. These trials suggested that Ozempic may help reduce the risk of major adverse cardiovascular   </span><span style=\"color: #808000; text-decoration-color: #808000; font-weight: bold\">│</span>\n",
       "<span style=\"color: #808000; text-decoration-color: #808000; font-weight: bold\">│</span><span style=\"color: #008000; text-decoration-color: #008000; font-weight: bold\"> events in patients with cardiovascular disease and type 2 diabetes.                                             </span><span style=\"color: #808000; text-decoration-color: #808000; font-weight: bold\">│</span>\n",
       "<span style=\"color: #808000; text-decoration-color: #808000; font-weight: bold\">│</span><span style=\"color: #008000; text-decoration-color: #008000; font-weight: bold\">                                                                                                                 </span><span style=\"color: #808000; text-decoration-color: #808000; font-weight: bold\">│</span>\n",
       "<span style=\"color: #808000; text-decoration-color: #808000; font-weight: bold\">│</span><span style=\"color: #008000; text-decoration-color: #008000; font-weight: bold\"> If you're looking for more tailored or acute guidance, monitoring outlets such as official FDA announcements or </span><span style=\"color: #808000; text-decoration-color: #808000; font-weight: bold\">│</span>\n",
       "<span style=\"color: #808000; text-decoration-color: #808000; font-weight: bold\">│</span><span style=\"color: #008000; text-decoration-color: #008000; font-weight: bold\"> new clinical trial publications related to Ozempic may provide updated insights over time.                      </span><span style=\"color: #808000; text-decoration-color: #808000; font-weight: bold\">│</span>\n",
       "<span style=\"color: #808000; text-decoration-color: #808000; font-weight: bold\">╰─────────────────────────────────────────────────────────────────────────────────────────────────────────────────╯</span>\n",
       "</pre>\n"
      ],
      "text/plain": [
       "\u001b[1;33m╭─\u001b[0m\u001b[1;33m────────────────────────────────────────────────\u001b[0m\u001b[33m Final Answer \u001b[0m\u001b[1;33m─────────────────────────────────────────────────\u001b[0m\u001b[1;33m─╮\u001b[0m\n",
       "\u001b[1;33m│\u001b[0m\u001b[1;32m \u001b[0m\u001b[1;32mThe search for the latest FDA approvals and specific clinical trial facts regarding Ozempic (semaglutide) \u001b[0m\u001b[1;32m     \u001b[0m\u001b[1;32m \u001b[0m\u001b[1;33m│\u001b[0m\n",
       "\u001b[1;33m│\u001b[0m\u001b[1;32m \u001b[0m\u001b[1;32mrelated to cardiovascular diseases yielded no new results. Additionally, there were no specific guidelines from\u001b[0m\u001b[1;32m \u001b[0m\u001b[1;33m│\u001b[0m\n",
       "\u001b[1;33m│\u001b[0m\u001b[1;32m \u001b[0m\u001b[1;32mthe American College of Cardiology (ACC) that directly mentioned Ozempic in relation to cardiovascular disease.\u001b[0m\u001b[1;32m \u001b[0m\u001b[1;33m│\u001b[0m\n",
       "\u001b[1;33m│\u001b[0m\u001b[1;32m \u001b[0m\u001b[1;32m                                                                                                               \u001b[0m\u001b[1;32m \u001b[0m\u001b[1;33m│\u001b[0m\n",
       "\u001b[1;33m│\u001b[0m\u001b[1;32m \u001b[0m\u001b[1;32mHowever, it is known that Ozempic is a GLP-1 receptor agonist primarily used for the management of type 2 \u001b[0m\u001b[1;32m     \u001b[0m\u001b[1;32m \u001b[0m\u001b[1;33m│\u001b[0m\n",
       "\u001b[1;33m│\u001b[0m\u001b[1;32m \u001b[0m\u001b[1;32mdiabetes. Clinical studies, such as the SUSTAIN trials, have indicated cardiovascular benefits associated with \u001b[0m\u001b[1;32m \u001b[0m\u001b[1;33m│\u001b[0m\n",
       "\u001b[1;33m│\u001b[0m\u001b[1;32m \u001b[0m\u001b[1;32mthis medication. These trials suggested that Ozempic may help reduce the risk of major adverse cardiovascular \u001b[0m\u001b[1;32m \u001b[0m\u001b[1;32m \u001b[0m\u001b[1;33m│\u001b[0m\n",
       "\u001b[1;33m│\u001b[0m\u001b[1;32m \u001b[0m\u001b[1;32mevents in patients with cardiovascular disease and type 2 diabetes.\u001b[0m\u001b[1;32m                                            \u001b[0m\u001b[1;32m \u001b[0m\u001b[1;33m│\u001b[0m\n",
       "\u001b[1;33m│\u001b[0m\u001b[1;32m \u001b[0m\u001b[1;32m                                                                                                               \u001b[0m\u001b[1;32m \u001b[0m\u001b[1;33m│\u001b[0m\n",
       "\u001b[1;33m│\u001b[0m\u001b[1;32m \u001b[0m\u001b[1;32mIf you're looking for more tailored or acute guidance, monitoring outlets such as official FDA announcements or\u001b[0m\u001b[1;32m \u001b[0m\u001b[1;33m│\u001b[0m\n",
       "\u001b[1;33m│\u001b[0m\u001b[1;32m \u001b[0m\u001b[1;32mnew clinical trial publications related to Ozempic may provide updated insights over time.\u001b[0m\u001b[1;32m                     \u001b[0m\u001b[1;32m \u001b[0m\u001b[1;33m│\u001b[0m\n",
       "\u001b[1;33m╰─────────────────────────────────────────────────────────────────────────────────────────────────────────────────╯\u001b[0m\n"
      ]
     },
     "metadata": {},
     "output_type": "display_data"
    }
   ],
   "source": [
    "user_question_2 = \"Any latest FDA approvals or clinical trial facts related to Ozempic and how it impacts cardiovascular diseases?\"\n",
    "run_multi_step_agent(user_question_2)\n"
   ]
  },
  {
   "cell_type": "code",
   "execution_count": 58,
   "metadata": {},
   "outputs": [
    {
     "data": {
      "text/html": [
       "<pre style=\"white-space:pre;overflow-x:auto;line-height:normal;font-family:Menlo,'DejaVu Sans Mono',consolas,'Courier New',monospace\"><span style=\"color: #008080; text-decoration-color: #008080; font-weight: bold\">╭──────────────────────────────────────────────────</span> Step Start <span style=\"color: #008080; text-decoration-color: #008080; font-weight: bold\">───────────────────────────────────────────────────╮</span>\n",
       "<span style=\"color: #008080; text-decoration-color: #008080; font-weight: bold\">│ **Step 1**: Starting step 1                                                                                     │</span>\n",
       "<span style=\"color: #008080; text-decoration-color: #008080; font-weight: bold\">╰─────────────────────────────────────────────────────────────────────────────────────────────────────────────────╯</span>\n",
       "</pre>\n"
      ],
      "text/plain": [
       "\u001b[1;36m╭─\u001b[0m\u001b[1;36m─────────────────────────────────────────────────\u001b[0m Step Start \u001b[1;36m──────────────────────────────────────────────────\u001b[0m\u001b[1;36m─╮\u001b[0m\n",
       "\u001b[1;36m│\u001b[0m\u001b[1;36m \u001b[0m\u001b[1;36m**Step 1**: Starting step 1\u001b[0m\u001b[1;36m                                                                                    \u001b[0m\u001b[1;36m \u001b[0m\u001b[1;36m│\u001b[0m\n",
       "\u001b[1;36m╰─────────────────────────────────────────────────────────────────────────────────────────────────────────────────╯\u001b[0m\n"
      ]
     },
     "metadata": {},
     "output_type": "display_data"
    },
    {
     "data": {
      "text/html": [
       "<pre style=\"white-space:pre;overflow-x:auto;line-height:normal;font-family:Menlo,'DejaVu Sans Mono',consolas,'Courier New',monospace\"><span style=\"color: #000080; text-decoration-color: #000080; font-weight: bold\">╭───────────────────────────────────────────────────</span> Tool Call <span style=\"color: #000080; text-decoration-color: #000080; font-weight: bold\">───────────────────────────────────────────────────╮</span>\n",
       "<span style=\"color: #000080; text-decoration-color: #000080; font-weight: bold\">│ **Step 1**: LLM calls tool lookup_patient_data                                                                  │</span>\n",
       "<span style=\"color: #000080; text-decoration-color: #000080; font-weight: bold\">│                                                                                                                 │</span>\n",
       "<span style=\"color: #000080; text-decoration-color: #000080; font-weight: bold\">│ **Arguments**:                                                                                                  │</span>\n",
       "<span style=\"color: #000080; text-decoration-color: #000080; font-weight: bold\">│ {                                                                                                               │</span>\n",
       "<span style=\"color: #000080; text-decoration-color: #000080; font-weight: bold\">│   \"query\": \"SELECT COUNT(*) AS PatientCount FROM PatientMedicalData WHERE MedicalCondition LIKE                 │</span>\n",
       "<span style=\"color: #000080; text-decoration-color: #000080; font-weight: bold\">│ '%Hypertension%' AND Medications LIKE '%Lisinopril%'\"                                                           │</span>\n",
       "<span style=\"color: #000080; text-decoration-color: #000080; font-weight: bold\">│ }                                                                                                               │</span>\n",
       "<span style=\"color: #000080; text-decoration-color: #000080; font-weight: bold\">╰─────────────────────────────────────────────────────────────────────────────────────────────────────────────────╯</span>\n",
       "</pre>\n"
      ],
      "text/plain": [
       "\u001b[1;34m╭─\u001b[0m\u001b[1;34m──────────────────────────────────────────────────\u001b[0m Tool Call \u001b[1;34m──────────────────────────────────────────────────\u001b[0m\u001b[1;34m─╮\u001b[0m\n",
       "\u001b[1;34m│\u001b[0m\u001b[1;34m \u001b[0m\u001b[1;34m**Step 1**: LLM calls tool \u001b[0m\u001b[1;34mlookup_patient_data\u001b[0m\u001b[1;34m                                                                 \u001b[0m\u001b[1;34m \u001b[0m\u001b[1;34m│\u001b[0m\n",
       "\u001b[1;34m│\u001b[0m\u001b[1;34m \u001b[0m\u001b[1;34m                                                                                                               \u001b[0m\u001b[1;34m \u001b[0m\u001b[1;34m│\u001b[0m\n",
       "\u001b[1;34m│\u001b[0m\u001b[1;34m \u001b[0m\u001b[1;34m**Arguments**:\u001b[0m\u001b[1;34m                                                                                                 \u001b[0m\u001b[1;34m \u001b[0m\u001b[1;34m│\u001b[0m\n",
       "\u001b[1;34m│\u001b[0m\u001b[1;34m \u001b[0m\u001b[1;34m{\u001b[0m\u001b[1;34m                                                                                                              \u001b[0m\u001b[1;34m \u001b[0m\u001b[1;34m│\u001b[0m\n",
       "\u001b[1;34m│\u001b[0m\u001b[1;34m \u001b[0m\u001b[1;34m  \"query\": \"SELECT COUNT(*) AS PatientCount FROM PatientMedicalData WHERE MedicalCondition LIKE \u001b[0m\u001b[1;34m               \u001b[0m\u001b[1;34m \u001b[0m\u001b[1;34m│\u001b[0m\n",
       "\u001b[1;34m│\u001b[0m\u001b[1;34m \u001b[0m\u001b[1;34m'%Hypertension%' AND Medications LIKE '%Lisinopril%'\"\u001b[0m\u001b[1;34m                                                          \u001b[0m\u001b[1;34m \u001b[0m\u001b[1;34m│\u001b[0m\n",
       "\u001b[1;34m│\u001b[0m\u001b[1;34m \u001b[0m\u001b[1;34m}\u001b[0m\u001b[1;34m                                                                                                              \u001b[0m\u001b[1;34m \u001b[0m\u001b[1;34m│\u001b[0m\n",
       "\u001b[1;34m╰─────────────────────────────────────────────────────────────────────────────────────────────────────────────────╯\u001b[0m\n"
      ]
     },
     "metadata": {},
     "output_type": "display_data"
    },
    {
     "data": {
      "text/html": [
       "<pre style=\"white-space:pre;overflow-x:auto;line-height:normal;font-family:Menlo,'DejaVu Sans Mono',consolas,'Courier New',monospace\"><span style=\"color: #008080; text-decoration-color: #008080; font-weight: bold\">╭──────────────────────────────────────────────────</span> Step Start <span style=\"color: #008080; text-decoration-color: #008080; font-weight: bold\">───────────────────────────────────────────────────╮</span>\n",
       "<span style=\"color: #008080; text-decoration-color: #008080; font-weight: bold\">│ **Step 2**: Starting step 2                                                                                     │</span>\n",
       "<span style=\"color: #008080; text-decoration-color: #008080; font-weight: bold\">╰─────────────────────────────────────────────────────────────────────────────────────────────────────────────────╯</span>\n",
       "</pre>\n"
      ],
      "text/plain": [
       "\u001b[1;36m╭─\u001b[0m\u001b[1;36m─────────────────────────────────────────────────\u001b[0m Step Start \u001b[1;36m──────────────────────────────────────────────────\u001b[0m\u001b[1;36m─╮\u001b[0m\n",
       "\u001b[1;36m│\u001b[0m\u001b[1;36m \u001b[0m\u001b[1;36m**Step 2**: Starting step 2\u001b[0m\u001b[1;36m                                                                                    \u001b[0m\u001b[1;36m \u001b[0m\u001b[1;36m│\u001b[0m\n",
       "\u001b[1;36m╰─────────────────────────────────────────────────────────────────────────────────────────────────────────────────╯\u001b[0m\n"
      ]
     },
     "metadata": {},
     "output_type": "display_data"
    },
    {
     "data": {
      "text/html": [
       "<pre style=\"white-space:pre;overflow-x:auto;line-height:normal;font-family:Menlo,'DejaVu Sans Mono',consolas,'Courier New',monospace\"><span style=\"color: #808000; text-decoration-color: #808000; font-weight: bold\">╭─────────────────────────────────────────────────</span><span style=\"color: #808000; text-decoration-color: #808000\"> Final Answer </span><span style=\"color: #808000; text-decoration-color: #808000; font-weight: bold\">──────────────────────────────────────────────────╮</span>\n",
       "<span style=\"color: #808000; text-decoration-color: #808000; font-weight: bold\">│</span><span style=\"color: #008000; text-decoration-color: #008000; font-weight: bold\"> There are 1,071 patients who have Hypertension and are prescribed Lisinopril.                                   </span><span style=\"color: #808000; text-decoration-color: #808000; font-weight: bold\">│</span>\n",
       "<span style=\"color: #808000; text-decoration-color: #808000; font-weight: bold\">╰─────────────────────────────────────────────────────────────────────────────────────────────────────────────────╯</span>\n",
       "</pre>\n"
      ],
      "text/plain": [
       "\u001b[1;33m╭─\u001b[0m\u001b[1;33m────────────────────────────────────────────────\u001b[0m\u001b[33m Final Answer \u001b[0m\u001b[1;33m─────────────────────────────────────────────────\u001b[0m\u001b[1;33m─╮\u001b[0m\n",
       "\u001b[1;33m│\u001b[0m\u001b[1;32m \u001b[0m\u001b[1;32mThere are 1,071 patients who have Hypertension and are prescribed Lisinopril.\u001b[0m\u001b[1;32m                                  \u001b[0m\u001b[1;32m \u001b[0m\u001b[1;33m│\u001b[0m\n",
       "\u001b[1;33m╰─────────────────────────────────────────────────────────────────────────────────────────────────────────────────╯\u001b[0m\n"
      ]
     },
     "metadata": {},
     "output_type": "display_data"
    }
   ],
   "source": [
    "user_question_3 = \"How many patients have Hypertension and are prescribed Lisinopril?\"\n",
    "# The agent should generate a valid SQL query\n",
    "## Note, the answer will depend on the actual data in the database (it should return 1071!)\n",
    "run_multi_step_agent(user_question_3)\n"
   ]
  },
  {
   "cell_type": "code",
   "execution_count": 59,
   "metadata": {},
   "outputs": [
    {
     "data": {
      "text/html": [
       "<pre style=\"white-space:pre;overflow-x:auto;line-height:normal;font-family:Menlo,'DejaVu Sans Mono',consolas,'Courier New',monospace\"><span style=\"color: #008080; text-decoration-color: #008080; font-weight: bold\">╭──────────────────────────────────────────────────</span> Step Start <span style=\"color: #008080; text-decoration-color: #008080; font-weight: bold\">───────────────────────────────────────────────────╮</span>\n",
       "<span style=\"color: #008080; text-decoration-color: #008080; font-weight: bold\">│ **Step 1**: Starting step 1                                                                                     │</span>\n",
       "<span style=\"color: #008080; text-decoration-color: #008080; font-weight: bold\">╰─────────────────────────────────────────────────────────────────────────────────────────────────────────────────╯</span>\n",
       "</pre>\n"
      ],
      "text/plain": [
       "\u001b[1;36m╭─\u001b[0m\u001b[1;36m─────────────────────────────────────────────────\u001b[0m Step Start \u001b[1;36m──────────────────────────────────────────────────\u001b[0m\u001b[1;36m─╮\u001b[0m\n",
       "\u001b[1;36m│\u001b[0m\u001b[1;36m \u001b[0m\u001b[1;36m**Step 1**: Starting step 1\u001b[0m\u001b[1;36m                                                                                    \u001b[0m\u001b[1;36m \u001b[0m\u001b[1;36m│\u001b[0m\n",
       "\u001b[1;36m╰─────────────────────────────────────────────────────────────────────────────────────────────────────────────────╯\u001b[0m\n"
      ]
     },
     "metadata": {},
     "output_type": "display_data"
    },
    {
     "data": {
      "text/html": [
       "<pre style=\"white-space:pre;overflow-x:auto;line-height:normal;font-family:Menlo,'DejaVu Sans Mono',consolas,'Courier New',monospace\"><span style=\"color: #000080; text-decoration-color: #000080; font-weight: bold\">╭───────────────────────────────────────────────────</span> Tool Call <span style=\"color: #000080; text-decoration-color: #000080; font-weight: bold\">───────────────────────────────────────────────────╮</span>\n",
       "<span style=\"color: #000080; text-decoration-color: #000080; font-weight: bold\">│ **Step 1**: LLM calls tool lookup_patient_data                                                                  │</span>\n",
       "<span style=\"color: #000080; text-decoration-color: #000080; font-weight: bold\">│                                                                                                                 │</span>\n",
       "<span style=\"color: #000080; text-decoration-color: #000080; font-weight: bold\">│ **Arguments**:                                                                                                  │</span>\n",
       "<span style=\"color: #000080; text-decoration-color: #000080; font-weight: bold\">│ {                                                                                                               │</span>\n",
       "<span style=\"color: #000080; text-decoration-color: #000080; font-weight: bold\">│   \"query\": \"SELECT * FROM PatientMedicalData WHERE FirstName = 'Gloria' AND LastName = 'Paul'\"                  │</span>\n",
       "<span style=\"color: #000080; text-decoration-color: #000080; font-weight: bold\">│ }                                                                                                               │</span>\n",
       "<span style=\"color: #000080; text-decoration-color: #000080; font-weight: bold\">╰─────────────────────────────────────────────────────────────────────────────────────────────────────────────────╯</span>\n",
       "</pre>\n"
      ],
      "text/plain": [
       "\u001b[1;34m╭─\u001b[0m\u001b[1;34m──────────────────────────────────────────────────\u001b[0m Tool Call \u001b[1;34m──────────────────────────────────────────────────\u001b[0m\u001b[1;34m─╮\u001b[0m\n",
       "\u001b[1;34m│\u001b[0m\u001b[1;34m \u001b[0m\u001b[1;34m**Step 1**: LLM calls tool \u001b[0m\u001b[1;34mlookup_patient_data\u001b[0m\u001b[1;34m                                                                 \u001b[0m\u001b[1;34m \u001b[0m\u001b[1;34m│\u001b[0m\n",
       "\u001b[1;34m│\u001b[0m\u001b[1;34m \u001b[0m\u001b[1;34m                                                                                                               \u001b[0m\u001b[1;34m \u001b[0m\u001b[1;34m│\u001b[0m\n",
       "\u001b[1;34m│\u001b[0m\u001b[1;34m \u001b[0m\u001b[1;34m**Arguments**:\u001b[0m\u001b[1;34m                                                                                                 \u001b[0m\u001b[1;34m \u001b[0m\u001b[1;34m│\u001b[0m\n",
       "\u001b[1;34m│\u001b[0m\u001b[1;34m \u001b[0m\u001b[1;34m{\u001b[0m\u001b[1;34m                                                                                                              \u001b[0m\u001b[1;34m \u001b[0m\u001b[1;34m│\u001b[0m\n",
       "\u001b[1;34m│\u001b[0m\u001b[1;34m \u001b[0m\u001b[1;34m  \"query\": \"SELECT * FROM PatientMedicalData WHERE FirstName = 'Gloria' AND LastName = 'Paul'\"\u001b[0m\u001b[1;34m                 \u001b[0m\u001b[1;34m \u001b[0m\u001b[1;34m│\u001b[0m\n",
       "\u001b[1;34m│\u001b[0m\u001b[1;34m \u001b[0m\u001b[1;34m}\u001b[0m\u001b[1;34m                                                                                                              \u001b[0m\u001b[1;34m \u001b[0m\u001b[1;34m│\u001b[0m\n",
       "\u001b[1;34m╰─────────────────────────────────────────────────────────────────────────────────────────────────────────────────╯\u001b[0m\n"
      ]
     },
     "metadata": {},
     "output_type": "display_data"
    },
    {
     "data": {
      "text/html": [
       "<pre style=\"white-space:pre;overflow-x:auto;line-height:normal;font-family:Menlo,'DejaVu Sans Mono',consolas,'Courier New',monospace\"><span style=\"color: #000080; text-decoration-color: #000080; font-weight: bold\">╭───────────────────────────────────────────────────</span> Tool Call <span style=\"color: #000080; text-decoration-color: #000080; font-weight: bold\">───────────────────────────────────────────────────╮</span>\n",
       "<span style=\"color: #000080; text-decoration-color: #000080; font-weight: bold\">│ **Step 1**: LLM calls tool search_acc_guidelines                                                                │</span>\n",
       "<span style=\"color: #000080; text-decoration-color: #000080; font-weight: bold\">│                                                                                                                 │</span>\n",
       "<span style=\"color: #000080; text-decoration-color: #000080; font-weight: bold\">│ **Arguments**:                                                                                                  │</span>\n",
       "<span style=\"color: #000080; text-decoration-color: #000080; font-weight: bold\">│ {                                                                                                               │</span>\n",
       "<span style=\"color: #000080; text-decoration-color: #000080; font-weight: bold\">│   \"query\": \"hyperlipidemia guidelines\"                                                                          │</span>\n",
       "<span style=\"color: #000080; text-decoration-color: #000080; font-weight: bold\">│ }                                                                                                               │</span>\n",
       "<span style=\"color: #000080; text-decoration-color: #000080; font-weight: bold\">╰─────────────────────────────────────────────────────────────────────────────────────────────────────────────────╯</span>\n",
       "</pre>\n"
      ],
      "text/plain": [
       "\u001b[1;34m╭─\u001b[0m\u001b[1;34m──────────────────────────────────────────────────\u001b[0m Tool Call \u001b[1;34m──────────────────────────────────────────────────\u001b[0m\u001b[1;34m─╮\u001b[0m\n",
       "\u001b[1;34m│\u001b[0m\u001b[1;34m \u001b[0m\u001b[1;34m**Step 1**: LLM calls tool \u001b[0m\u001b[1;34msearch_acc_guidelines\u001b[0m\u001b[1;34m                                                               \u001b[0m\u001b[1;34m \u001b[0m\u001b[1;34m│\u001b[0m\n",
       "\u001b[1;34m│\u001b[0m\u001b[1;34m \u001b[0m\u001b[1;34m                                                                                                               \u001b[0m\u001b[1;34m \u001b[0m\u001b[1;34m│\u001b[0m\n",
       "\u001b[1;34m│\u001b[0m\u001b[1;34m \u001b[0m\u001b[1;34m**Arguments**:\u001b[0m\u001b[1;34m                                                                                                 \u001b[0m\u001b[1;34m \u001b[0m\u001b[1;34m│\u001b[0m\n",
       "\u001b[1;34m│\u001b[0m\u001b[1;34m \u001b[0m\u001b[1;34m{\u001b[0m\u001b[1;34m                                                                                                              \u001b[0m\u001b[1;34m \u001b[0m\u001b[1;34m│\u001b[0m\n",
       "\u001b[1;34m│\u001b[0m\u001b[1;34m \u001b[0m\u001b[1;34m  \"query\": \"hyperlipidemia guidelines\"\u001b[0m\u001b[1;34m                                                                         \u001b[0m\u001b[1;34m \u001b[0m\u001b[1;34m│\u001b[0m\n",
       "\u001b[1;34m│\u001b[0m\u001b[1;34m \u001b[0m\u001b[1;34m}\u001b[0m\u001b[1;34m                                                                                                              \u001b[0m\u001b[1;34m \u001b[0m\u001b[1;34m│\u001b[0m\n",
       "\u001b[1;34m╰─────────────────────────────────────────────────────────────────────────────────────────────────────────────────╯\u001b[0m\n"
      ]
     },
     "metadata": {},
     "output_type": "display_data"
    },
    {
     "data": {
      "text/html": [
       "<pre style=\"white-space:pre;overflow-x:auto;line-height:normal;font-family:Menlo,'DejaVu Sans Mono',consolas,'Courier New',monospace\"><span style=\"color: #808000; text-decoration-color: #808000; font-weight: bold\">╭─────────────────────────────────────────────────────────────────────────────────────────────────────────────────╮</span>\n",
       "<span style=\"color: #808000; text-decoration-color: #808000; font-weight: bold\">│ Tool Invoked: ACC Guidelines Search                                                                             │</span>\n",
       "<span style=\"color: #808000; text-decoration-color: #808000; font-weight: bold\">│ Query: hyperlipidemia guidelines                                                                                │</span>\n",
       "<span style=\"color: #808000; text-decoration-color: #808000; font-weight: bold\">╰─────────────────────────────────────────────────────────────────────────────────────────────────────────────────╯</span>\n",
       "</pre>\n"
      ],
      "text/plain": [
       "\u001b[1;33m╭─────────────────────────────────────────────────────────────────────────────────────────────────────────────────╮\u001b[0m\n",
       "\u001b[1;33m│\u001b[0m\u001b[1;33m \u001b[0m\u001b[1;33mTool Invoked: ACC Guidelines Search\u001b[0m\u001b[1;33m                                                                            \u001b[0m\u001b[1;33m \u001b[0m\u001b[1;33m│\u001b[0m\n",
       "\u001b[1;33m│\u001b[0m\u001b[1;33m \u001b[0m\u001b[1;33mQuery: hyperlipidemia guidelines\u001b[0m\u001b[1;33m                                                                               \u001b[0m\u001b[1;33m \u001b[0m\u001b[1;33m│\u001b[0m\n",
       "\u001b[1;33m╰─────────────────────────────────────────────────────────────────────────────────────────────────────────────────╯\u001b[0m\n"
      ]
     },
     "metadata": {},
     "output_type": "display_data"
    },
    {
     "data": {
      "text/html": [
       "<pre style=\"white-space:pre;overflow-x:auto;line-height:normal;font-family:Menlo,'DejaVu Sans Mono',consolas,'Courier New',monospace\"><span style=\"color: #000080; text-decoration-color: #000080; font-weight: bold\">╭───────────────────────────────────────────────────</span> Tool Call <span style=\"color: #000080; text-decoration-color: #000080; font-weight: bold\">───────────────────────────────────────────────────╮</span>\n",
       "<span style=\"color: #000080; text-decoration-color: #000080; font-weight: bold\">│ **Step 1**: LLM calls tool search_bing_grounding                                                                │</span>\n",
       "<span style=\"color: #000080; text-decoration-color: #000080; font-weight: bold\">│                                                                                                                 │</span>\n",
       "<span style=\"color: #000080; text-decoration-color: #000080; font-weight: bold\">│ **Arguments**:                                                                                                  │</span>\n",
       "<span style=\"color: #000080; text-decoration-color: #000080; font-weight: bold\">│ {                                                                                                               │</span>\n",
       "<span style=\"color: #000080; text-decoration-color: #000080; font-weight: bold\">│   \"query\": \"FDA new hyperlipidemia drugs February 2025\"                                                         │</span>\n",
       "<span style=\"color: #000080; text-decoration-color: #000080; font-weight: bold\">│ }                                                                                                               │</span>\n",
       "<span style=\"color: #000080; text-decoration-color: #000080; font-weight: bold\">╰─────────────────────────────────────────────────────────────────────────────────────────────────────────────────╯</span>\n",
       "</pre>\n"
      ],
      "text/plain": [
       "\u001b[1;34m╭─\u001b[0m\u001b[1;34m──────────────────────────────────────────────────\u001b[0m Tool Call \u001b[1;34m──────────────────────────────────────────────────\u001b[0m\u001b[1;34m─╮\u001b[0m\n",
       "\u001b[1;34m│\u001b[0m\u001b[1;34m \u001b[0m\u001b[1;34m**Step 1**: LLM calls tool \u001b[0m\u001b[1;34msearch_bing_grounding\u001b[0m\u001b[1;34m                                                               \u001b[0m\u001b[1;34m \u001b[0m\u001b[1;34m│\u001b[0m\n",
       "\u001b[1;34m│\u001b[0m\u001b[1;34m \u001b[0m\u001b[1;34m                                                                                                               \u001b[0m\u001b[1;34m \u001b[0m\u001b[1;34m│\u001b[0m\n",
       "\u001b[1;34m│\u001b[0m\u001b[1;34m \u001b[0m\u001b[1;34m**Arguments**:\u001b[0m\u001b[1;34m                                                                                                 \u001b[0m\u001b[1;34m \u001b[0m\u001b[1;34m│\u001b[0m\n",
       "\u001b[1;34m│\u001b[0m\u001b[1;34m \u001b[0m\u001b[1;34m{\u001b[0m\u001b[1;34m                                                                                                              \u001b[0m\u001b[1;34m \u001b[0m\u001b[1;34m│\u001b[0m\n",
       "\u001b[1;34m│\u001b[0m\u001b[1;34m \u001b[0m\u001b[1;34m  \"query\": \"FDA new hyperlipidemia drugs February 2025\"\u001b[0m\u001b[1;34m                                                        \u001b[0m\u001b[1;34m \u001b[0m\u001b[1;34m│\u001b[0m\n",
       "\u001b[1;34m│\u001b[0m\u001b[1;34m \u001b[0m\u001b[1;34m}\u001b[0m\u001b[1;34m                                                                                                              \u001b[0m\u001b[1;34m \u001b[0m\u001b[1;34m│\u001b[0m\n",
       "\u001b[1;34m╰─────────────────────────────────────────────────────────────────────────────────────────────────────────────────╯\u001b[0m\n"
      ]
     },
     "metadata": {},
     "output_type": "display_data"
    },
    {
     "data": {
      "text/html": [
       "<pre style=\"white-space:pre;overflow-x:auto;line-height:normal;font-family:Menlo,'DejaVu Sans Mono',consolas,'Courier New',monospace\"><span style=\"color: #800080; text-decoration-color: #800080; font-weight: bold\">╭─────────────────────────────────────────────────────────────────────────────────────────────────────────────────╮</span>\n",
       "<span style=\"color: #800080; text-decoration-color: #800080; font-weight: bold\">│ Tool Invoked: Bing Grounding Search                                                                             │</span>\n",
       "<span style=\"color: #800080; text-decoration-color: #800080; font-weight: bold\">│ Query: FDA new hyperlipidemia drugs February 2025                                                               │</span>\n",
       "<span style=\"color: #800080; text-decoration-color: #800080; font-weight: bold\">╰─────────────────────────────────────────────────────────────────────────────────────────────────────────────────╯</span>\n",
       "</pre>\n"
      ],
      "text/plain": [
       "\u001b[1;35m╭─────────────────────────────────────────────────────────────────────────────────────────────────────────────────╮\u001b[0m\n",
       "\u001b[1;35m│\u001b[0m\u001b[1;35m \u001b[0m\u001b[1;35mTool Invoked: Bing Grounding Search\u001b[0m\u001b[1;35m                                                                            \u001b[0m\u001b[1;35m \u001b[0m\u001b[1;35m│\u001b[0m\n",
       "\u001b[1;35m│\u001b[0m\u001b[1;35m \u001b[0m\u001b[1;35mQuery: FDA new hyperlipidemia drugs February 2025\u001b[0m\u001b[1;35m                                                              \u001b[0m\u001b[1;35m \u001b[0m\u001b[1;35m│\u001b[0m\n",
       "\u001b[1;35m╰─────────────────────────────────────────────────────────────────────────────────────────────────────────────────╯\u001b[0m\n"
      ]
     },
     "metadata": {},
     "output_type": "display_data"
    },
    {
     "data": {
      "text/html": [
       "<pre style=\"white-space:pre;overflow-x:auto;line-height:normal;font-family:Menlo,'DejaVu Sans Mono',consolas,'Courier New',monospace\"><span style=\"color: #008080; text-decoration-color: #008080; font-weight: bold\">╭──────────────────────────────────────────────────</span> Step Start <span style=\"color: #008080; text-decoration-color: #008080; font-weight: bold\">───────────────────────────────────────────────────╮</span>\n",
       "<span style=\"color: #008080; text-decoration-color: #008080; font-weight: bold\">│ **Step 2**: Starting step 2                                                                                     │</span>\n",
       "<span style=\"color: #008080; text-decoration-color: #008080; font-weight: bold\">╰─────────────────────────────────────────────────────────────────────────────────────────────────────────────────╯</span>\n",
       "</pre>\n"
      ],
      "text/plain": [
       "\u001b[1;36m╭─\u001b[0m\u001b[1;36m─────────────────────────────────────────────────\u001b[0m Step Start \u001b[1;36m──────────────────────────────────────────────────\u001b[0m\u001b[1;36m─╮\u001b[0m\n",
       "\u001b[1;36m│\u001b[0m\u001b[1;36m \u001b[0m\u001b[1;36m**Step 2**: Starting step 2\u001b[0m\u001b[1;36m                                                                                    \u001b[0m\u001b[1;36m \u001b[0m\u001b[1;36m│\u001b[0m\n",
       "\u001b[1;36m╰─────────────────────────────────────────────────────────────────────────────────────────────────────────────────╯\u001b[0m\n"
      ]
     },
     "metadata": {},
     "output_type": "display_data"
    },
    {
     "data": {
      "text/html": [
       "<pre style=\"white-space:pre;overflow-x:auto;line-height:normal;font-family:Menlo,'DejaVu Sans Mono',consolas,'Courier New',monospace\"><span style=\"color: #808000; text-decoration-color: #808000; font-weight: bold\">╭─────────────────────────────────────────────────</span><span style=\"color: #808000; text-decoration-color: #808000\"> Final Answer </span><span style=\"color: #808000; text-decoration-color: #808000; font-weight: bold\">──────────────────────────────────────────────────╮</span>\n",
       "<span style=\"color: #808000; text-decoration-color: #808000; font-weight: bold\">│</span><span style=\"color: #008000; text-decoration-color: #008000; font-weight: bold\"> ### Patient Summary                                                                                             </span><span style=\"color: #808000; text-decoration-color: #808000; font-weight: bold\">│</span>\n",
       "<span style=\"color: #808000; text-decoration-color: #808000; font-weight: bold\">│</span><span style=\"color: #008000; text-decoration-color: #008000; font-weight: bold\"> - **Patient Name**: Gloria Paul                                                                                 </span><span style=\"color: #808000; text-decoration-color: #808000; font-weight: bold\">│</span>\n",
       "<span style=\"color: #808000; text-decoration-color: #808000; font-weight: bold\">│</span><span style=\"color: #008000; text-decoration-color: #008000; font-weight: bold\"> - **Date of Birth**: July 15, 1944 (Age: 79)                                                                    </span><span style=\"color: #808000; text-decoration-color: #808000; font-weight: bold\">│</span>\n",
       "<span style=\"color: #808000; text-decoration-color: #808000; font-weight: bold\">│</span><span style=\"color: #008000; text-decoration-color: #008000; font-weight: bold\"> - **Medical Condition**: Hyperlipidemia                                                                         </span><span style=\"color: #808000; text-decoration-color: #808000; font-weight: bold\">│</span>\n",
       "<span style=\"color: #808000; text-decoration-color: #808000; font-weight: bold\">│</span><span style=\"color: #008000; text-decoration-color: #008000; font-weight: bold\"> - **Current Medication**: Atorvastatin                                                                          </span><span style=\"color: #808000; text-decoration-color: #808000; font-weight: bold\">│</span>\n",
       "<span style=\"color: #808000; text-decoration-color: #808000; font-weight: bold\">│</span><span style=\"color: #008000; text-decoration-color: #008000; font-weight: bold\"> - **Last Visit Date**: March 26, 2024                                                                           </span><span style=\"color: #808000; text-decoration-color: #808000; font-weight: bold\">│</span>\n",
       "<span style=\"color: #808000; text-decoration-color: #808000; font-weight: bold\">│</span><span style=\"color: #008000; text-decoration-color: #008000; font-weight: bold\"> - **Additional Details**:                                                                                       </span><span style=\"color: #808000; text-decoration-color: #808000; font-weight: bold\">│</span>\n",
       "<span style=\"color: #808000; text-decoration-color: #808000; font-weight: bold\">│</span><span style=\"color: #008000; text-decoration-color: #008000; font-weight: bold\">   - **Blood Pressure**: 120/79 mmHg                                                                             </span><span style=\"color: #808000; text-decoration-color: #808000; font-weight: bold\">│</span>\n",
       "<span style=\"color: #808000; text-decoration-color: #808000; font-weight: bold\">│</span><span style=\"color: #008000; text-decoration-color: #008000; font-weight: bold\">   - **Heart Rate**: 90 bpm                                                                                      </span><span style=\"color: #808000; text-decoration-color: #808000; font-weight: bold\">│</span>\n",
       "<span style=\"color: #808000; text-decoration-color: #808000; font-weight: bold\">│</span><span style=\"color: #008000; text-decoration-color: #008000; font-weight: bold\">   - **Weight**: 77.7 kg                                                                                         </span><span style=\"color: #808000; text-decoration-color: #808000; font-weight: bold\">│</span>\n",
       "<span style=\"color: #808000; text-decoration-color: #808000; font-weight: bold\">│</span><span style=\"color: #008000; text-decoration-color: #008000; font-weight: bold\">   - **Height**: 176.2 cm                                                                                        </span><span style=\"color: #808000; text-decoration-color: #808000; font-weight: bold\">│</span>\n",
       "<span style=\"color: #808000; text-decoration-color: #808000; font-weight: bold\">│</span><span style=\"color: #008000; text-decoration-color: #008000; font-weight: bold\">   - **Alcohol Consumption**: Light drinker (1-2 times a week)                                                   </span><span style=\"color: #808000; text-decoration-color: #808000; font-weight: bold\">│</span>\n",
       "<span style=\"color: #808000; text-decoration-color: #808000; font-weight: bold\">│</span><span style=\"color: #008000; text-decoration-color: #008000; font-weight: bold\">   - **Smoking Status**: Never smoked                                                                            </span><span style=\"color: #808000; text-decoration-color: #808000; font-weight: bold\">│</span>\n",
       "<span style=\"color: #808000; text-decoration-color: #808000; font-weight: bold\">│</span><span style=\"color: #008000; text-decoration-color: #008000; font-weight: bold\">   - **Blood Type**: O+                                                                                          </span><span style=\"color: #808000; text-decoration-color: #808000; font-weight: bold\">│</span>\n",
       "<span style=\"color: #808000; text-decoration-color: #808000; font-weight: bold\">│</span><span style=\"color: #008000; text-decoration-color: #008000; font-weight: bold\">                                                                                                                 </span><span style=\"color: #808000; text-decoration-color: #808000; font-weight: bold\">│</span>\n",
       "<span style=\"color: #808000; text-decoration-color: #808000; font-weight: bold\">│</span><span style=\"color: #008000; text-decoration-color: #008000; font-weight: bold\"> ### ACC Guidelines for Hyperlipidemia                                                                           </span><span style=\"color: #808000; text-decoration-color: #808000; font-weight: bold\">│</span>\n",
       "<span style=\"color: #808000; text-decoration-color: #808000; font-weight: bold\">│</span><span style=\"color: #008000; text-decoration-color: #008000; font-weight: bold\"> 1. **Recommendation for Statin Therapy**:                                                                       </span><span style=\"color: #808000; text-decoration-color: #808000; font-weight: bold\">│</span>\n",
       "<span style=\"color: #808000; text-decoration-color: #808000; font-weight: bold\">│</span><span style=\"color: #008000; text-decoration-color: #008000; font-weight: bold\">    - **Class I**: Treatment with a statin is recommended for all patients with extracranial carotid or          </span><span style=\"color: #808000; text-decoration-color: #808000; font-weight: bold\">│</span>\n",
       "<span style=\"color: #808000; text-decoration-color: #808000; font-weight: bold\">│</span><span style=\"color: #008000; text-decoration-color: #008000; font-weight: bold\"> vertebral atherosclerosis to reduce low-density lipoprotein (LDL) cholesterol below 100 mg/dL.                  </span><span style=\"color: #808000; text-decoration-color: #808000; font-weight: bold\">│</span>\n",
       "<span style=\"color: #808000; text-decoration-color: #808000; font-weight: bold\">│</span><span style=\"color: #008000; text-decoration-color: #008000; font-weight: bold\">    - **Class IIa**: It is reasonable to treat men and women aged 40 to 75 with moderate to severe               </span><span style=\"color: #808000; text-decoration-color: #808000; font-weight: bold\">│</span>\n",
       "<span style=\"color: #808000; text-decoration-color: #808000; font-weight: bold\">│</span><span style=\"color: #008000; text-decoration-color: #008000; font-weight: bold\"> hyperlipidemia with statins, particularly in those with an atherosclerotic cardiovascular disease (ASCVD) risk  </span><span style=\"color: #808000; text-decoration-color: #808000; font-weight: bold\">│</span>\n",
       "<span style=\"color: #808000; text-decoration-color: #808000; font-weight: bold\">│</span><span style=\"color: #008000; text-decoration-color: #008000; font-weight: bold\"> of 7.5% or higher.                                                                                              </span><span style=\"color: #808000; text-decoration-color: #808000; font-weight: bold\">│</span>\n",
       "<span style=\"color: #808000; text-decoration-color: #808000; font-weight: bold\">│</span><span style=\"color: #008000; text-decoration-color: #008000; font-weight: bold\">    - Consider additional therapies if LDL cholesterol does not achieve treatment goals with statins alone       </span><span style=\"color: #808000; text-decoration-color: #808000; font-weight: bold\">│</span>\n",
       "<span style=\"color: #808000; text-decoration-color: #808000; font-weight: bold\">│</span><span style=\"color: #008000; text-decoration-color: #008000; font-weight: bold\"> (e.g., added therapies like ezetimibe).                                                                         </span><span style=\"color: #808000; text-decoration-color: #808000; font-weight: bold\">│</span>\n",
       "<span style=\"color: #808000; text-decoration-color: #808000; font-weight: bold\">│</span><span style=\"color: #008000; text-decoration-color: #008000; font-weight: bold\">                                                                                                                 </span><span style=\"color: #808000; text-decoration-color: #808000; font-weight: bold\">│</span>\n",
       "<span style=\"color: #808000; text-decoration-color: #808000; font-weight: bold\">│</span><span style=\"color: #008000; text-decoration-color: #008000; font-weight: bold\"> ### FDA Updates on Hyperlipidemia Medications (February 2025)                                                   </span><span style=\"color: #808000; text-decoration-color: #808000; font-weight: bold\">│</span>\n",
       "<span style=\"color: #808000; text-decoration-color: #808000; font-weight: bold\">│</span><span style=\"color: #008000; text-decoration-color: #008000; font-weight: bold\"> - No new medications for hyperlipidemia were found in the FDA updates specific to that date. This indicates     </span><span style=\"color: #808000; text-decoration-color: #808000; font-weight: bold\">│</span>\n",
       "<span style=\"color: #808000; text-decoration-color: #808000; font-weight: bold\">│</span><span style=\"color: #008000; text-decoration-color: #008000; font-weight: bold\"> that there are currently no recent approvals for new therapeutic agents related to hyperlipidemia as of         </span><span style=\"color: #808000; text-decoration-color: #808000; font-weight: bold\">│</span>\n",
       "<span style=\"color: #808000; text-decoration-color: #808000; font-weight: bold\">│</span><span style=\"color: #008000; text-decoration-color: #008000; font-weight: bold\"> February 2025.                                                                                                  </span><span style=\"color: #808000; text-decoration-color: #808000; font-weight: bold\">│</span>\n",
       "<span style=\"color: #808000; text-decoration-color: #808000; font-weight: bold\">│</span><span style=\"color: #008000; text-decoration-color: #008000; font-weight: bold\">                                                                                                                 </span><span style=\"color: #808000; text-decoration-color: #808000; font-weight: bold\">│</span>\n",
       "<span style=\"color: #808000; text-decoration-color: #808000; font-weight: bold\">│</span><span style=\"color: #008000; text-decoration-color: #008000; font-weight: bold\"> ### Summary                                                                                                     </span><span style=\"color: #808000; text-decoration-color: #808000; font-weight: bold\">│</span>\n",
       "<span style=\"color: #808000; text-decoration-color: #808000; font-weight: bold\">│</span><span style=\"color: #008000; text-decoration-color: #008000; font-weight: bold\"> Gloria Paul, a 79-year-old woman with hyperlipidemia, is currently being treated with Atorvastatin, which       </span><span style=\"color: #808000; text-decoration-color: #808000; font-weight: bold\">│</span>\n",
       "<span style=\"color: #808000; text-decoration-color: #808000; font-weight: bold\">│</span><span style=\"color: #008000; text-decoration-color: #008000; font-weight: bold\"> aligns with the ACC guidelines that recommend statin therapy for such patients. According to the most recent    </span><span style=\"color: #808000; text-decoration-color: #808000; font-weight: bold\">│</span>\n",
       "<span style=\"color: #808000; text-decoration-color: #808000; font-weight: bold\">│</span><span style=\"color: #008000; text-decoration-color: #008000; font-weight: bold\"> guidelines, continuation of statin therapy is effective in managing hyperlipidemia. There are currently no new  </span><span style=\"color: #808000; text-decoration-color: #808000; font-weight: bold\">│</span>\n",
       "<span style=\"color: #808000; text-decoration-color: #808000; font-weight: bold\">│</span><span style=\"color: #008000; text-decoration-color: #008000; font-weight: bold\"> FDA-approved medications for hyperlipidemia as of February 2025, so her treatment regimen should remain         </span><span style=\"color: #808000; text-decoration-color: #808000; font-weight: bold\">│</span>\n",
       "<span style=\"color: #808000; text-decoration-color: #808000; font-weight: bold\">│</span><span style=\"color: #008000; text-decoration-color: #008000; font-weight: bold\"> effective under these guidelines until further updates arise.                                                   </span><span style=\"color: #808000; text-decoration-color: #808000; font-weight: bold\">│</span>\n",
       "<span style=\"color: #808000; text-decoration-color: #808000; font-weight: bold\">╰─────────────────────────────────────────────────────────────────────────────────────────────────────────────────╯</span>\n",
       "</pre>\n"
      ],
      "text/plain": [
       "\u001b[1;33m╭─\u001b[0m\u001b[1;33m────────────────────────────────────────────────\u001b[0m\u001b[33m Final Answer \u001b[0m\u001b[1;33m─────────────────────────────────────────────────\u001b[0m\u001b[1;33m─╮\u001b[0m\n",
       "\u001b[1;33m│\u001b[0m\u001b[1;32m \u001b[0m\u001b[1;32m### Patient Summary\u001b[0m\u001b[1;32m                                                                                            \u001b[0m\u001b[1;32m \u001b[0m\u001b[1;33m│\u001b[0m\n",
       "\u001b[1;33m│\u001b[0m\u001b[1;32m \u001b[0m\u001b[1;32m- **Patient Name**: Gloria Paul\u001b[0m\u001b[1;32m                                                                                \u001b[0m\u001b[1;32m \u001b[0m\u001b[1;33m│\u001b[0m\n",
       "\u001b[1;33m│\u001b[0m\u001b[1;32m \u001b[0m\u001b[1;32m- **Date of Birth**: July 15, 1944 (Age: 79)\u001b[0m\u001b[1;32m                                                                   \u001b[0m\u001b[1;32m \u001b[0m\u001b[1;33m│\u001b[0m\n",
       "\u001b[1;33m│\u001b[0m\u001b[1;32m \u001b[0m\u001b[1;32m- **Medical Condition**: Hyperlipidemia\u001b[0m\u001b[1;32m                                                                        \u001b[0m\u001b[1;32m \u001b[0m\u001b[1;33m│\u001b[0m\n",
       "\u001b[1;33m│\u001b[0m\u001b[1;32m \u001b[0m\u001b[1;32m- **Current Medication**: Atorvastatin\u001b[0m\u001b[1;32m                                                                         \u001b[0m\u001b[1;32m \u001b[0m\u001b[1;33m│\u001b[0m\n",
       "\u001b[1;33m│\u001b[0m\u001b[1;32m \u001b[0m\u001b[1;32m- **Last Visit Date**: March 26, 2024\u001b[0m\u001b[1;32m                                                                          \u001b[0m\u001b[1;32m \u001b[0m\u001b[1;33m│\u001b[0m\n",
       "\u001b[1;33m│\u001b[0m\u001b[1;32m \u001b[0m\u001b[1;32m- **Additional Details**:\u001b[0m\u001b[1;32m                                                                                      \u001b[0m\u001b[1;32m \u001b[0m\u001b[1;33m│\u001b[0m\n",
       "\u001b[1;33m│\u001b[0m\u001b[1;32m \u001b[0m\u001b[1;32m  - **Blood Pressure**: 120/79 mmHg\u001b[0m\u001b[1;32m                                                                            \u001b[0m\u001b[1;32m \u001b[0m\u001b[1;33m│\u001b[0m\n",
       "\u001b[1;33m│\u001b[0m\u001b[1;32m \u001b[0m\u001b[1;32m  - **Heart Rate**: 90 bpm\u001b[0m\u001b[1;32m                                                                                     \u001b[0m\u001b[1;32m \u001b[0m\u001b[1;33m│\u001b[0m\n",
       "\u001b[1;33m│\u001b[0m\u001b[1;32m \u001b[0m\u001b[1;32m  - **Weight**: 77.7 kg\u001b[0m\u001b[1;32m                                                                                        \u001b[0m\u001b[1;32m \u001b[0m\u001b[1;33m│\u001b[0m\n",
       "\u001b[1;33m│\u001b[0m\u001b[1;32m \u001b[0m\u001b[1;32m  - **Height**: 176.2 cm\u001b[0m\u001b[1;32m                                                                                       \u001b[0m\u001b[1;32m \u001b[0m\u001b[1;33m│\u001b[0m\n",
       "\u001b[1;33m│\u001b[0m\u001b[1;32m \u001b[0m\u001b[1;32m  - **Alcohol Consumption**: Light drinker (1-2 times a week)\u001b[0m\u001b[1;32m                                                  \u001b[0m\u001b[1;32m \u001b[0m\u001b[1;33m│\u001b[0m\n",
       "\u001b[1;33m│\u001b[0m\u001b[1;32m \u001b[0m\u001b[1;32m  - **Smoking Status**: Never smoked\u001b[0m\u001b[1;32m                                                                           \u001b[0m\u001b[1;32m \u001b[0m\u001b[1;33m│\u001b[0m\n",
       "\u001b[1;33m│\u001b[0m\u001b[1;32m \u001b[0m\u001b[1;32m  - **Blood Type**: O+\u001b[0m\u001b[1;32m                                                                                         \u001b[0m\u001b[1;32m \u001b[0m\u001b[1;33m│\u001b[0m\n",
       "\u001b[1;33m│\u001b[0m\u001b[1;32m \u001b[0m\u001b[1;32m                                                                                                               \u001b[0m\u001b[1;32m \u001b[0m\u001b[1;33m│\u001b[0m\n",
       "\u001b[1;33m│\u001b[0m\u001b[1;32m \u001b[0m\u001b[1;32m### ACC Guidelines for Hyperlipidemia\u001b[0m\u001b[1;32m                                                                          \u001b[0m\u001b[1;32m \u001b[0m\u001b[1;33m│\u001b[0m\n",
       "\u001b[1;33m│\u001b[0m\u001b[1;32m \u001b[0m\u001b[1;32m1. **Recommendation for Statin Therapy**:\u001b[0m\u001b[1;32m                                                                      \u001b[0m\u001b[1;32m \u001b[0m\u001b[1;33m│\u001b[0m\n",
       "\u001b[1;33m│\u001b[0m\u001b[1;32m \u001b[0m\u001b[1;32m   - **Class I**: Treatment with a statin is recommended for all patients with extracranial carotid or \u001b[0m\u001b[1;32m        \u001b[0m\u001b[1;32m \u001b[0m\u001b[1;33m│\u001b[0m\n",
       "\u001b[1;33m│\u001b[0m\u001b[1;32m \u001b[0m\u001b[1;32mvertebral atherosclerosis to reduce low-density lipoprotein (LDL) cholesterol below 100 mg/dL.\u001b[0m\u001b[1;32m                 \u001b[0m\u001b[1;32m \u001b[0m\u001b[1;33m│\u001b[0m\n",
       "\u001b[1;33m│\u001b[0m\u001b[1;32m \u001b[0m\u001b[1;32m   - **Class IIa**: It is reasonable to treat men and women aged 40 to 75 with moderate to severe \u001b[0m\u001b[1;32m             \u001b[0m\u001b[1;32m \u001b[0m\u001b[1;33m│\u001b[0m\n",
       "\u001b[1;33m│\u001b[0m\u001b[1;32m \u001b[0m\u001b[1;32mhyperlipidemia with statins, particularly in those with an atherosclerotic cardiovascular disease (ASCVD) risk \u001b[0m\u001b[1;32m \u001b[0m\u001b[1;33m│\u001b[0m\n",
       "\u001b[1;33m│\u001b[0m\u001b[1;32m \u001b[0m\u001b[1;32mof 7.5% or higher.\u001b[0m\u001b[1;32m                                                                                             \u001b[0m\u001b[1;32m \u001b[0m\u001b[1;33m│\u001b[0m\n",
       "\u001b[1;33m│\u001b[0m\u001b[1;32m \u001b[0m\u001b[1;32m   - Consider additional therapies if LDL cholesterol does not achieve treatment goals with statins alone \u001b[0m\u001b[1;32m     \u001b[0m\u001b[1;32m \u001b[0m\u001b[1;33m│\u001b[0m\n",
       "\u001b[1;33m│\u001b[0m\u001b[1;32m \u001b[0m\u001b[1;32m(e.g., added therapies like ezetimibe).\u001b[0m\u001b[1;32m                                                                        \u001b[0m\u001b[1;32m \u001b[0m\u001b[1;33m│\u001b[0m\n",
       "\u001b[1;33m│\u001b[0m\u001b[1;32m \u001b[0m\u001b[1;32m                                                                                                               \u001b[0m\u001b[1;32m \u001b[0m\u001b[1;33m│\u001b[0m\n",
       "\u001b[1;33m│\u001b[0m\u001b[1;32m \u001b[0m\u001b[1;32m### FDA Updates on Hyperlipidemia Medications (February 2025)\u001b[0m\u001b[1;32m                                                  \u001b[0m\u001b[1;32m \u001b[0m\u001b[1;33m│\u001b[0m\n",
       "\u001b[1;33m│\u001b[0m\u001b[1;32m \u001b[0m\u001b[1;32m- No new medications for hyperlipidemia were found in the FDA updates specific to that date. This indicates \u001b[0m\u001b[1;32m   \u001b[0m\u001b[1;32m \u001b[0m\u001b[1;33m│\u001b[0m\n",
       "\u001b[1;33m│\u001b[0m\u001b[1;32m \u001b[0m\u001b[1;32mthat there are currently no recent approvals for new therapeutic agents related to hyperlipidemia as of \u001b[0m\u001b[1;32m       \u001b[0m\u001b[1;32m \u001b[0m\u001b[1;33m│\u001b[0m\n",
       "\u001b[1;33m│\u001b[0m\u001b[1;32m \u001b[0m\u001b[1;32mFebruary 2025.\u001b[0m\u001b[1;32m                                                                                                 \u001b[0m\u001b[1;32m \u001b[0m\u001b[1;33m│\u001b[0m\n",
       "\u001b[1;33m│\u001b[0m\u001b[1;32m \u001b[0m\u001b[1;32m                                                                                                               \u001b[0m\u001b[1;32m \u001b[0m\u001b[1;33m│\u001b[0m\n",
       "\u001b[1;33m│\u001b[0m\u001b[1;32m \u001b[0m\u001b[1;32m### Summary\u001b[0m\u001b[1;32m                                                                                                    \u001b[0m\u001b[1;32m \u001b[0m\u001b[1;33m│\u001b[0m\n",
       "\u001b[1;33m│\u001b[0m\u001b[1;32m \u001b[0m\u001b[1;32mGloria Paul, a 79-year-old woman with hyperlipidemia, is currently being treated with Atorvastatin, which \u001b[0m\u001b[1;32m     \u001b[0m\u001b[1;32m \u001b[0m\u001b[1;33m│\u001b[0m\n",
       "\u001b[1;33m│\u001b[0m\u001b[1;32m \u001b[0m\u001b[1;32maligns with the ACC guidelines that recommend statin therapy for such patients. According to the most recent \u001b[0m\u001b[1;32m  \u001b[0m\u001b[1;32m \u001b[0m\u001b[1;33m│\u001b[0m\n",
       "\u001b[1;33m│\u001b[0m\u001b[1;32m \u001b[0m\u001b[1;32mguidelines, continuation of statin therapy is effective in managing hyperlipidemia. There are currently no new \u001b[0m\u001b[1;32m \u001b[0m\u001b[1;33m│\u001b[0m\n",
       "\u001b[1;33m│\u001b[0m\u001b[1;32m \u001b[0m\u001b[1;32mFDA-approved medications for hyperlipidemia as of February 2025, so her treatment regimen should remain \u001b[0m\u001b[1;32m       \u001b[0m\u001b[1;32m \u001b[0m\u001b[1;33m│\u001b[0m\n",
       "\u001b[1;33m│\u001b[0m\u001b[1;32m \u001b[0m\u001b[1;32meffective under these guidelines until further updates arise.\u001b[0m\u001b[1;32m                                                  \u001b[0m\u001b[1;32m \u001b[0m\u001b[1;33m│\u001b[0m\n",
       "\u001b[1;33m╰─────────────────────────────────────────────────────────────────────────────────────────────────────────────────╯\u001b[0m\n"
      ]
     },
     "metadata": {},
     "output_type": "display_data"
    }
   ],
   "source": [
    "run_multi_step_agent(\"I have a 79-year-old patient named Gloria Paul with hyperlipidemia. She's on Atorvastatin. Can you confirm her medical details from the database, check the ACC guidelines for hyperlipidemia, and see if there are any new medication updates from the FDA as of Feb 2025? Then give me a summary.\")"
   ]
  }
 ],
 "metadata": {
  "kernelspec": {
   "display_name": ".venv",
   "language": "python",
   "name": "python3"
  },
  "language_info": {
   "codemirror_mode": {
    "name": "ipython",
    "version": 3
   },
   "file_extension": ".py",
   "mimetype": "text/x-python",
   "name": "python",
   "nbconvert_exporter": "python",
   "pygments_lexer": "ipython3",
   "version": "3.13.2"
  }
 },
 "nbformat": 4,
 "nbformat_minor": 2
}
