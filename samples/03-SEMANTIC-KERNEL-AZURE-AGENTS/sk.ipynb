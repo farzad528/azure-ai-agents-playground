{
 "cells": [
  {
   "cell_type": "code",
   "execution_count": null,
   "metadata": {},
   "outputs": [
    {
     "ename": "",
     "evalue": "",
     "output_type": "error",
     "traceback": [
      "\u001b[1;31mThe kernel failed to start as the Python Environment '.venv (Python 3.13.2)' is no longer available. Consider selecting another kernel or refreshing the list of Python Environments."
     ]
    }
   ],
   "source": [
    "!pip install -r requirements.txt"
   ]
  },
  {
   "cell_type": "code",
   "execution_count": 18,
   "metadata": {},
   "outputs": [],
   "source": [
    "import asyncio\n",
    "import logging\n",
    "\n",
    "from azure.ai.projects.aio import AIProjectClient\n",
    "from azure.ai.projects.models import AzureAISearchTool, ConnectionType\n",
    "from azure.identity.aio import DefaultAzureCredential\n",
    "\n",
    "from semantic_kernel.agents.azure_ai import AzureAIAgent, AzureAIAgentSettings\n",
    "from semantic_kernel.contents.chat_message_content import ChatMessageContent\n",
    "from semantic_kernel.contents.utils.author_role import AuthorRole\n",
    "\n",
    "logging.basicConfig(level=logging.WARNING)\n"
   ]
  },
  {
   "cell_type": "code",
   "execution_count": null,
   "metadata": {},
   "outputs": [
    {
     "name": "stdout",
     "output_type": "stream",
     "text": [
      "🔍 Searching Azure docs...\n",
      "🤖 BQ can refer to several things depending on the context. In the realm of technology, it often stands for \"BigQuery,\" which is a data warehouse solution provided by Google Cloud for storing and analyzing large datasets. It enables users to run SQL-like queries on massive amounts of data.\n",
      "\n",
      "If you meant BQ in a different context, please provide more details, and I'll be happy to assist further!\n"
     ]
    }
   ],
   "source": [
    "import asyncio\n",
    "from azure.ai.projects.aio import AIProjectClient\n",
    "from azure.ai.projects.models import AzureAISearchTool, ConnectionType\n",
    "from azure.identity.aio import DefaultAzureCredential\n",
    "from semantic_kernel.agents.azure_ai import AzureAIAgent, AzureAIAgentSettings\n",
    "from semantic_kernel.contents.chat_message_content import ChatMessageContent\n",
    "from semantic_kernel.contents.utils.author_role import AuthorRole\n",
    "\n",
    "async def search_azure_docs(question: str):\n",
    "    # 1. Set up Azure connection\n",
    "    settings = AzureAIAgentSettings.create()\n",
    "    client = await AIProjectClient.from_connection_string(\n",
    "        credential=DefaultAzureCredential(),\n",
    "        conn_str=settings.project_connection_string.get_secret_value()\n",
    "    ).__aenter__()\n",
    "\n",
    "    # 2. Find our search connection\n",
    "    connections = await client.connections.list()\n",
    "    search_conn = next(\n",
    "        c.id for c in connections \n",
    "        if c.connection_type == ConnectionType.AZURE_AI_SEARCH\n",
    "    )\n",
    "\n",
    "    # 3. Create a search tool and agent\n",
    "    search_tool = AzureAISearchTool(\n",
    "        index_connection_id=search_conn,\n",
    "        index_name=\"azure-search-docs\"\n",
    "    )\n",
    "\n",
    "    agent = AzureAIAgent(\n",
    "        client=client,\n",
    "        definition=await client.agents.create_agent(\n",
    "            model=settings.model_deployment_name,\n",
    "            instructions=\"Help answer questions using Azure AI Search docs\",\n",
    "            tools=search_tool.definitions,\n",
    "            tool_resources=search_tool.resources,\n",
    "            headers={\"x-ms-enable-preview\": \"true\"}\n",
    "        )\n",
    "    )\n",
    "\n",
    "    # 4. Create chat thread and ask question\n",
    "    thread = await client.agents.create_thread()\n",
    "    await agent.add_chat_message(\n",
    "        thread_id=thread.id,\n",
    "        message=ChatMessageContent(\n",
    "            role=AuthorRole.USER,\n",
    "            content=question\n",
    "        )\n",
    "    )\n",
    "\n",
    "    # 5. Get answers!\n",
    "    async for response in agent.invoke(thread_id=thread.id):\n",
    "        if response.role != AuthorRole.TOOL:\n",
    "            print(f\"🤖 {response.content}\")\n",
    "\n",
    "# For Jupyter notebooks\n",
    "import nest_asyncio\n",
    "nest_asyncio.apply()\n",
    "\n",
    "# Run it!\n",
    "print(\"🔍 Searching Azure docs...\")\n",
    "asyncio.run(search_azure_docs(\"What is BQ?\"))"
   ]
  }
 ],
 "metadata": {
  "kernelspec": {
   "display_name": ".venv",
   "language": "python",
   "name": "python3"
  },
  "language_info": {
   "codemirror_mode": {
    "name": "ipython",
    "version": 3
   },
   "file_extension": ".py",
   "mimetype": "text/x-python",
   "name": "python",
   "nbconvert_exporter": "python",
   "pygments_lexer": "ipython3",
   "version": "3.13.2"
  }
 },
 "nbformat": 4,
 "nbformat_minor": 2
}
