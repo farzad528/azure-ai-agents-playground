{
 "cells": [
  {
   "cell_type": "code",
   "execution_count": null,
   "metadata": {},
   "outputs": [],
   "source": [
    "!pip install -r requirements.txt"
   ]
  },
  {
   "cell_type": "code",
   "execution_count": null,
   "metadata": {},
   "outputs": [],
   "source": [
    "import asyncio\n",
    "import logging\n",
    "\n",
    "from azure.ai.projects.aio import AIProjectClient\n",
    "from azure.ai.projects.models import AzureAISearchTool, ConnectionType\n",
    "from azure.identity.aio import DefaultAzureCredential\n",
    "\n",
    "from semantic_kernel.agents.azure_ai import AzureAIAgent, AzureAIAgentSettings\n",
    "from semantic_kernel.contents.chat_message_content import ChatMessageContent\n",
    "from semantic_kernel.contents.utils.author_role import AuthorRole\n",
    "\n",
    "logging.basicConfig(level=logging.WARNING)"
   ]
  },
  {
   "cell_type": "code",
   "execution_count": 3,
   "metadata": {},
   "outputs": [
    {
     "name": "stdout",
     "output_type": "stream",
     "text": [
      "🔍 Searching Azure docs...\n",
      "🤖 In Azure AI Search, \"BQ\" refers to Binary Quantization. It is a technique used to compress high-dimensional vectors by representing each component as a single bit (0 or 1), significantly reducing the memory footprint and speeding up vector comparison operations. This method is particularly effective for embeddings that are centered around zero and with dimensions greater than 1024. By utilizing BQ, the size of vector indices can be reduced by up to 96%, which enhances performance in search and retrieval tasks【3:0†source】.\n"
     ]
    }
   ],
   "source": [
    "import asyncio\n",
    "import os\n",
    "from dotenv import load_dotenv\n",
    "from azure.ai.projects.models import AzureAISearchTool\n",
    "from azure.identity.aio import AzureCliCredential\n",
    "from semantic_kernel.agents.azure_ai import AzureAIAgent, AzureAIAgentSettings\n",
    "from semantic_kernel.contents.chat_message_content import ChatMessageContent\n",
    "from semantic_kernel.contents.utils.author_role import AuthorRole\n",
    "\n",
    "# Load environment variables\n",
    "load_dotenv()\n",
    "\n",
    "async def search_azure_docs(question: str):\n",
    "    # Get configuration from environment variables\n",
    "    search_connection_name = os.getenv(\"AI_SEARCH_CONNECTION_NAME\", \"fsunavalaaisearch\")\n",
    "    index_name = os.getenv(\"AI_SEARCH_INDEX_NAME\", \"default\")\n",
    "    \n",
    "    # Set up agent settings\n",
    "    settings = AzureAIAgentSettings.create()\n",
    "    \n",
    "    async with AzureCliCredential() as creds, AzureAIAgent.create_client(\n",
    "        credential=creds,\n",
    "        conn_str=settings.project_connection_string.get_secret_value(),\n",
    "    ) as client:\n",
    "        # Find search connection by name\n",
    "        connections = await client.connections.list()\n",
    "        search_conn = next((c.id for c in connections if getattr(c, 'name', '') == search_connection_name), None)\n",
    "        \n",
    "        if not search_conn:\n",
    "            raise ValueError(f\"Connection '{search_connection_name}' not found\")\n",
    "\n",
    "        # Create search tool and agent\n",
    "        search_tool = AzureAISearchTool(\n",
    "            index_connection_id=search_conn,\n",
    "            index_name=index_name\n",
    "        )\n",
    "\n",
    "        agent = AzureAIAgent(\n",
    "            client=client,\n",
    "            definition=await client.agents.create_agent(\n",
    "                model=settings.model_deployment_name,\n",
    "                instructions=\"You are an Azure AI Search expert. Use the Azure AI Search Tool to provide accurate, concise answers about Azure AI Search documentation.\",\n",
    "                tools=search_tool.definitions,\n",
    "                tool_resources=search_tool.resources,\n",
    "                headers={\"x-ms-enable-preview\": \"true\"}\n",
    "            )\n",
    "        )\n",
    "\n",
    "        # Set up conversation\n",
    "        thread = await client.agents.create_thread()\n",
    "        await agent.add_chat_message(\n",
    "            thread_id=thread.id,\n",
    "            message=ChatMessageContent(role=AuthorRole.USER, content=question)\n",
    "        )\n",
    "\n",
    "        # Process query and cleanup\n",
    "        try:\n",
    "            async for response in agent.invoke(thread_id=thread.id):\n",
    "                if response.role != AuthorRole.TOOL:\n",
    "                    print(f\"🤖 {response.content}\")\n",
    "        finally:\n",
    "            # Clean up resources\n",
    "            await client.agents.delete_thread(thread.id)\n",
    "            await client.agents.delete_agent(agent.id)\n",
    "\n",
    "if __name__ == \"__main__\":\n",
    "    # For Jupyter notebooks\n",
    "    import nest_asyncio\n",
    "    nest_asyncio.apply()\n",
    "    \n",
    "    print(\"🔍 Searching Azure AI Search docs...\")\n",
    "    asyncio.run(search_azure_docs(\"What is BQ in Azure AI Search\"))"
   ]
  }
 ],
 "metadata": {
  "kernelspec": {
   "display_name": ".venv",
   "language": "python",
   "name": "python3"
  },
  "language_info": {
   "codemirror_mode": {
    "name": "ipython",
    "version": 3
   },
   "file_extension": ".py",
   "mimetype": "text/x-python",
   "name": "python",
   "nbconvert_exporter": "python",
   "pygments_lexer": "ipython3",
   "version": "3.13.2"
  }
 },
 "nbformat": 4,
 "nbformat_minor": 2
}
